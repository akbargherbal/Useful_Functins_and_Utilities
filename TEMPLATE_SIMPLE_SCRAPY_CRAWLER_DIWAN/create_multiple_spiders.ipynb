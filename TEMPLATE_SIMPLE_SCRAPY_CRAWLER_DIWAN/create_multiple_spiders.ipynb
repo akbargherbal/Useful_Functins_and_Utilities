{
 "cells": [
  {
   "cell_type": "code",
   "execution_count": 1,
   "metadata": {},
   "outputs": [],
   "source": [
    "import os\n",
    "import regex as re"
   ]
  },
  {
   "cell_type": "code",
   "execution_count": 2,
   "metadata": {},
   "outputs": [],
   "source": [
    "file_path = []\n",
    "for root, dirs, files in os.walk('diwan/'):\n",
    "    for file in files:\n",
    "        file_path.append(\n",
    "        os.path.abspath(os.path.join(root, file))\n",
    "        )\n",
    "file_path = [i for i in file_path if i.endswith('poem.py')]"
   ]
  },
  {
   "cell_type": "code",
   "execution_count": 3,
   "metadata": {},
   "outputs": [],
   "source": [
    "file_path = file_path[0]"
   ]
  },
  {
   "cell_type": "code",
   "execution_count": 4,
   "metadata": {},
   "outputs": [
    {
     "data": {
      "text/plain": [
       "'/home/jupyter/gcp_SCRAPING_ALDIWAN/diwan/diwan/spiders/poem.py'"
      ]
     },
     "execution_count": 4,
     "metadata": {},
     "output_type": "execute_result"
    }
   ],
   "source": [
    "file_path"
   ]
  },
  {
   "cell_type": "code",
   "execution_count": 5,
   "metadata": {},
   "outputs": [
    {
     "name": "stdout",
     "output_type": "stream",
     "text": [
      "name = 'poem' \t name = 'poem_01'\n",
      "name = 'poem' \t name = 'poem_02'\n",
      "name = 'poem' \t name = 'poem_03'\n",
      "name = 'poem' \t name = 'poem_04'\n",
      "name = 'poem' \t name = 'poem_05'\n",
      "name = 'poem' \t name = 'poem_06'\n",
      "name = 'poem' \t name = 'poem_07'\n",
      "name = 'poem' \t name = 'poem_08'\n",
      "name = 'poem' \t name = 'poem_09'\n",
      "name = 'poem' \t name = 'poem_10'\n"
     ]
    }
   ],
   "source": [
    "old_pat_01 = \"name = 'poem'\"\n",
    "old_pat_02 = 'low, high = 25, 100'\n",
    "with open(file_path, encoding='utf-8') as py_file:\n",
    "    py_content = py_file.read()\n",
    "    for i in range(10):\n",
    "        low = (i)  * 10_000\n",
    "        high = (i+1) *10_000\n",
    "        suffix = str((i+1)).zfill(2)\n",
    "        \n",
    "        new_file_name = f'poem_{suffix}.py'\n",
    "        \n",
    "        new_pat_01 = f\"name = 'poem_{suffix}'\"\n",
    "        print(old_pat_01, '\\t', new_pat_01)\n",
    "        new_pat_02 = f'low, high = {low}, {high}'\n",
    "        \n",
    "        new_content = py_content.replace(old_pat_01, new_pat_01)\n",
    "        new_content = new_content.replace(old_pat_02, new_pat_02)\n",
    "        \n",
    "        with open(new_file_name, encoding='utf-8', mode='w') as new_py_file:\n",
    "            new_py_file.write(new_content)"
   ]
  },
  {
   "cell_type": "code",
   "execution_count": null,
   "metadata": {},
   "outputs": [],
   "source": []
  },
  {
   "cell_type": "code",
   "execution_count": null,
   "metadata": {},
   "outputs": [],
   "source": []
  },
  {
   "cell_type": "code",
   "execution_count": null,
   "metadata": {},
   "outputs": [],
   "source": []
  },
  {
   "cell_type": "code",
   "execution_count": null,
   "metadata": {},
   "outputs": [],
   "source": []
  },
  {
   "cell_type": "code",
   "execution_count": null,
   "metadata": {},
   "outputs": [],
   "source": []
  },
  {
   "cell_type": "code",
   "execution_count": null,
   "metadata": {},
   "outputs": [],
   "source": []
  },
  {
   "cell_type": "code",
   "execution_count": null,
   "metadata": {},
   "outputs": [],
   "source": []
  },
  {
   "cell_type": "code",
   "execution_count": null,
   "metadata": {},
   "outputs": [],
   "source": []
  }
 ],
 "metadata": {
  "environment": {
   "kernel": "python3",
   "name": "common-cpu.m91",
   "type": "gcloud",
   "uri": "gcr.io/deeplearning-platform-release/base-cpu:m91"
  },
  "kernelspec": {
   "display_name": "Python 3",
   "language": "python",
   "name": "python3"
  },
  "language_info": {
   "codemirror_mode": {
    "name": "ipython",
    "version": 3
   },
   "file_extension": ".py",
   "mimetype": "text/x-python",
   "name": "python",
   "nbconvert_exporter": "python",
   "pygments_lexer": "ipython3",
   "version": "3.7.12"
  }
 },
 "nbformat": 4,
 "nbformat_minor": 4
}
