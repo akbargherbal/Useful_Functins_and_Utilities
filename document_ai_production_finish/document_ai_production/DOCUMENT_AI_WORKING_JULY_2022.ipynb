{
 "cells": [
  {
   "cell_type": "code",
   "execution_count": 1,
   "id": "a0ee909b-e587-4eb7-bca9-20f7a1da0948",
   "metadata": {},
   "outputs": [
    {
     "data": {
      "text/plain": [
       "'/home/jupyter/document_ai_production'"
      ]
     },
     "execution_count": 1,
     "metadata": {},
     "output_type": "execute_result"
    }
   ],
   "source": [
    "pwd"
   ]
  },
  {
   "cell_type": "code",
   "execution_count": 2,
   "id": "9a90b185-93b0-4802-b6fa-4aaca6247737",
   "metadata": {},
   "outputs": [
    {
     "name": "stdout",
     "output_type": "stream",
     "text": [
      "total 44K\n",
      "8.0K DOCUMENT_AI_WORKING_JULY_2022.ipynb\n",
      "8.0K document_ai_Working_GAMMA_process_json_documentai_response.ipynb\n",
      " 12K log_documentai--08--53--07--4_7_2022.log\n",
      "4.0K log_documentai--09--08--39--4_7_2022.log\n",
      "4.0K log_documentai--09--10--24--4_7_2022.log\n",
      "4.0K log_documentai--10--12--06--4_7_2022.log\n",
      "4.0K log_documentai--10--12--50--4_7_2022.log\n"
     ]
    }
   ],
   "source": [
    "!ls -sh"
   ]
  },
  {
   "cell_type": "code",
   "execution_count": null,
   "id": "9c7072bc-61fc-438d-887b-4519c4f1d334",
   "metadata": {},
   "outputs": [],
   "source": []
  },
  {
   "cell_type": "code",
   "execution_count": null,
   "id": "d1b2c936-e018-4050-8dd4-cba0bbee114d",
   "metadata": {},
   "outputs": [],
   "source": []
  },
  {
   "cell_type": "code",
   "execution_count": 13,
   "id": "16f01754-2632-438f-9bde-6f50ea14271d",
   "metadata": {},
   "outputs": [],
   "source": [
    "import pandas as pd"
   ]
  },
  {
   "cell_type": "code",
   "execution_count": 11,
   "id": "35f65e81-39d1-4591-8411-2b0f5b2c99ee",
   "metadata": {},
   "outputs": [],
   "source": [
    "import json"
   ]
  },
  {
   "cell_type": "code",
   "execution_count": 12,
   "id": "d3a8ee72-ffa2-4311-86d5-29d954fa9813",
   "metadata": {},
   "outputs": [],
   "source": [
    "import regex as re"
   ]
  },
  {
   "cell_type": "code",
   "execution_count": 3,
   "id": "c02ef8d1-5b5f-43c0-9680-8080c0b0771c",
   "metadata": {},
   "outputs": [
    {
     "name": "stdout",
     "output_type": "stream",
     "text": [
      "Starting...\n",
      "Current Time = 10:13:22.169048\n"
     ]
    }
   ],
   "source": [
    "from datetime import datetime\n",
    "def time_now():\n",
    "    '''Get Current Time'''\n",
    "    \n",
    "    now = datetime.now()\n",
    "    current_time = now.strftime(\"%H:%M:%S.%f\")\n",
    "    print(\"Current Time =\", current_time)\n",
    "    return now\n",
    "\n",
    "\n",
    "############\n",
    "print('Starting...')\n",
    "start = time_now()\n",
    "############\n"
   ]
  },
  {
   "cell_type": "code",
   "execution_count": 4,
   "id": "a7db5f9b-3a7a-46de-83c1-18262b14a73d",
   "metadata": {},
   "outputs": [],
   "source": [
    "def create_file_name_time(file_prefix = 'NLP_RESULTS', file_time='datetime object'):\n",
    "    file_name = f'{str(file_time.hour).zfill(2)}--{str(file_time.minute).zfill(2)}--{str(file_time.second).zfill(2)}--{file_time.day}_{file_time.month}_{file_time.year}'\n",
    "    file_name = f'{file_prefix}--{file_name}'\n",
    "    return file_name"
   ]
  },
  {
   "cell_type": "code",
   "execution_count": null,
   "id": "86223311-1860-4e3c-958d-fa1005933498",
   "metadata": {},
   "outputs": [],
   "source": []
  },
  {
   "cell_type": "code",
   "execution_count": 5,
   "id": "799bd124-c2c2-4d5c-9376-73d188ccdef0",
   "metadata": {},
   "outputs": [],
   "source": [
    "\n",
    "project_id = 'lexical-period-346812'.strip()\n",
    "location = 'us'\n",
    "processor_id = 'a23e259771b350c3'.strip()\n",
    "bucket_name = 'sheikh-fitzgerald'.strip()\n",
    "input_prefix = 'document_ai_input/'.strip()\n",
    "output_prefix = 'document_ai_just_made_it_now/'.strip()\n",
    "\n",
    "from google.cloud import documentai_v1 as documentai\n",
    "from google.cloud.documentai_v1.types import document\n"
   ]
  },
  {
   "cell_type": "code",
   "execution_count": null,
   "id": "e5748bff-d175-4627-bf91-ed0b2f2609fa",
   "metadata": {},
   "outputs": [],
   "source": []
  },
  {
   "cell_type": "code",
   "execution_count": 6,
   "id": "2d5257e6-b923-4ef6-839e-5dc8d3509eb7",
   "metadata": {},
   "outputs": [],
   "source": [
    "log_file_name =  create_file_name_time('log_documentai', start)"
   ]
  },
  {
   "cell_type": "code",
   "execution_count": 7,
   "id": "997ffb25-4af4-4536-8c3a-226211ad1e79",
   "metadata": {},
   "outputs": [],
   "source": [
    "import logging\n",
    "logging.basicConfig(\n",
    "    level=logging.DEBUG,\n",
    "    format='{asctime} {levelname:<8} {message}',\n",
    "    style='{',\n",
    "    filename=f'{log_file_name}.log',\n",
    "    filemode='w')"
   ]
  },
  {
   "cell_type": "code",
   "execution_count": 8,
   "id": "d897ba80-8421-415e-8876-cde8d4c20bb1",
   "metadata": {},
   "outputs": [],
   "source": [
    "logging.debug(f'{input_prefix}')\n",
    "logging.debug(f'{output_prefix}')"
   ]
  },
  {
   "cell_type": "code",
   "execution_count": null,
   "id": "4c7fd80a-dfee-49a2-a353-63b20fccd0c2",
   "metadata": {},
   "outputs": [],
   "source": []
  },
  {
   "cell_type": "code",
   "execution_count": null,
   "id": "8e1a91fc-6b30-492a-9059-3e8cbcb94f68",
   "metadata": {},
   "outputs": [],
   "source": []
  },
  {
   "cell_type": "code",
   "execution_count": 9,
   "id": "4dd062e7-b772-4672-acbc-a9812caf2134",
   "metadata": {},
   "outputs": [],
   "source": [
    "def setup_and_scan():\n",
    "    opts = {\"api_endpoint\": f\"{location}-documentai.googleapis.com\"}\n",
    "    docai = documentai.DocumentProcessorServiceClient(client_options=opts)\n",
    "\n",
    "    # define the documents to scan in\n",
    "    # input_files = documentai.GcsPrefix(gcs_uri_prefix=input_prefix)\n",
    "    input_files = documentai.GcsPrefix(gcs_uri_prefix=f\"gs://{bucket_name}/{input_prefix}\")\n",
    "    input_config = documentai.BatchDocumentsInputConfig(gcs_prefix=input_files)\n",
    "    \n",
    "    logging.debug(f'INPUT_FILES: {input_files}')\n",
    "    logging.debug(f'INPUT_CONFIG: {input_config}')\n",
    "\n",
    "    # define the output location\n",
    "    destination_uri = f\"gs://{bucket_name}/{output_prefix}\"\n",
    "    output_config = documentai.DocumentOutputConfig(gcs_output_config={\"gcs_uri\": destination_uri})\n",
    "    \n",
    "    logging.debug(f'{\"destination_uri\".upper()}: {destination_uri}')\n",
    "    logging.debug(f'{\"output_config\".upper()}: {output_config}')\n",
    "\n",
    "    # define and submit the request\n",
    "    request = documentai.BatchProcessRequest(\n",
    "        name=f\"projects/{project_id}/locations/{location}/processors/{processor_id}\",\n",
    "        input_documents=input_config,\n",
    "        document_output_config=output_config\n",
    "    )\n",
    "    result = docai.batch_process_documents(request)\n",
    "    \n",
    "    print(f\"RESULT IN BUCKET: {destination_uri}\")\n",
    "    return destination_uri\n"
   ]
  },
  {
   "cell_type": "code",
   "execution_count": null,
   "id": "e309ca80-c328-4a1a-a958-04a835f3a80a",
   "metadata": {},
   "outputs": [],
   "source": []
  },
  {
   "cell_type": "code",
   "execution_count": 10,
   "id": "4283d064-0149-41fc-ae47-54dba83dc975",
   "metadata": {},
   "outputs": [
    {
     "name": "stdout",
     "output_type": "stream",
     "text": [
      "RESULT IN BUCKET: gs://sheikh-fitzgerald/document_ai_just_made_it_now/\n"
     ]
    }
   ],
   "source": [
    "ocr_folder = setup_and_scan()"
   ]
  },
  {
   "cell_type": "code",
   "execution_count": null,
   "id": "f02bf8d7-44df-4959-b61b-40284d94508a",
   "metadata": {},
   "outputs": [],
   "source": []
  },
  {
   "cell_type": "code",
   "execution_count": 15,
   "id": "2cc4839b-c71e-4712-bf31-48d3510e09ca",
   "metadata": {},
   "outputs": [
    {
     "name": "stdout",
     "output_type": "stream",
     "text": [
      "Copying gs://sheikh-fitzgerald/document_ai_just_made_it_now/9128179475080842369/0/document_ai_sample-0.json...\n",
      "/ [1 files][  6.1 MiB/  6.1 MiB]                                                \n",
      "Operation completed over 1 objects/6.1 MiB.                                      \n"
     ]
    }
   ],
   "source": [
    "!gsutil cp -r gs://sheikh-fitzgerald/document_ai_just_made_it_now/ . "
   ]
  },
  {
   "cell_type": "code",
   "execution_count": 18,
   "id": "1c59fab3-e9cd-450e-bee3-fe374a608cb0",
   "metadata": {},
   "outputs": [
    {
     "data": {
      "text/plain": [
       "'/home/jupyter/document_ai_production'"
      ]
     },
     "execution_count": 18,
     "metadata": {},
     "output_type": "execute_result"
    }
   ],
   "source": [
    "pwd()"
   ]
  },
  {
   "cell_type": "code",
   "execution_count": 19,
   "id": "5dd3e512-51af-4d2e-a033-73a6cdda0e39",
   "metadata": {},
   "outputs": [],
   "source": [
    "with open('./document_ai_just_made_it_now/9128179475080842369/0/document_ai_sample-0.json' , encoding='utf-8') as jf:\n",
    "    data = json.load(jf)"
   ]
  },
  {
   "cell_type": "code",
   "execution_count": null,
   "id": "3e698fb0-3f4e-4cfb-831b-b182de15d9f8",
   "metadata": {},
   "outputs": [],
   "source": []
  },
  {
   "cell_type": "code",
   "execution_count": 23,
   "id": "8f7bce55-3571-4507-b58b-a23188bf42da",
   "metadata": {},
   "outputs": [],
   "source": [
    "def blocks_text(data_):\n",
    "    text_ = data_['text']\n",
    "    container = []\n",
    "    for page in data_['pages']:\n",
    "        for k,v in page.items(): # dict\n",
    "            for layout in page['blocks']:\n",
    "                container.append(\n",
    "                layout_to_text(layout, text_)\n",
    "                )\n",
    "    return container\n",
    "\n",
    "\n",
    "def layout_to_text(layout, text_):\n",
    "    \"\"\"\n",
    "    Document AI identifies text in different parts of the document by their\n",
    "    offsets in the entirity of the document's text. This function converts\n",
    "    offsets to a string.\n",
    "    \"\"\"\n",
    "    response = \"\"\n",
    "    for segment in layout['layout']['textAnchor']['textSegments']:\n",
    "        start_index = int(segment.get('startIndex', \"0\"))\n",
    "        end_index = int(segment['endIndex'])\n",
    "        response += text_[start_index:end_index]\n",
    "\n",
    "    return response"
   ]
  },
  {
   "cell_type": "code",
   "execution_count": 24,
   "id": "a88274c3-4443-4e7a-a987-db008c9d4e04",
   "metadata": {},
   "outputs": [],
   "source": [
    "import os"
   ]
  },
  {
   "cell_type": "code",
   "execution_count": 25,
   "id": "20ba8f06-f2f5-4a3e-b283-0c63a6f60b31",
   "metadata": {},
   "outputs": [
    {
     "data": {
      "text/plain": [
       "'/home/jupyter/document_ai_production'"
      ]
     },
     "execution_count": 25,
     "metadata": {},
     "output_type": "execute_result"
    }
   ],
   "source": [
    "os.getcwd()"
   ]
  },
  {
   "cell_type": "code",
   "execution_count": 28,
   "id": "ad9e11e0-8040-4dbe-81fb-e1be189d6851",
   "metadata": {},
   "outputs": [],
   "source": [
    "from google.cloud import storage\n",
    "\n",
    "bucket_name = bucket_name\n",
    "prefix = output_prefix\n",
    "dl_dir = os.getcwd()\n",
    "\n",
    "storage_client = storage.Client()\n",
    "bucket = storage_client.get_bucket(bucket_name)\n",
    "blobs = bucket.list_blobs(prefix=prefix)  # Get list of files\n",
    "for blob in blobs:\n",
    "    filename = blob.name.replace('/', '_') \n",
    "    blob.download_to_filename(dl_dir + filename)  # Download"
   ]
  },
  {
   "cell_type": "code",
   "execution_count": null,
   "id": "c2e67415-d9f9-4bef-a03f-fc0caa7e92b2",
   "metadata": {},
   "outputs": [],
   "source": []
  },
  {
   "cell_type": "code",
   "execution_count": null,
   "id": "cdc393bf-d8e3-4508-89d1-19a1ede78a68",
   "metadata": {},
   "outputs": [],
   "source": []
  }
 ],
 "metadata": {
  "environment": {
   "kernel": "python3",
   "name": "common-cpu.m93",
   "type": "gcloud",
   "uri": "gcr.io/deeplearning-platform-release/base-cpu:m93"
  },
  "kernelspec": {
   "display_name": "Python 3",
   "language": "python",
   "name": "python3"
  },
  "language_info": {
   "codemirror_mode": {
    "name": "ipython",
    "version": 3
   },
   "file_extension": ".py",
   "mimetype": "text/x-python",
   "name": "python",
   "nbconvert_exporter": "python",
   "pygments_lexer": "ipython3",
   "version": "3.7.12"
  }
 },
 "nbformat": 4,
 "nbformat_minor": 5
}
