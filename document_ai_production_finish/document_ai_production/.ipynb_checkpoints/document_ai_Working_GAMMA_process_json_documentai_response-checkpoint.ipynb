{
 "cells": [
  {
   "cell_type": "code",
   "execution_count": 1,
   "id": "0eb82bdc-6602-40c8-bbf4-550ac43c6f96",
   "metadata": {},
   "outputs": [],
   "source": [
    "import json"
   ]
  },
  {
   "cell_type": "code",
   "execution_count": 2,
   "id": "6679537b-deba-44a3-85f7-aca3fc60a88d",
   "metadata": {},
   "outputs": [],
   "source": [
    "import regex as re"
   ]
  },
  {
   "cell_type": "code",
   "execution_count": 3,
   "id": "f31aa158-6c2c-497d-bab5-836eb32304c1",
   "metadata": {},
   "outputs": [],
   "source": [
    "with open('./document_ai_sample-0.json', encoding='utf-8') as jf:\n",
    "    data = json.load(jf)"
   ]
  },
  {
   "cell_type": "code",
   "execution_count": 4,
   "id": "f8a820ba-a5a9-41b0-a41d-71c0cb190618",
   "metadata": {},
   "outputs": [],
   "source": [
    "import pandas as pd"
   ]
  },
  {
   "cell_type": "code",
   "execution_count": 5,
   "id": "41905843-9b93-4457-9696-d15c8864f950",
   "metadata": {},
   "outputs": [],
   "source": [
    "all_text = data['text']"
   ]
  },
  {
   "cell_type": "code",
   "execution_count": null,
   "id": "e9669209-bf25-42c7-bb82-d110889e17e3",
   "metadata": {},
   "outputs": [],
   "source": []
  },
  {
   "cell_type": "code",
   "execution_count": 9,
   "id": "97acd792-3127-4d77-80d7-a805b7b7f793",
   "metadata": {},
   "outputs": [],
   "source": [
    "def print_blocks(data_):\n",
    "    text_ = data_['text']\n",
    "    container = []\n",
    "    for page in data_['pages']:\n",
    "        for k,v in page.items(): # dict\n",
    "            for layout in page['blocks']:\n",
    "                container.append(\n",
    "                layout_to_text(layout, text_)\n",
    "                )\n",
    "    return container\n",
    "\n",
    "\n",
    "def layout_to_text(layout, text_):\n",
    "    \"\"\"\n",
    "    Document AI identifies text in different parts of the document by their\n",
    "    offsets in the entirity of the document's text. This function converts\n",
    "    offsets to a string.\n",
    "    \"\"\"\n",
    "    response = \"\"\n",
    "    for segment in layout['layout']['textAnchor']['textSegments']:\n",
    "        start_index = int(segment.get('startIndex', \"0\"))\n",
    "        end_index = int(segment['endIndex'])\n",
    "        response += text_[start_index:end_index]\n",
    "\n",
    "    return response"
   ]
  },
  {
   "cell_type": "code",
   "execution_count": null,
   "id": "454e1377-8e39-4108-ac3d-de45be44bab4",
   "metadata": {},
   "outputs": [],
   "source": []
  },
  {
   "cell_type": "code",
   "execution_count": null,
   "id": "43a5e6ab-f97d-4e79-8062-8c5bec74ea5c",
   "metadata": {
    "tags": []
   },
   "outputs": [],
   "source": []
  },
  {
   "cell_type": "code",
   "execution_count": 11,
   "id": "0f2fab2e-afae-45d9-8e41-95837f1e259f",
   "metadata": {},
   "outputs": [],
   "source": [
    "test_blocks = print_blocks(data)"
   ]
  },
  {
   "cell_type": "code",
   "execution_count": null,
   "id": "4ab884a5-48aa-4139-9e4b-668148a3b9f1",
   "metadata": {},
   "outputs": [],
   "source": []
  },
  {
   "cell_type": "code",
   "execution_count": null,
   "id": "70cf11d0-abcc-4123-849e-1a2c48c70418",
   "metadata": {},
   "outputs": [],
   "source": []
  },
  {
   "cell_type": "code",
   "execution_count": null,
   "id": "c8609481-4567-4145-8167-44f1561af1cc",
   "metadata": {},
   "outputs": [],
   "source": []
  },
  {
   "cell_type": "code",
   "execution_count": null,
   "id": "c14c2e91-1135-417f-a7c4-56b8b5a5e8f2",
   "metadata": {},
   "outputs": [],
   "source": []
  }
 ],
 "metadata": {
  "environment": {
   "kernel": "python3",
   "name": "common-cpu.m93",
   "type": "gcloud",
   "uri": "gcr.io/deeplearning-platform-release/base-cpu:m93"
  },
  "kernelspec": {
   "display_name": "Python 3",
   "language": "python",
   "name": "python3"
  },
  "language_info": {
   "codemirror_mode": {
    "name": "ipython",
    "version": 3
   },
   "file_extension": ".py",
   "mimetype": "text/x-python",
   "name": "python",
   "nbconvert_exporter": "python",
   "pygments_lexer": "ipython3",
   "version": "3.7.12"
  }
 },
 "nbformat": 4,
 "nbformat_minor": 5
}
