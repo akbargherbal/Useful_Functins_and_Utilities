{
 "cells": [
  {
   "cell_type": "code",
   "execution_count": 34,
   "id": "a0ee909b-e587-4eb7-bca9-20f7a1da0948",
   "metadata": {},
   "outputs": [
    {
     "data": {
      "text/plain": [
       "'/home/jupyter/document_ai_production'"
      ]
     },
     "execution_count": 34,
     "metadata": {},
     "output_type": "execute_result"
    }
   ],
   "source": [
    "pwd"
   ]
  },
  {
   "cell_type": "code",
   "execution_count": 35,
   "id": "9a90b185-93b0-4802-b6fa-4aaca6247737",
   "metadata": {},
   "outputs": [
    {
     "name": "stdout",
     "output_type": "stream",
     "text": [
      "total 24K\n",
      " 12K DOCUMENT_AI_WORKING_JULY_2022.ipynb\n",
      "8.0K document_ai_Working_GAMMA_process_json_documentai_response.ipynb\n",
      "4.0K log_documentai--08--53--07--4_7_2022.log\n"
     ]
    }
   ],
   "source": [
    "!ls -sh"
   ]
  },
  {
   "cell_type": "code",
   "execution_count": null,
   "id": "9c7072bc-61fc-438d-887b-4519c4f1d334",
   "metadata": {},
   "outputs": [],
   "source": []
  },
  {
   "cell_type": "code",
   "execution_count": null,
   "id": "d1b2c936-e018-4050-8dd4-cba0bbee114d",
   "metadata": {},
   "outputs": [],
   "source": []
  },
  {
   "cell_type": "code",
   "execution_count": 36,
   "id": "c02ef8d1-5b5f-43c0-9680-8080c0b0771c",
   "metadata": {},
   "outputs": [
    {
     "name": "stdout",
     "output_type": "stream",
     "text": [
      "Starting...\n",
      "Current Time = 08:56:43.832065\n"
     ]
    }
   ],
   "source": [
    "from datetime import datetime\n",
    "def time_now():\n",
    "    '''Get Current Time'''\n",
    "    \n",
    "    now = datetime.now()\n",
    "    current_time = now.strftime(\"%H:%M:%S.%f\")\n",
    "    print(\"Current Time =\", current_time)\n",
    "    return now\n",
    "\n",
    "\n",
    "############\n",
    "print('Starting...')\n",
    "start = time_now()\n",
    "############\n"
   ]
  },
  {
   "cell_type": "code",
   "execution_count": 37,
   "id": "a7db5f9b-3a7a-46de-83c1-18262b14a73d",
   "metadata": {},
   "outputs": [],
   "source": [
    "def create_file_name_time(file_prefix = 'NLP_RESULTS', file_time='datetime object'):\n",
    "    file_name = f'{str(file_time.hour).zfill(2)}--{str(file_time.minute).zfill(2)}--{str(file_time.second).zfill(2)}--{file_time.day}_{file_time.month}_{file_time.year}'\n",
    "    file_name = f'{file_prefix}--{file_name}'\n",
    "    return file_name"
   ]
  },
  {
   "cell_type": "code",
   "execution_count": null,
   "id": "86223311-1860-4e3c-958d-fa1005933498",
   "metadata": {},
   "outputs": [],
   "source": []
  },
  {
   "cell_type": "code",
   "execution_count": 38,
   "id": "799bd124-c2c2-4d5c-9376-73d188ccdef0",
   "metadata": {},
   "outputs": [],
   "source": [
    "\n",
    "project_id = 'lexical-period-346812'.strip()\n",
    "location = 'us'\n",
    "processor_id = 'a23e259771b350c3'.strip()\n",
    "bucket_name = 'sheikh-fitzgerald'.strip()\n",
    "input_prefix = 'document_ai_input/'.strip()\n",
    "output_prefix = 'document_ai_output/'.strip()\n",
    "\n",
    "from google.cloud import documentai_v1 as documentai\n",
    "from google.cloud.documentai_v1.types import document\n"
   ]
  },
  {
   "cell_type": "code",
   "execution_count": null,
   "id": "e5748bff-d175-4627-bf91-ed0b2f2609fa",
   "metadata": {},
   "outputs": [],
   "source": []
  },
  {
   "cell_type": "code",
   "execution_count": 39,
   "id": "2d5257e6-b923-4ef6-839e-5dc8d3509eb7",
   "metadata": {},
   "outputs": [],
   "source": [
    "log_file_name =  create_file_name_time('log_documentai', start)"
   ]
  },
  {
   "cell_type": "code",
   "execution_count": 40,
   "id": "997ffb25-4af4-4536-8c3a-226211ad1e79",
   "metadata": {},
   "outputs": [],
   "source": [
    "import logging\n",
    "logging.basicConfig(\n",
    "    level=logging.DEBUG,\n",
    "    format='{asctime} {levelname:<8} {message}',\n",
    "    style='{',\n",
    "    filename=f'{log_file_name}.log',\n",
    "    filemode='w')"
   ]
  },
  {
   "cell_type": "code",
   "execution_count": null,
   "id": "d897ba80-8421-415e-8876-cde8d4c20bb1",
   "metadata": {},
   "outputs": [],
   "source": [
    "logging.debug(f'{input_prefix}')\n",
    "logging.debug(f'{output_prefix}')"
   ]
  },
  {
   "cell_type": "code",
   "execution_count": null,
   "id": "4c7fd80a-dfee-49a2-a353-63b20fccd0c2",
   "metadata": {},
   "outputs": [],
   "source": []
  },
  {
   "cell_type": "code",
   "execution_count": null,
   "id": "8e1a91fc-6b30-492a-9059-3e8cbcb94f68",
   "metadata": {},
   "outputs": [],
   "source": []
  },
  {
   "cell_type": "code",
   "execution_count": 54,
   "id": "4dd062e7-b772-4672-acbc-a9812caf2134",
   "metadata": {},
   "outputs": [],
   "source": [
    "def setup_and_scan(\n",
    "):\n",
    "    # create the DocAI client\n",
    "    opts = {\"api_endpoint\": f\"{location}-documentai.googleapis.com\"}\n",
    "    docai = documentai.DocumentProcessorServiceClient(client_options=opts)\n",
    "\n",
    "    # define the documents to scan in\n",
    "    # input_files = documentai.GcsPrefix(gcs_uri_prefix=input_prefix)\n",
    "    input_files = documentai.GcsPrefix(gcs_uri_prefix=f\"gs://{bucket_name}/{input_prefix}\")\n",
    "    input_config = documentai.BatchDocumentsInputConfig(gcs_prefix=input_files)\n",
    "    \n",
    "    logging.debug(f'INPUT_FILES: {input_files}')\n",
    "    logging.debug(f'INPUT_CONFIG: {input_config}')\n",
    "\n",
    "    # define the output location\n",
    "    destination_uri = f\"gs://{bucket_name}/{output_prefix}\"\n",
    "    output_config = documentai.DocumentOutputConfig(gcs_output_config={\"gcs_uri\": destination_uri})\n",
    "    \n",
    "    logging.debug(f'{\"destination_uri\".upper()}: {destination_uri}')\n",
    "    logging.debug(f'{\"output_config\".upper()}: {output_config}')\n",
    "\n",
    "    # define and submit the request\n",
    "    request = documentai.BatchProcessRequest(\n",
    "        name=f\"projects/{project_id}/locations/{location}/processors/{processor_id}\",\n",
    "        input_documents=input_config,\n",
    "        document_output_config=output_config\n",
    "    )\n",
    "    result = docai.batch_process_documents(request)\n",
    "        \n",
    "    return result\n"
   ]
  },
  {
   "cell_type": "code",
   "execution_count": 58,
   "id": "e309ca80-c328-4a1a-a958-04a835f3a80a",
   "metadata": {},
   "outputs": [],
   "source": [
    "\n",
    "logging.debug(f'{input_prefix}')\n",
    "logging.debug(f'{output_prefix}')"
   ]
  },
  {
   "cell_type": "code",
   "execution_count": 56,
   "id": "4283d064-0149-41fc-ae47-54dba83dc975",
   "metadata": {},
   "outputs": [],
   "source": [
    "ocr_folder = setup_and_scan()"
   ]
  },
  {
   "cell_type": "code",
   "execution_count": null,
   "id": "f02bf8d7-44df-4959-b61b-40284d94508a",
   "metadata": {},
   "outputs": [],
   "source": []
  },
  {
   "cell_type": "code",
   "execution_count": 57,
   "id": "515585b8-a74f-4a01-9a7a-580b0232d406",
   "metadata": {},
   "outputs": [
    {
     "data": {
      "text/plain": [
       "'document_ai_input/'"
      ]
     },
     "execution_count": 57,
     "metadata": {},
     "output_type": "execute_result"
    }
   ],
   "source": [
    "input_prefix"
   ]
  },
  {
   "cell_type": "code",
   "execution_count": null,
   "id": "2cc4839b-c71e-4712-bf31-48d3510e09ca",
   "metadata": {},
   "outputs": [],
   "source": []
  },
  {
   "cell_type": "code",
   "execution_count": null,
   "id": "f7d4551b-1767-400c-90d9-54763960e4c7",
   "metadata": {},
   "outputs": [],
   "source": []
  },
  {
   "cell_type": "code",
   "execution_count": null,
   "id": "ca1470f5-4dab-4835-b5a0-2f08987bb757",
   "metadata": {},
   "outputs": [],
   "source": []
  }
 ],
 "metadata": {
  "environment": {
   "kernel": "python3",
   "name": "common-cpu.m93",
   "type": "gcloud",
   "uri": "gcr.io/deeplearning-platform-release/base-cpu:m93"
  },
  "kernelspec": {
   "display_name": "Python 3",
   "language": "python",
   "name": "python3"
  },
  "language_info": {
   "codemirror_mode": {
    "name": "ipython",
    "version": 3
   },
   "file_extension": ".py",
   "mimetype": "text/x-python",
   "name": "python",
   "nbconvert_exporter": "python",
   "pygments_lexer": "ipython3",
   "version": "3.7.12"
  }
 },
 "nbformat": 4,
 "nbformat_minor": 5
}
