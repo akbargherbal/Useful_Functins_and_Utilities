{
 "cells": [
  {
   "cell_type": "code",
   "execution_count": 1,
   "id": "1cc7527e-185f-4bca-9f6c-7085cd3a9b0a",
   "metadata": {},
   "outputs": [],
   "source": [
    "import json"
   ]
  },
  {
   "cell_type": "code",
   "execution_count": 2,
   "id": "b5624dee-cf75-4e90-88a7-d5846b2b43d3",
   "metadata": {},
   "outputs": [],
   "source": [
    "with open('document_ai_just_made_it_now/9128179475080842369/0/document_ai_sample-0.json', encoding='utf-8') as jf:\n",
    "    data = json.load(jf)"
   ]
  },
  {
   "cell_type": "code",
   "execution_count": 3,
   "id": "15d4f4a1-7879-4a04-9caa-d20e2dae7b42",
   "metadata": {},
   "outputs": [],
   "source": [
    "import fitz"
   ]
  },
  {
   "cell_type": "code",
   "execution_count": 4,
   "id": "92822853-3220-4f7d-86a1-57e48f3ad60c",
   "metadata": {},
   "outputs": [],
   "source": [
    "doc = fitz.open('test/document_ai_sample.pdf')"
   ]
  },
  {
   "cell_type": "code",
   "execution_count": 5,
   "id": "a4d5b98d-3f8c-417f-84f6-7bd7377bfcbf",
   "metadata": {},
   "outputs": [],
   "source": [
    "# for page in doc:\n",
    "#     page.draw_rect([50,50,100,100],  color = (0, 1, 0), width = 2)\n",
    "#     page.draw_polyline()\n",
    "#doc.save('created_using_fitz_pymupdf.pdf')\n",
    "\n"
   ]
  },
  {
   "cell_type": "code",
   "execution_count": null,
   "id": "16d992ea-f76e-4e00-b65e-ee3147d70c7d",
   "metadata": {},
   "outputs": [],
   "source": []
  },
  {
   "cell_type": "code",
   "execution_count": 6,
   "id": "8604568d-5959-466c-b1ec-911de836428a",
   "metadata": {},
   "outputs": [
    {
     "data": {
      "text/plain": [
       "fitz.fitz.Document"
      ]
     },
     "execution_count": 6,
     "metadata": {},
     "output_type": "execute_result"
    }
   ],
   "source": [
    "type(doc)"
   ]
  },
  {
   "cell_type": "code",
   "execution_count": 7,
   "id": "27e575bd-e128-4869-80aa-89717c627236",
   "metadata": {},
   "outputs": [
    {
     "data": {
      "text/plain": [
       "(612.0, 792.0)"
      ]
     },
     "execution_count": 7,
     "metadata": {},
     "output_type": "execute_result"
    }
   ],
   "source": [
    "doc[0].rect.width, doc[0].rect.height"
   ]
  },
  {
   "cell_type": "code",
   "execution_count": null,
   "id": "d9a6cbe9-0778-4dfc-bd3e-caa2b0a8a6fb",
   "metadata": {},
   "outputs": [],
   "source": []
  },
  {
   "cell_type": "code",
   "execution_count": 8,
   "id": "2330dbee-b376-41f0-b024-20463b711206",
   "metadata": {},
   "outputs": [],
   "source": [
    "test = data['pages'][0]['blocks'][0]['layout']['boundingPoly']"
   ]
  },
  {
   "cell_type": "code",
   "execution_count": 9,
   "id": "ed2a1649-3727-48f8-9966-be4dc3f618d4",
   "metadata": {},
   "outputs": [],
   "source": [
    "from itertools import chain"
   ]
  },
  {
   "cell_type": "code",
   "execution_count": 10,
   "id": "92e0b1ee-512a-47b4-8f5f-7d6cd7459535",
   "metadata": {},
   "outputs": [],
   "source": [
    "bloc_poly = list(chain(*(test.values())))"
   ]
  },
  {
   "cell_type": "code",
   "execution_count": 14,
   "id": "eea6951f-ba6c-4375-90a9-9ac6518afd97",
   "metadata": {},
   "outputs": [],
   "source": [
    "x_points = []\n",
    "y_points = []\n",
    "for dic in bloc_poly:\n",
    "    for k,v in dic.items():\n",
    "        if k == 'x':\n",
    "            x_value = round((v * 612.0), 1)\n",
    "        else:\n",
    "            y_value = round((v * 792.0), 1)\n",
    "    x_points.append(x_value)\n",
    "    y_points.append(y_value)"
   ]
  },
  {
   "cell_type": "code",
   "execution_count": 24,
   "id": "c7e7f65b-d549-4110-87cc-9671507bd28a",
   "metadata": {},
   "outputs": [],
   "source": [
    "x_points = sorted(set(x_points))"
   ]
  },
  {
   "cell_type": "code",
   "execution_count": 26,
   "id": "5b7cc24e-989e-423c-b9d7-e4d7f21208e3",
   "metadata": {},
   "outputs": [],
   "source": [
    "y_points = sorted(set(y_points))"
   ]
  },
  {
   "cell_type": "code",
   "execution_count": 27,
   "id": "81bb0969-9c0c-44c2-a1ff-f58748c4bd5b",
   "metadata": {},
   "outputs": [],
   "source": [
    "xy_points = [x_points[0], y_points[0], x_points[1], y_points[1]]"
   ]
  },
  {
   "cell_type": "code",
   "execution_count": 28,
   "id": "e1bdc57f-0652-4221-8f30-36bf0574bd90",
   "metadata": {},
   "outputs": [
    {
     "data": {
      "text/plain": [
       "[439.7, 56.0, 514.9, 63.0]"
      ]
     },
     "execution_count": 28,
     "metadata": {},
     "output_type": "execute_result"
    }
   ],
   "source": [
    "xy_points"
   ]
  },
  {
   "cell_type": "code",
   "execution_count": 33,
   "id": "7adafded-fe1a-4960-b565-133506a018a8",
   "metadata": {},
   "outputs": [],
   "source": [
    "doc = fitz.open('test/document_ai_sample.pdf')"
   ]
  },
  {
   "cell_type": "code",
   "execution_count": 34,
   "id": "bd30f970-f0e5-4eba-9f1d-f6e87c2205f2",
   "metadata": {},
   "outputs": [],
   "source": [
    "for page in doc:\n",
    "    page.draw_rect(xy_points,  color = (0.9, 0.1, 0.7), width = 0.2)\n",
    "doc.save('created_using_fitz_pymupdf.pdf')\n"
   ]
  },
  {
   "cell_type": "code",
   "execution_count": null,
   "id": "ff7ce423-19cb-4dd3-99fb-29e8ddf75289",
   "metadata": {},
   "outputs": [],
   "source": []
  },
  {
   "cell_type": "code",
   "execution_count": null,
   "id": "6a40b5d0-a060-4f8c-8589-b023e564fb6b",
   "metadata": {},
   "outputs": [],
   "source": []
  }
 ],
 "metadata": {
  "environment": {
   "kernel": "python3",
   "name": "common-cpu.m93",
   "type": "gcloud",
   "uri": "gcr.io/deeplearning-platform-release/base-cpu:m93"
  },
  "kernelspec": {
   "display_name": "Python 3",
   "language": "python",
   "name": "python3"
  },
  "language_info": {
   "codemirror_mode": {
    "name": "ipython",
    "version": 3
   },
   "file_extension": ".py",
   "mimetype": "text/x-python",
   "name": "python",
   "nbconvert_exporter": "python",
   "pygments_lexer": "ipython3",
   "version": "3.7.12"
  }
 },
 "nbformat": 4,
 "nbformat_minor": 5
}
