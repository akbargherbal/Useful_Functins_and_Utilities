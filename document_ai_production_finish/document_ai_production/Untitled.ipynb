{
 "cells": [
  {
   "cell_type": "code",
   "execution_count": 1,
   "id": "4974a3ab-3a95-4db2-b908-a623f3b5c35c",
   "metadata": {},
   "outputs": [],
   "source": [
    "from google.cloud import storage\n",
    "\n",
    "# Instantiates a client\n",
    "storage_client = storage.Client()"
   ]
  },
  {
   "cell_type": "code",
   "execution_count": 3,
   "id": "e2f5daf4-62f4-43da-9b6a-111d90e54e60",
   "metadata": {},
   "outputs": [],
   "source": [
    "# Get GCS bucket\n",
    "bucket = storage_client.get_bucket('sheikh-fitzgerald')"
   ]
  },
  {
   "cell_type": "code",
   "execution_count": 21,
   "id": "721f55c3-a0c7-47c6-a25e-28ccc012097f",
   "metadata": {
    "tags": []
   },
   "outputs": [],
   "source": [
    "# Get blobs in bucket (including all subdirectories)\n",
    "list_dirs = [str(i) for i in list(bucket.list_blobs())]"
   ]
  },
  {
   "cell_type": "code",
   "execution_count": 27,
   "id": "6290b257-626c-4b22-903a-83fc4f0413fc",
   "metadata": {},
   "outputs": [],
   "source": [
    "set_bucket_dirs = set([i.split('sheikh-fitzgerald, ')[-1].split('/')[0] for i in list_dirs])"
   ]
  },
  {
   "cell_type": "code",
   "execution_count": 30,
   "id": "4be829fb-8786-49ff-99f9-813d29626da8",
   "metadata": {},
   "outputs": [],
   "source": [
    "set_bucket_dirs = list(set_bucket_dirs)"
   ]
  },
  {
   "cell_type": "code",
   "execution_count": 33,
   "id": "780c581d-68a4-4b66-b171-6ef771866bbf",
   "metadata": {},
   "outputs": [],
   "source": [
    "exp = [f\"gsutil cp -r gs://sheikh-fitzgerald/{i} gs://old_fitzgerald/\" for i in set_bucket_dirs]"
   ]
  },
  {
   "cell_type": "code",
   "execution_count": 34,
   "id": "d1e0b1e1-6285-4774-8ba9-9277bef712f1",
   "metadata": {},
   "outputs": [
    {
     "name": "stdout",
     "output_type": "stream",
     "text": [
      "gsutil cp -r gs://sheikh-fitzgerald/URBAN_DICTIONARY gs://old_fitzgerald/\n",
      "gsutil cp -r gs://sheikh-fitzgerald/document_ai_input gs://old_fitzgerald/\n",
      "gsutil cp -r gs://sheikh-fitzgerald/STRING_SIMILARITY gs://old_fitzgerald/\n",
      "gsutil cp -r gs://sheikh-fitzgerald/REPORT_FILE_SIZES_NAMES_VM_INSTANCE_STAGE_01.pkl, 1655838655433682> gs://old_fitzgerald/\n",
      "gsutil cp -r gs://sheikh-fitzgerald/document_ai_output gs://old_fitzgerald/\n",
      "gsutil cp -r gs://sheikh-fitzgerald/MACHINE_LEARNING_DEEP_LEARNING_CORPUS gs://old_fitzgerald/\n",
      "gsutil cp -r gs://sheikh-fitzgerald/docment_ai gs://old_fitzgerald/\n",
      "gsutil cp -r gs://sheikh-fitzgerald/Shamela_Epubs_2022 gs://old_fitzgerald/\n",
      "gsutil cp -r gs://sheikh-fitzgerald/PROZ gs://old_fitzgerald/\n",
      "gsutil cp -r gs://sheikh-fitzgerald/kaggle.json, 1656666958106409> gs://old_fitzgerald/\n",
      "gsutil cp -r gs://sheikh-fitzgerald/document_ai_production gs://old_fitzgerald/\n",
      "gsutil cp -r gs://sheikh-fitzgerald/PyPi_Stats.zip, 1655133794861827> gs://old_fitzgerald/\n",
      "gsutil cp -r gs://sheikh-fitzgerald/QURAN_REGEX_CHAR_SEQ_PATTERNS.pkl, 1656445329438432> gs://old_fitzgerald/\n",
      "gsutil cp -r gs://sheikh-fitzgerald/document_ai_just_made_it_now gs://old_fitzgerald/\n",
      "gsutil cp -r gs://sheikh-fitzgerald/EPUB_21_AUTHORS_NOVELS gs://old_fitzgerald/\n",
      "gsutil cp -r gs://sheikh-fitzgerald/test_documentai_api gs://old_fitzgerald/\n",
      "gsutil cp -r gs://sheikh-fitzgerald/GCP_WILL_DURANT_POS_PATTERNS_31_05_2022.zip, 1653992943318499> gs://old_fitzgerald/\n",
      "gsutil cp -r gs://sheikh-fitzgerald/ALDIWAN gs://old_fitzgerald/\n",
      "gsutil cp -r gs://sheikh-fitzgerald/document_ai_production.zip, 1656931611739241> gs://old_fitzgerald/\n",
      "gsutil cp -r gs://sheikh-fitzgerald/Selected_Fonts.zip, 1655295298781714> gs://old_fitzgerald/\n",
      "gsutil cp -r gs://sheikh-fitzgerald/Shakespeare gs://old_fitzgerald/\n",
      "gsutil cp -r gs://sheikh-fitzgerald/TSOC gs://old_fitzgerald/\n"
     ]
    }
   ],
   "source": [
    "for i in exp:\n",
    "    print(i)"
   ]
  },
  {
   "cell_type": "code",
   "execution_count": null,
   "id": "4945bb11-2fd4-4f64-8ffb-68811a461962",
   "metadata": {},
   "outputs": [],
   "source": []
  }
 ],
 "metadata": {
  "environment": {
   "kernel": "python3",
   "name": "common-cpu.m93",
   "type": "gcloud",
   "uri": "gcr.io/deeplearning-platform-release/base-cpu:m93"
  },
  "kernelspec": {
   "display_name": "Python 3",
   "language": "python",
   "name": "python3"
  },
  "language_info": {
   "codemirror_mode": {
    "name": "ipython",
    "version": 3
   },
   "file_extension": ".py",
   "mimetype": "text/x-python",
   "name": "python",
   "nbconvert_exporter": "python",
   "pygments_lexer": "ipython3",
   "version": "3.7.12"
  }
 },
 "nbformat": 4,
 "nbformat_minor": 5
}
