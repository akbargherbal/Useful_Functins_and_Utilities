{
 "cells": [
  {
   "cell_type": "code",
   "execution_count": 19,
   "id": "3cf2635f-1163-4ac9-84ae-64bac5319737",
   "metadata": {},
   "outputs": [
    {
     "data": {
      "text/plain": [
       "28.716666666666665"
      ]
     },
     "execution_count": 19,
     "metadata": {},
     "output_type": "execute_result"
    }
   ],
   "source": [
    "1723/60"
   ]
  },
  {
   "cell_type": "code",
   "execution_count": 21,
   "id": "eb39576d-4293-4a7f-a6c3-68db990cdb63",
   "metadata": {},
   "outputs": [
    {
     "data": {
      "text/plain": [
       "0.39333333333333337"
      ]
     },
     "execution_count": 21,
     "metadata": {},
     "output_type": "execute_result"
    }
   ],
   "source": [
    "23.6/60"
   ]
  },
  {
   "cell_type": "code",
   "execution_count": 15,
   "id": "0c66ed2d-03ff-45c9-872d-bbacb9cb69a0",
   "metadata": {},
   "outputs": [],
   "source": [
    "import ffmpeg"
   ]
  },
  {
   "cell_type": "code",
   "execution_count": 16,
   "id": "73efb8ff-09cc-485b-a9c6-28528f5144df",
   "metadata": {},
   "outputs": [],
   "source": [
    "info=ffmpeg.probe('IOC Executive Board - IOC Press Briefing.mp4')"
   ]
  },
  {
   "cell_type": "code",
   "execution_count": 36,
   "id": "5d7a04ae-5438-4ba1-bdb2-b192d3349574",
   "metadata": {},
   "outputs": [],
   "source": [
    "def get_vid_duration(vid):\n",
    "    info=ffmpeg.probe(vid)\n",
    "    try:\n",
    "        print(f\"Media Duration = {  round((float(info['format']['duration'])/60),3)} minutes\")\n",
    "    except:\n",
    "        print(f\"Media Duration = {info['format']['duration']} seconds\")"
   ]
  },
  {
   "cell_type": "code",
   "execution_count": 37,
   "id": "e1763e3a-3c24-471d-9578-272e2f017c80",
   "metadata": {},
   "outputs": [
    {
     "name": "stdout",
     "output_type": "stream",
     "text": [
      "Media Duration = 28.729 minutes\n"
     ]
    }
   ],
   "source": [
    "get_vid_duration('IOC Executive Board - IOC Press Briefing.mp4')"
   ]
  },
  {
   "cell_type": "code",
   "execution_count": 1,
   "id": "732c0fcd-762b-4e22-ab8e-2e5a4b5e5bbc",
   "metadata": {},
   "outputs": [],
   "source": [
    "import regex as re"
   ]
  },
  {
   "cell_type": "code",
   "execution_count": 2,
   "id": "bb526ce7-11bf-41ae-8b12-87c2f0ea72a3",
   "metadata": {},
   "outputs": [],
   "source": [
    "import pandas as pd"
   ]
  },
  {
   "cell_type": "code",
   "execution_count": 3,
   "id": "cfe54a1a-fcde-4262-a3bf-af1620973957",
   "metadata": {},
   "outputs": [],
   "source": [
    "from time import sleep"
   ]
  },
  {
   "cell_type": "code",
   "execution_count": 4,
   "id": "57a9f3b7-33ed-49c8-acbb-5cbfffd36b5a",
   "metadata": {},
   "outputs": [],
   "source": [
    "import os\n",
    "from itertools import chain\n",
    "from collections import Counter"
   ]
  },
  {
   "cell_type": "code",
   "execution_count": 5,
   "id": "6ff42257-083e-4e20-893c-ae5e0d79a1eb",
   "metadata": {},
   "outputs": [],
   "source": [
    "# HLPER FUNCTION: Get Time Now:\n",
    "from datetime import datetime\n",
    "def time_now():\n",
    "    '''Get Current Time'''\n",
    "    \n",
    "    now = datetime.now()\n",
    "    current_time = now.strftime(\"%H:%M:%S.%f\")\n",
    "    print(\"Current Time =\", current_time)\n",
    "    return now"
   ]
  },
  {
   "cell_type": "code",
   "execution_count": null,
   "id": "1400533d-c5db-4783-905b-b70f9961c7ea",
   "metadata": {},
   "outputs": [],
   "source": []
  },
  {
   "cell_type": "code",
   "execution_count": 6,
   "id": "6aca7750-1013-4c12-b0f2-646680454763",
   "metadata": {},
   "outputs": [],
   "source": [
    "import whisper"
   ]
  },
  {
   "cell_type": "code",
   "execution_count": null,
   "id": "9590d448-d61e-408b-b52e-3dc55f51eb9a",
   "metadata": {},
   "outputs": [],
   "source": []
  },
  {
   "cell_type": "code",
   "execution_count": null,
   "id": "7b2b930a-3050-4bfe-bc5d-00da4c9df6c0",
   "metadata": {},
   "outputs": [],
   "source": []
  },
  {
   "cell_type": "code",
   "execution_count": 7,
   "id": "396b913d-f123-401b-a3f7-3d562cbd7679",
   "metadata": {},
   "outputs": [],
   "source": [
    "df_main =   pd.DataFrame(data = {'TEXT': []})"
   ]
  },
  {
   "cell_type": "code",
   "execution_count": 8,
   "id": "c92e1b7f-48bb-45e6-841d-041ea5ec19cd",
   "metadata": {},
   "outputs": [
    {
     "name": "stderr",
     "output_type": "stream",
     "text": [
      "100%|███████████████████████████████████████| 139M/139M [00:02<00:00, 58.1MiB/s]\n"
     ]
    }
   ],
   "source": [
    "model = whisper.load_model(\"base\")"
   ]
  },
  {
   "cell_type": "code",
   "execution_count": null,
   "id": "3c677a8b-b709-479b-8bf5-24c5d207646b",
   "metadata": {},
   "outputs": [],
   "source": []
  },
  {
   "cell_type": "code",
   "execution_count": 9,
   "id": "92ef9767-7a90-42d8-bcde-118eb11a72ed",
   "metadata": {},
   "outputs": [],
   "source": [
    "list_audio_files = [f'GENDER_AUDIO_OIC/{audio}' for audio in os.listdir('GENDER_AUDIO_OIC/') if audio.endswith('.mp4')]"
   ]
  },
  {
   "cell_type": "code",
   "execution_count": 10,
   "id": "c80b86c3-d613-48f2-b4a5-281760372c3e",
   "metadata": {},
   "outputs": [
    {
     "data": {
      "text/plain": [
       "9"
      ]
     },
     "execution_count": 10,
     "metadata": {},
     "output_type": "execute_result"
    }
   ],
   "source": [
    "len(list_audio_files)"
   ]
  },
  {
   "cell_type": "code",
   "execution_count": null,
   "id": "1fa261c0-5967-4f5f-be81-101ffefb28ca",
   "metadata": {},
   "outputs": [],
   "source": []
  },
  {
   "cell_type": "code",
   "execution_count": null,
   "id": "621d4782-10a0-488f-ba69-05f98ce040f9",
   "metadata": {},
   "outputs": [
    {
     "name": "stdout",
     "output_type": "stream",
     "text": [
      "Transcribing: GENDER_AUDIO_OIC/IF Gender Equality Webinar Series – Session 6 - Safe Sport developing policies and procedures.mp4\n",
      "1 of 9\n",
      "Current Time = 21:23:54.946097\n",
      "Media Duration = 61.175 minutes\n"
     ]
    },
    {
     "name": "stderr",
     "output_type": "stream",
     "text": [
      "/opt/conda/lib/python3.7/site-packages/whisper/transcribe.py:78: UserWarning: FP16 is not supported on CPU; using FP32 instead\n",
      "  warnings.warn(\"FP16 is not supported on CPU; using FP32 instead\")\n"
     ]
    },
    {
     "name": "stdout",
     "output_type": "stream",
     "text": [
      "Current Time = 21:28:40.362724\n",
      "Media Duration = 61.175 minutes\n",
      "Transcription Duration in minutes = 4.75\n",
      "Finished Transcribing\n",
      "-----------------------------\n",
      "Transcribing: GENDER_AUDIO_OIC/Olympism in Action Forum - Women in Sport.mp4\n",
      "2 of 9\n",
      "Current Time = 21:28:40.444870\n",
      "Media Duration = 34.529 minutes\n"
     ]
    },
    {
     "name": "stderr",
     "output_type": "stream",
     "text": [
      "/opt/conda/lib/python3.7/site-packages/whisper/transcribe.py:78: UserWarning: FP16 is not supported on CPU; using FP32 instead\n",
      "  warnings.warn(\"FP16 is not supported on CPU; using FP32 instead\")\n"
     ]
    },
    {
     "name": "stdout",
     "output_type": "stream",
     "text": [
      "Current Time = 21:31:13.666477\n",
      "Media Duration = 34.529 minutes\n",
      "Transcription Duration in minutes = 2.55\n",
      "Finished Transcribing\n",
      "-----------------------------\n",
      "Transcribing: GENDER_AUDIO_OIC/The success of the Olympic Games Rio 2016 (Press conference).mp4\n",
      "3 of 9\n",
      "Current Time = 21:31:13.748652\n",
      "Media Duration = 48.621 minutes\n"
     ]
    },
    {
     "name": "stderr",
     "output_type": "stream",
     "text": [
      "/opt/conda/lib/python3.7/site-packages/whisper/transcribe.py:78: UserWarning: FP16 is not supported on CPU; using FP32 instead\n",
      "  warnings.warn(\"FP16 is not supported on CPU; using FP32 instead\")\n"
     ]
    },
    {
     "name": "stdout",
     "output_type": "stream",
     "text": [
      "Current Time = 21:34:51.235101\n",
      "Media Duration = 48.621 minutes\n",
      "Transcription Duration in minutes = 3.62\n",
      "Finished Transcribing\n",
      "-----------------------------\n",
      "Transcribing: GENDER_AUDIO_OIC/Olympism in Action Forum - Working Zone 9A.mp4\n",
      "4 of 9\n",
      "Current Time = 21:34:51.317624\n",
      "Media Duration = 42.798 minutes\n"
     ]
    },
    {
     "name": "stderr",
     "output_type": "stream",
     "text": [
      "/opt/conda/lib/python3.7/site-packages/whisper/transcribe.py:78: UserWarning: FP16 is not supported on CPU; using FP32 instead\n",
      "  warnings.warn(\"FP16 is not supported on CPU; using FP32 instead\")\n"
     ]
    },
    {
     "name": "stdout",
     "output_type": "stream",
     "text": [
      "Current Time = 22:07:22.604636\n",
      "Media Duration = 42.798 minutes\n",
      "Transcription Duration in minutes = 32.52\n",
      "Finished Transcribing\n",
      "-----------------------------\n",
      "Transcribing: GENDER_AUDIO_OIC/The Esports Forum - Main event.mp4\n",
      "5 of 9\n",
      "Current Time = 22:07:22.690007\n",
      "Media Duration = 503.859 minutes\n"
     ]
    },
    {
     "name": "stderr",
     "output_type": "stream",
     "text": [
      "/opt/conda/lib/python3.7/site-packages/whisper/transcribe.py:78: UserWarning: FP16 is not supported on CPU; using FP32 instead\n",
      "  warnings.warn(\"FP16 is not supported on CPU; using FP32 instead\")\n"
     ]
    }
   ],
   "source": [
    "for (idx, audio) in enumerate(list_audio_files):\n",
    "    print(f'''\n",
    "Transcribing: {audio}\n",
    "{idx + 1} of {len(list_audio_files)}\n",
    "    '''.strip())\n",
    "    start = time_now()\n",
    "    get_vid_duration(audio)\n",
    "    text = model.transcribe(audio)\n",
    "    output_name = re.sub(r'[^\\w]+', '_' , audio.split('/')[-1].split('.mp4')[0])\n",
    "    df_temp = pd.DataFrame(data = {'TEXT' : [text['text']]})\n",
    "    df_main = df_main.append(df_temp).reset_index(drop=True)\n",
    "    end = time_now()\n",
    "    duration = end - start\n",
    "    duration = duration.seconds\n",
    "    \n",
    "    get_vid_duration(audio)\n",
    "    print(f'Transcription Duration in minutes = {round((duration/60), 2)}')\n",
    "    \n",
    "    with open(f'TRANSCRIPTION/{output_name}.txt', encoding='utf-8', mode='w') as f:\n",
    "        f.write(f'{text[\"text\"]}\\n')\n",
    "    \n",
    "    print('Finished Transcribing')\n",
    "    print('-----------------------------')"
   ]
  },
  {
   "cell_type": "code",
   "execution_count": null,
   "id": "9e6ff3d9-f7a1-49e2-97af-ebe6df912016",
   "metadata": {},
   "outputs": [],
   "source": []
  },
  {
   "cell_type": "code",
   "execution_count": null,
   "id": "f181e5f8-6734-404e-b7dc-48793c988e37",
   "metadata": {},
   "outputs": [],
   "source": []
  },
  {
   "cell_type": "code",
   "execution_count": null,
   "id": "24b27b77-8bd2-4b4e-b172-31e5bfd07b0f",
   "metadata": {},
   "outputs": [],
   "source": []
  },
  {
   "cell_type": "code",
   "execution_count": 41,
   "id": "68bce0fc-e6b4-44d3-95e6-eb69eda2a24e",
   "metadata": {},
   "outputs": [
    {
     "data": {
      "text/plain": [
       "5"
      ]
     },
     "execution_count": 41,
     "metadata": {},
     "output_type": "execute_result"
    }
   ],
   "source": []
  },
  {
   "cell_type": "code",
   "execution_count": null,
   "id": "e7a9493d-0b8c-4ac0-829a-fa43dcd47ae3",
   "metadata": {},
   "outputs": [],
   "source": []
  }
 ],
 "metadata": {
  "environment": {
   "kernel": "python3",
   "name": "common-cpu.m99",
   "type": "gcloud",
   "uri": "gcr.io/deeplearning-platform-release/base-cpu:m99"
  },
  "kernelspec": {
   "display_name": "Python 3",
   "language": "python",
   "name": "python3"
  },
  "language_info": {
   "codemirror_mode": {
    "name": "ipython",
    "version": 3
   },
   "file_extension": ".py",
   "mimetype": "text/x-python",
   "name": "python",
   "nbconvert_exporter": "python",
   "pygments_lexer": "ipython3",
   "version": "3.7.12"
  }
 },
 "nbformat": 4,
 "nbformat_minor": 5
}
