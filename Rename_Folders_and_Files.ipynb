{
 "cells": [
  {
   "cell_type": "code",
   "execution_count": 70,
   "id": "13035978-3503-4990-b82b-4452e787dd44",
   "metadata": {},
   "outputs": [],
   "source": [
    "from itertools import chain\n",
    "from collections import Counter"
   ]
  },
  {
   "cell_type": "code",
   "execution_count": 1,
   "id": "04963bab-e450-431d-a303-1c95d7e5c1fc",
   "metadata": {},
   "outputs": [],
   "source": [
    "import os"
   ]
  },
  {
   "cell_type": "code",
   "execution_count": 2,
   "id": "907e7e13-1990-4d91-857d-8683e84b73c9",
   "metadata": {},
   "outputs": [],
   "source": [
    "import regex as re"
   ]
  },
  {
   "cell_type": "code",
   "execution_count": 3,
   "id": "03dfb4ca-6618-4424-ab18-e9e364ac9ae2",
   "metadata": {},
   "outputs": [],
   "source": [
    "import subprocess"
   ]
  },
  {
   "cell_type": "markdown",
   "id": "5ac6e38e-f6e7-475b-a502-ff9b60bacebd",
   "metadata": {},
   "source": [
    "# CREATE FILE_PATH & NEW_PATH"
   ]
  },
  {
   "cell_type": "code",
   "execution_count": 71,
   "id": "8e4adf61-aee8-4dd6-95d2-3a3925f201a1",
   "metadata": {},
   "outputs": [],
   "source": [
    "list_container_files = []\n",
    "for root, folders, files in os.walk('Novels_Epub_Torrent/'):\n",
    "    files = [file for file in files if file.endswith('.epub')]\n",
    "    \n",
    "    new_names = [re.sub(r'[^\\w]+', '_', file) for file in files]\n",
    "    new_names = [re.sub(r'_+', '_', file) for file in new_names]\n",
    "    new_names = [re.sub(r'_+\\.*epub$', '.epub', file) for file in new_names]\n",
    "\n",
    "    files = [os.path.join(root, file) for file in files]\n",
    "    files = [os.path.abspath(file) for file in files]\n",
    "    \n",
    "    new_names = [os.path.join(root, file) for file in new_names]\n",
    "    new_names = [os.path.abspath(file) for file in new_names]\n",
    "    \n",
    "    result = list(zip(files, new_names))\n",
    "    \n",
    "    list_container_files.append(result)"
   ]
  },
  {
   "cell_type": "markdown",
   "id": "e85538c9-21b3-4518-a1fc-904e2073be48",
   "metadata": {},
   "source": [
    "# Filter Empty List & Chain"
   ]
  },
  {
   "cell_type": "code",
   "execution_count": 73,
   "id": "e4c98063-c2a0-4021-81af-f9b61fc1cd4b",
   "metadata": {
    "tags": []
   },
   "outputs": [],
   "source": [
    "list_container_files = list(chain(*list_container_files))"
   ]
  },
  {
   "cell_type": "code",
   "execution_count": null,
   "id": "89896f3b-6ce5-470a-9dbe-6d73ee413cee",
   "metadata": {},
   "outputs": [],
   "source": []
  },
  {
   "cell_type": "code",
   "execution_count": null,
   "id": "c2ef3e0c-9b4e-4bc8-a883-20b70db1db5f",
   "metadata": {},
   "outputs": [],
   "source": []
  },
  {
   "cell_type": "markdown",
   "id": "2c4368a1-395a-4f87-978b-3bbf728c7784",
   "metadata": {},
   "source": [
    "# Create Commands for Linux Terminal; list of cmds"
   ]
  },
  {
   "cell_type": "code",
   "execution_count": 80,
   "id": "15b76e1f-adf3-4acb-8310-f756ce75f5fc",
   "metadata": {},
   "outputs": [],
   "source": [
    "cmd = []\n",
    "for epub in list_container_files:\n",
    "    old = epub[0]\n",
    "    new = epub[1]\n",
    "    item_cmd = f\"\"\"\n",
    "mv\n",
    "{old}\n",
    "{new}\n",
    "\n",
    "\"\"\".strip().split('\\n')\n",
    "    cmd.append(item_cmd)\n",
    "    "
   ]
  },
  {
   "cell_type": "markdown",
   "id": "73515298-996f-4b9c-85c5-0caaec978094",
   "metadata": {},
   "source": [
    "```python\n",
    "for command in cmd:\n",
    "    subprocess.Popen(command)\n",
    "```"
   ]
  },
  {
   "cell_type": "code",
   "execution_count": null,
   "id": "aaa7a9f3-371b-4e07-8a96-840068683b27",
   "metadata": {},
   "outputs": [],
   "source": []
  },
  {
   "cell_type": "markdown",
   "id": "532ab3fb-3075-43aa-9ec4-3b17b0c47ffd",
   "metadata": {
    "tags": []
   },
   "source": [
    "# RENAME FOLDERS:"
   ]
  },
  {
   "cell_type": "code",
   "execution_count": 69,
   "id": "794c1074-e4b7-42a9-8971-1b638bb45806",
   "metadata": {},
   "outputs": [
    {
     "data": {
      "text/plain": [
       "22"
      ]
     },
     "execution_count": 69,
     "metadata": {},
     "output_type": "execute_result"
    }
   ],
   "source": [
    "len(list_container_files)"
   ]
  },
  {
   "cell_type": "code",
   "execution_count": null,
   "id": "9ecd3ad5-a876-43d6-beb6-a1f12a09176d",
   "metadata": {},
   "outputs": [],
   "source": [
    "cmd_line = f\"\"\"\n",
    "mv\n",
    "{old_path}\n",
    "{new_path}\n",
    "\"\"\".strip().split('\\n')"
   ]
  },
  {
   "cell_type": "code",
   "execution_count": 28,
   "id": "ba996579-8d37-4f3e-ae67-4d09b8a35e44",
   "metadata": {},
   "outputs": [],
   "source": []
  },
  {
   "cell_type": "code",
   "execution_count": null,
   "id": "f74a1109-6235-4c74-b18b-d3c7d73bbe62",
   "metadata": {},
   "outputs": [],
   "source": []
  },
  {
   "cell_type": "code",
   "execution_count": null,
   "id": "cd74cd27-4ab3-48fc-9f66-5cab62ffebc1",
   "metadata": {},
   "outputs": [],
   "source": []
  },
  {
   "cell_type": "code",
   "execution_count": null,
   "id": "19014e5a-2a88-41e9-9996-f8366ff6c512",
   "metadata": {},
   "outputs": [],
   "source": []
  },
  {
   "cell_type": "code",
   "execution_count": null,
   "id": "d5032997-a366-4cd5-a8dc-6dc0c1bbe1c0",
   "metadata": {},
   "outputs": [],
   "source": []
  },
  {
   "cell_type": "code",
   "execution_count": 14,
   "id": "344702fa-addb-42e1-802e-c88217db3fb2",
   "metadata": {},
   "outputs": [],
   "source": [
    "folder_old = 'Auster, Paul (DEMO)/'\n",
    "folder_new = re.sub('[^\\w]+', '_', folder_old)\n",
    "folder_new = re.sub('_+', '_', folder_new)\n",
    "folder_new = re.sub('_+$', '', folder_new)"
   ]
  },
  {
   "cell_type": "code",
   "execution_count": 15,
   "id": "857ff00c-6e31-42da-8998-231cd2b3ac59",
   "metadata": {},
   "outputs": [
    {
     "name": "stdout",
     "output_type": "stream",
     "text": [
      "\n",
      "Auster, Paul (DEMO)/\n",
      "Auster_Paul_DEMO\n"
     ]
    }
   ],
   "source": [
    "print(f\"\"\"\n",
    "{folder_old}\n",
    "{folder_new}\"\"\")"
   ]
  },
  {
   "cell_type": "code",
   "execution_count": null,
   "id": "b203cc84-96b7-43d8-abb1-bf075d2fa88d",
   "metadata": {},
   "outputs": [],
   "source": []
  },
  {
   "cell_type": "markdown",
   "id": "72f3021c-0fd3-44da-819f-c3c297bf9709",
   "metadata": {
    "tags": []
   },
   "source": [
    "# Create Paths:"
   ]
  },
  {
   "cell_type": "code",
   "execution_count": 16,
   "id": "5b7ddaf9-a742-4bf1-9d32-bc5b9bc827dd",
   "metadata": {},
   "outputs": [],
   "source": [
    "old_path = os.path.abspath(folder_old)\n",
    "new_path = os.path.abspath (\n",
    "            os.path.join(os.path.dirname(old_path), folder_new)\n",
    ")"
   ]
  },
  {
   "cell_type": "code",
   "execution_count": 17,
   "id": "29a1555b-bbf9-45e8-a30b-d56bd1c771d4",
   "metadata": {},
   "outputs": [
    {
     "name": "stdout",
     "output_type": "stream",
     "text": [
      "\n",
      "/home/jupyter/Auster, Paul (DEMO)\n",
      "/home/jupyter/Auster_Paul_DEMO\n",
      "\n"
     ]
    }
   ],
   "source": [
    "print(f\"\"\"\n",
    "{old_path}\n",
    "{new_path}\n",
    "\"\"\")"
   ]
  },
  {
   "cell_type": "code",
   "execution_count": null,
   "id": "34a5ee4d-06b0-4ee6-afeb-1a970fd2be50",
   "metadata": {},
   "outputs": [],
   "source": []
  },
  {
   "cell_type": "markdown",
   "id": "fc717fbf-4e9f-4fd2-934c-9bd7f2f01b3e",
   "metadata": {
    "tags": []
   },
   "source": [
    "# Create Subporcess"
   ]
  },
  {
   "cell_type": "code",
   "execution_count": 18,
   "id": "23279496-b481-410f-bf85-a8a351b8f73b",
   "metadata": {},
   "outputs": [],
   "source": [
    "cmd_line = f\"\"\"\n",
    "mv\n",
    "{old_path}\n",
    "{new_path}\n",
    "\"\"\".strip().split('\\n')"
   ]
  },
  {
   "cell_type": "code",
   "execution_count": 19,
   "id": "83fb0159-b291-40dd-9eb2-5b9a8de390f8",
   "metadata": {},
   "outputs": [
    {
     "data": {
      "text/plain": [
       "['mv', '/home/jupyter/Auster, Paul (DEMO)', '/home/jupyter/Auster_Paul_DEMO']"
      ]
     },
     "execution_count": 19,
     "metadata": {},
     "output_type": "execute_result"
    }
   ],
   "source": [
    "cmd_line"
   ]
  },
  {
   "cell_type": "markdown",
   "id": "40a55395-ca3b-4e7b-9922-1608a643cac1",
   "metadata": {},
   "source": [
    "# Call Subprocess"
   ]
  },
  {
   "cell_type": "code",
   "execution_count": 21,
   "id": "99f72e9a-da4d-4964-a2bf-3a9cebd0f900",
   "metadata": {},
   "outputs": [],
   "source": [
    "#subprocess.Popen(cmd_line)"
   ]
  },
  {
   "cell_type": "code",
   "execution_count": null,
   "id": "d339098a-572c-42e3-b342-8a3d8052aa4b",
   "metadata": {},
   "outputs": [],
   "source": []
  },
  {
   "cell_type": "code",
   "execution_count": null,
   "id": "91043bc9-dbc8-49e8-8d75-00f03718fe12",
   "metadata": {},
   "outputs": [],
   "source": []
  }
 ],
 "metadata": {
  "environment": {
   "kernel": "python3",
   "name": "common-cpu.m93",
   "type": "gcloud",
   "uri": "gcr.io/deeplearning-platform-release/base-cpu:m93"
  },
  "kernelspec": {
   "display_name": "Python 3",
   "language": "python",
   "name": "python3"
  },
  "language_info": {
   "codemirror_mode": {
    "name": "ipython",
    "version": 3
   },
   "file_extension": ".py",
   "mimetype": "text/x-python",
   "name": "python",
   "nbconvert_exporter": "python",
   "pygments_lexer": "ipython3",
   "version": "3.7.12"
  }
 },
 "nbformat": 4,
 "nbformat_minor": 5
}
