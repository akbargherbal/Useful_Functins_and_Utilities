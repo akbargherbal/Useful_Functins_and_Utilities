{
 "cells": [
  {
   "cell_type": "markdown",
   "metadata": {},
   "source": [
    "# XML Sitemap Files Parsing\n",
    "## Given a folder containing a bunch of xml sitemap files; get links\n",
    "## Necessary step for downstream processes, such as scraping using scrapy!"
   ]
  },
  {
   "cell_type": "code",
   "execution_count": 1,
   "metadata": {},
   "outputs": [],
   "source": [
    "import os\n",
    "from itertools import chain"
   ]
  },
  {
   "cell_type": "code",
   "execution_count": 2,
   "metadata": {},
   "outputs": [],
   "source": [
    "files_container = []\n",
    "for root, folders, files in os.walk('steel/'): # change folder!\n",
    "    files = [os.path.join(root, file) for file in files if file.endswith('.xml')]\n",
    "    files_container.append(files)\n",
    "    files_container = list(chain(*files_container))"
   ]
  },
  {
   "cell_type": "code",
   "execution_count": 3,
   "metadata": {},
   "outputs": [
    {
     "data": {
      "text/plain": [
       "['steel/category-sitemap.xml',\n",
       " 'steel/page-sitemap.xml',\n",
       " 'steel/post-sitemap1.xml',\n",
       " 'steel/post-sitemap10.xml',\n",
       " 'steel/post-sitemap11.xml',\n",
       " 'steel/post-sitemap12.xml',\n",
       " 'steel/post-sitemap13.xml',\n",
       " 'steel/post-sitemap2.xml',\n",
       " 'steel/post-sitemap3.xml',\n",
       " 'steel/post-sitemap4.xml',\n",
       " 'steel/post-sitemap5.xml',\n",
       " 'steel/post-sitemap6.xml',\n",
       " 'steel/post-sitemap7.xml',\n",
       " 'steel/post-sitemap8.xml',\n",
       " 'steel/post-sitemap9.xml']"
      ]
     },
     "execution_count": 3,
     "metadata": {},
     "output_type": "execute_result"
    }
   ],
   "source": [
    "files_container"
   ]
  },
  {
   "cell_type": "code",
   "execution_count": 4,
   "metadata": {},
   "outputs": [],
   "source": [
    "import requests\n",
    "from bs4 import BeautifulSoup\n",
    "\n",
    "links_container = []\n",
    "for xml in files_container:\n",
    "    with open(xml, encoding='utf-8') as html_file:\n",
    "        soup = BeautifulSoup(html_file, 'lxml')\n",
    "        urls = [url.text for url in soup.find_all('loc')]\n",
    "        links_container.append(urls)"
   ]
  },
  {
   "cell_type": "markdown",
   "metadata": {},
   "source": [
    "# Check number of links!"
   ]
  },
  {
   "cell_type": "code",
   "execution_count": 5,
   "metadata": {},
   "outputs": [],
   "source": [
    "links_container = list(chain(*links_container))"
   ]
  },
  {
   "cell_type": "code",
   "execution_count": 6,
   "metadata": {},
   "outputs": [
    {
     "data": {
      "text/plain": [
       "2645"
      ]
     },
     "execution_count": 6,
     "metadata": {},
     "output_type": "execute_result"
    }
   ],
   "source": [
    "len(links_container)"
   ]
  },
  {
   "cell_type": "code",
   "execution_count": 7,
   "metadata": {},
   "outputs": [],
   "source": [
    "links_container =  list(set(links_container))"
   ]
  },
  {
   "cell_type": "code",
   "execution_count": 8,
   "metadata": {},
   "outputs": [],
   "source": [
    "with open('ARAB_STEEL_LINK_2.txt', encoding='utf-8', mode='+a') as f:\n",
    "    for link in links_container:\n",
    "        f.write(f'{link}\\n')"
   ]
  },
  {
   "cell_type": "code",
   "execution_count": null,
   "metadata": {},
   "outputs": [],
   "source": []
  }
 ],
 "metadata": {
  "kernelspec": {
   "display_name": "Python 3",
   "language": "python",
   "name": "python3"
  },
  "language_info": {
   "codemirror_mode": {
    "name": "ipython",
    "version": 3
   },
   "file_extension": ".py",
   "mimetype": "text/x-python",
   "name": "python",
   "nbconvert_exporter": "python",
   "pygments_lexer": "ipython3",
   "version": "3.8.7"
  }
 },
 "nbformat": 4,
 "nbformat_minor": 4
}
