{
 "cells": [
  {
   "cell_type": "code",
   "execution_count": 1,
   "metadata": {},
   "outputs": [],
   "source": [
    "from math import ceil\n",
    "def split_dataframe(df='Pandas DataFrame', max_rows=10_000):\n",
    "    '''\n",
    "    Given a large pandas DataFrame; split it into multiple ones;\n",
    "    the splitting part will have to be implemented manually.\n",
    "    Each dataframe will have a maximum number of rows.\n",
    "    The output is a printout; that will have to be executed manually.\n",
    "    '''\n",
    "    max_rows = max_rows\n",
    "    total_rows = len(df)\n",
    "    num_dfs = ceil(total_rows/max_rows)\n",
    "    num_dfs = [(i*max_rows) for i in range(num_dfs+1)]\n",
    "    print(num_dfs)\n",
    "    exp_list_df_ass = []\n",
    "    for i in range(len(num_dfs)):\n",
    "        try:\n",
    "            exp_list_df_ass.append(f'df_{str(i+1).zfill(2)} = df.iloc[{num_dfs[i]}: {num_dfs[i+1]}].reset_index(drop=True)')\n",
    "        except:\n",
    "            pass\n",
    "    exp_list_df_ass = exp_list_df_ass[:len(exp_list_df_ass)]\n",
    "    for i in exp_list_df_ass:\n",
    "        print(i)"
   ]
  },
  {
   "cell_type": "code",
   "execution_count": null,
   "metadata": {},
   "outputs": [],
   "source": []
  }
 ],
 "metadata": {
  "kernelspec": {
   "display_name": "Python 3",
   "language": "python",
   "name": "python3"
  },
  "language_info": {
   "codemirror_mode": {
    "name": "ipython",
    "version": 3
   },
   "file_extension": ".py",
   "mimetype": "text/x-python",
   "name": "python",
   "nbconvert_exporter": "python",
   "pygments_lexer": "ipython3",
   "version": "3.8.7"
  }
 },
 "nbformat": 4,
 "nbformat_minor": 4
}
