{
 "cells": [
  {
   "cell_type": "code",
   "execution_count": 1,
   "metadata": {},
   "outputs": [
    {
     "name": "stdout",
     "output_type": "stream",
     "text": [
      "Starting...\n",
      "Current Time = 18:29:11.522429\n"
     ]
    }
   ],
   "source": [
    "import os\n",
    "\n",
    "from datetime import datetime\n",
    "def time_now():\n",
    "    '''Get Current Time'''\n",
    "    \n",
    "    now = datetime.now()\n",
    "    current_time = now.strftime(\"%H:%M:%S.%f\")\n",
    "    print(\"Current Time =\", current_time)\n",
    "    return now\n",
    "\n",
    "\n",
    "############\n",
    "print('Starting...')\n",
    "start = time_now()\n",
    "############"
   ]
  },
  {
   "cell_type": "code",
   "execution_count": null,
   "metadata": {},
   "outputs": [],
   "source": []
  },
  {
   "cell_type": "code",
   "execution_count": null,
   "metadata": {},
   "outputs": [],
   "source": []
  },
  {
   "cell_type": "code",
   "execution_count": null,
   "metadata": {},
   "outputs": [],
   "source": []
  },
  {
   "cell_type": "code",
   "execution_count": 2,
   "metadata": {},
   "outputs": [],
   "source": [
    "def create_folder_name(folder_prefix = 'NLP_RESULTS', file_time='datetime object'):\n",
    "    file_name = f'{start.strftime(\"%d_%B_%Y_%Hh%Mm%Ss\")}'\n",
    "    file_name = f'{folder_prefix}_{file_name}'\n",
    "    return file_name"
   ]
  },
  {
   "cell_type": "code",
   "execution_count": null,
   "metadata": {},
   "outputs": [],
   "source": []
  },
  {
   "cell_type": "code",
   "execution_count": 3,
   "metadata": {},
   "outputs": [
    {
     "name": "stdin",
     "output_type": "stream",
     "text": [
      "Enter Batch Number 1\n"
     ]
    }
   ],
   "source": [
    "batch_name = int(input('Enter Batch Number'))"
   ]
  },
  {
   "cell_type": "code",
   "execution_count": null,
   "metadata": {},
   "outputs": [],
   "source": []
  },
  {
   "cell_type": "code",
   "execution_count": 4,
   "metadata": {},
   "outputs": [
    {
     "data": {
      "text/plain": [
       "'0123456789abcdefghijklmnopqrstuvwxyzABCDEFGHIJKLMNOPQRSTUVWXYZ!\"#$%&\\'()*+,-./:;<=>?@[\\\\]^_`{|}~ \\t\\n\\r\\x0b\\x0c'"
      ]
     },
     "execution_count": 4,
     "metadata": {},
     "output_type": "execute_result"
    }
   ],
   "source": [
    "batch_name = f'batch_{str(batch_name).zfill(2)}'\n",
    "\n",
    "from string import printable\n",
    "\n",
    "printable"
   ]
  },
  {
   "cell_type": "code",
   "execution_count": 5,
   "metadata": {},
   "outputs": [],
   "source": [
    "pos_tags = 'ADJ ADP ADV AUX CONJ CCONJ DET INTJ NOUN NUM PART PRON PROPN PUNCT SCONJ SYM VERB X SPACE'.split()"
   ]
  },
  {
   "cell_type": "code",
   "execution_count": 6,
   "metadata": {},
   "outputs": [],
   "source": [
    "import pandas as pd"
   ]
  },
  {
   "cell_type": "code",
   "execution_count": null,
   "metadata": {},
   "outputs": [],
   "source": []
  },
  {
   "cell_type": "code",
   "execution_count": null,
   "metadata": {},
   "outputs": [],
   "source": []
  },
  {
   "cell_type": "code",
   "execution_count": 7,
   "metadata": {},
   "outputs": [],
   "source": [
    "list_punct_ignore = ['\"',  '!',  '–',  '.',  '‘',  ';',  '(',  ']',  ',',  '’',  '”',  '{',  ':',  ')',  '“',  '}',  '?',  '[']"
   ]
  },
  {
   "cell_type": "code",
   "execution_count": 8,
   "metadata": {},
   "outputs": [],
   "source": [
    "pat_noun_fill_noun = [\n",
    "    {'POS': {'IN': 'NOUN ADJ PROPN'.split()} , 'OP':'+'},\n",
    "    {'POS': {'IN': 'ADP DET CCONJ'.split()} , 'OP':'+'},\n",
    "    {'POS': {'IN': 'NOUN ADJ PROPN'.split()} , 'OP':'+'},\n",
    "        ]"
   ]
  },
  {
   "cell_type": "code",
   "execution_count": 9,
   "metadata": {},
   "outputs": [],
   "source": [
    "pat_noun = [\n",
    "    {'POS': {'IN': 'NOUN ADJ PROPN PUNCT'.split()} , 'OP':'+', 'LEMMA':{'NOT_IN':list_punct_ignore}},\n",
    "        ]"
   ]
  },
  {
   "cell_type": "code",
   "execution_count": 10,
   "metadata": {},
   "outputs": [
    {
     "data": {
      "text/plain": [
       "[{'POS': {'IN': ['NOUN', 'ADJ', 'PROPN', 'PUNCT']},\n",
       "  'OP': '+',\n",
       "  'LEMMA': {'NOT_IN': ['\"',\n",
       "    '!',\n",
       "    '–',\n",
       "    '.',\n",
       "    '‘',\n",
       "    ';',\n",
       "    '(',\n",
       "    ']',\n",
       "    ',',\n",
       "    '’',\n",
       "    '”',\n",
       "    '{',\n",
       "    ':',\n",
       "    ')',\n",
       "    '“',\n",
       "    '}',\n",
       "    '?',\n",
       "    '[']}}]"
      ]
     },
     "execution_count": 10,
     "metadata": {},
     "output_type": "execute_result"
    }
   ],
   "source": [
    "pat_noun"
   ]
  },
  {
   "cell_type": "code",
   "execution_count": null,
   "metadata": {},
   "outputs": [],
   "source": []
  },
  {
   "cell_type": "code",
   "execution_count": 11,
   "metadata": {},
   "outputs": [],
   "source": [
    "pat_verb_fill_noun = [\n",
    "    {'POS': {'IN': 'VERB'.split()} , 'OP':'+'},\n",
    "    {'POS': {'IN': 'ADP DET DET'.split()} , 'OP':'*'},\n",
    "    {'POS': {'IN': 'NOUN ADJ PROPN'.split()} , 'OP':'+'},\n",
    "        ]"
   ]
  },
  {
   "cell_type": "code",
   "execution_count": null,
   "metadata": {},
   "outputs": [],
   "source": []
  },
  {
   "cell_type": "code",
   "execution_count": 12,
   "metadata": {},
   "outputs": [
    {
     "data": {
      "text/plain": [
       "[{'POS': {'IN': ['NOUN', 'ADJ', 'PROPN']}, 'OP': '+'},\n",
       " {'POS': {'IN': ['ADP', 'DET', 'CCONJ']}, 'OP': '+'},\n",
       " {'POS': {'IN': ['NOUN', 'ADJ', 'PROPN']}, 'OP': '+'}]"
      ]
     },
     "execution_count": 12,
     "metadata": {},
     "output_type": "execute_result"
    }
   ],
   "source": [
    "pat_noun_fill_noun"
   ]
  },
  {
   "cell_type": "code",
   "execution_count": null,
   "metadata": {},
   "outputs": [],
   "source": []
  },
  {
   "cell_type": "code",
   "execution_count": 13,
   "metadata": {},
   "outputs": [],
   "source": [
    "pat_noun_fill_verb = [\n",
    "    {'POS': {'IN': 'NOUN ADJ PROPN'.split()} , 'OP':'+'},\n",
    "    {'POS': {'IN': 'AUX'.split()} , 'OP':'*'},\n",
    "    {'POS': {'IN': 'VERB'.split()} , 'OP':'+'},\n",
    "        ]"
   ]
  },
  {
   "cell_type": "code",
   "execution_count": null,
   "metadata": {},
   "outputs": [],
   "source": []
  },
  {
   "cell_type": "code",
   "execution_count": 14,
   "metadata": {},
   "outputs": [],
   "source": [
    "#pat_list  = [eval(i) for i in dir() if \"pat_\" in i]"
   ]
  },
  {
   "cell_type": "code",
   "execution_count": null,
   "metadata": {},
   "outputs": [],
   "source": []
  },
  {
   "cell_type": "code",
   "execution_count": 15,
   "metadata": {},
   "outputs": [
    {
     "data": {
      "text/plain": [
       "[{'POS': {'IN': ['NOUN', 'ADJ', 'PROPN', 'PUNCT']},\n",
       "  'OP': '+',\n",
       "  'LEMMA': {'NOT_IN': ['\"',\n",
       "    '!',\n",
       "    '–',\n",
       "    '.',\n",
       "    '‘',\n",
       "    ';',\n",
       "    '(',\n",
       "    ']',\n",
       "    ',',\n",
       "    '’',\n",
       "    '”',\n",
       "    '{',\n",
       "    ':',\n",
       "    ')',\n",
       "    '“',\n",
       "    '}',\n",
       "    '?',\n",
       "    '[']}}]"
      ]
     },
     "execution_count": 15,
     "metadata": {},
     "output_type": "execute_result"
    }
   ],
   "source": [
    "pat_list[0]"
   ]
  },
  {
   "cell_type": "code",
   "execution_count": null,
   "metadata": {},
   "outputs": [],
   "source": []
  },
  {
   "cell_type": "code",
   "execution_count": null,
   "metadata": {},
   "outputs": [],
   "source": []
  },
  {
   "cell_type": "code",
   "execution_count": 16,
   "metadata": {},
   "outputs": [],
   "source": [
    "from itertools import chain\n",
    "from collections import Counter"
   ]
  },
  {
   "cell_type": "code",
   "execution_count": 17,
   "metadata": {},
   "outputs": [],
   "source": [
    "import spacy\n",
    "nlp = spacy.load(\"en_core_web_sm\")"
   ]
  },
  {
   "cell_type": "code",
   "execution_count": 18,
   "metadata": {},
   "outputs": [],
   "source": [
    "import regex as re\n",
    "from spacy.matcher import Matcher"
   ]
  },
  {
   "cell_type": "code",
   "execution_count": null,
   "metadata": {},
   "outputs": [],
   "source": []
  },
  {
   "cell_type": "code",
   "execution_count": null,
   "metadata": {},
   "outputs": [],
   "source": []
  },
  {
   "cell_type": "markdown",
   "metadata": {},
   "source": [
    "```PYTHON\n",
    "with open('afc_statute_03.txt', encoding='utf-8') as afc_file:\n",
    "    afc_stat_text = [line.strip() for line in afc_file.readlines()]\n",
    "```"
   ]
  },
  {
   "cell_type": "code",
   "execution_count": null,
   "metadata": {},
   "outputs": [],
   "source": []
  },
  {
   "cell_type": "markdown",
   "metadata": {},
   "source": [
    "```PYTHON\n",
    "#df = pd.read_pickle('AFC_CONGRESS_AKBAR_TRANSCRIPTS.pkl')\n",
    "df = pd.DataFrame(data={\n",
    "'TEXT': afc_stat_text\n",
    "})\n",
    "```"
   ]
  },
  {
   "cell_type": "markdown",
   "metadata": {},
   "source": [
    "```PYTHON\n",
    "df = df[df['TEXT'].apply(lambda x: len(x.split())>=3)].reset_index(drop=True)\n",
    "```"
   ]
  },
  {
   "cell_type": "code",
   "execution_count": 19,
   "metadata": {},
   "outputs": [],
   "source": [
    "#remove_this = list(dict(df['TEXT'].value_counts().head(5)))"
   ]
  },
  {
   "cell_type": "code",
   "execution_count": null,
   "metadata": {},
   "outputs": [],
   "source": []
  },
  {
   "cell_type": "code",
   "execution_count": 20,
   "metadata": {},
   "outputs": [],
   "source": [
    "#df = df[df['TEXT'].apply(lambda x: x not in remove_this)].reset_index(drop=True)"
   ]
  },
  {
   "cell_type": "code",
   "execution_count": null,
   "metadata": {},
   "outputs": [],
   "source": []
  },
  {
   "cell_type": "code",
   "execution_count": 21,
   "metadata": {},
   "outputs": [
    {
     "ename": "NameError",
     "evalue": "name 'df' is not defined",
     "output_type": "error",
     "traceback": [
      "\u001b[1;31m---------------------------------------------------------------------------\u001b[0m",
      "\u001b[1;31mNameError\u001b[0m                                 Traceback (most recent call last)",
      "\u001b[1;32m<ipython-input-21-9e112543b788>\u001b[0m in \u001b[0;36m<module>\u001b[1;34m\u001b[0m\n\u001b[1;32m----> 1\u001b[1;33m \u001b[0mlen\u001b[0m\u001b[1;33m(\u001b[0m\u001b[0mdf\u001b[0m\u001b[1;33m)\u001b[0m\u001b[1;33m\u001b[0m\u001b[1;33m\u001b[0m\u001b[0m\n\u001b[0m",
      "\u001b[1;31mNameError\u001b[0m: name 'df' is not defined"
     ]
    }
   ],
   "source": [
    "len(df)"
   ]
  },
  {
   "cell_type": "code",
   "execution_count": 22,
   "metadata": {},
   "outputs": [],
   "source": [
    "# df['NLP'] = df['TEXT'].apply(lambda x: nlp(x))"
   ]
  },
  {
   "cell_type": "code",
   "execution_count": null,
   "metadata": {},
   "outputs": [],
   "source": []
  },
  {
   "cell_type": "code",
   "execution_count": 23,
   "metadata": {},
   "outputs": [],
   "source": [
    "#os.mkdir('nlps')"
   ]
  },
  {
   "cell_type": "code",
   "execution_count": 24,
   "metadata": {},
   "outputs": [],
   "source": [
    "# df.to_pickle('./nlps/AFC_STATUTE_NLP.pkl', protocol=4)"
   ]
  },
  {
   "cell_type": "code",
   "execution_count": null,
   "metadata": {},
   "outputs": [],
   "source": []
  },
  {
   "cell_type": "markdown",
   "metadata": {},
   "source": [
    "# DIRECTORY OF NLP FILES\n"
   ]
  },
  {
   "cell_type": "code",
   "execution_count": 25,
   "metadata": {},
   "outputs": [],
   "source": [
    "folder_name = f'nlps/'.replace('/', '')"
   ]
  },
  {
   "cell_type": "code",
   "execution_count": 26,
   "metadata": {},
   "outputs": [
    {
     "name": "stdin",
     "output_type": "stream",
     "text": [
      "Enter Threshold Frequency:\n",
      " 3\n"
     ]
    }
   ],
   "source": [
    "try:\n",
    "    threshold =  int(input('Enter Threshold Frequency:\\n'))\n",
    "except:\n",
    "    threshold = 2"
   ]
  },
  {
   "cell_type": "code",
   "execution_count": null,
   "metadata": {},
   "outputs": [],
   "source": []
  },
  {
   "cell_type": "code",
   "execution_count": 27,
   "metadata": {},
   "outputs": [
    {
     "name": "stdout",
     "output_type": "stream",
     "text": [
      "Threshold is 3\n"
     ]
    }
   ],
   "source": [
    "print(f'Threshold is {threshold}')"
   ]
  },
  {
   "cell_type": "code",
   "execution_count": 28,
   "metadata": {},
   "outputs": [],
   "source": [
    "files_list = [i for i in os.listdir(folder_name) if i.endswith('pkl')]"
   ]
  },
  {
   "cell_type": "code",
   "execution_count": 29,
   "metadata": {},
   "outputs": [],
   "source": [
    "files_list = [f'./{folder_name}/{i}' for i in files_list]"
   ]
  },
  {
   "cell_type": "code",
   "execution_count": 30,
   "metadata": {},
   "outputs": [
    {
     "data": {
      "text/plain": [
       "['./nlps/AFC_NLP.pkl', './nlps/AFC_STATUTE_NLP.pkl']"
      ]
     },
     "execution_count": 30,
     "metadata": {},
     "output_type": "execute_result"
    }
   ],
   "source": [
    "files_list"
   ]
  },
  {
   "cell_type": "code",
   "execution_count": null,
   "metadata": {},
   "outputs": [],
   "source": []
  },
  {
   "cell_type": "code",
   "execution_count": 31,
   "metadata": {},
   "outputs": [],
   "source": [
    "df_afc_trans, df_afc_stat  = pd.read_pickle(files_list[0]), pd.read_pickle(files_list[1])"
   ]
  },
  {
   "cell_type": "code",
   "execution_count": 32,
   "metadata": {},
   "outputs": [],
   "source": [
    "df_afc_trans, df_afc_stat = df_afc_trans['NLP'.split()], df_afc_stat['NLP'.split()]"
   ]
  },
  {
   "cell_type": "code",
   "execution_count": 33,
   "metadata": {},
   "outputs": [],
   "source": [
    "df_comb = pd.DataFrame(data = {'NLP': ['PLACE_HOLDER']})"
   ]
  },
  {
   "cell_type": "code",
   "execution_count": 34,
   "metadata": {},
   "outputs": [],
   "source": [
    "df_comb = df_comb.append([df_afc_stat, df_afc_trans])\n",
    "df_comb = df_comb[df_comb['NLP'] != 'PLACE_HOLDER'].reset_index(drop=True)"
   ]
  },
  {
   "cell_type": "code",
   "execution_count": 35,
   "metadata": {},
   "outputs": [],
   "source": [
    "df = df_comb"
   ]
  },
  {
   "cell_type": "code",
   "execution_count": null,
   "metadata": {},
   "outputs": [],
   "source": []
  },
  {
   "cell_type": "code",
   "execution_count": 36,
   "metadata": {},
   "outputs": [],
   "source": [
    "def get_pos_lemma_pattern(doc, pat_name='anything', pat_collection='list_of_dictionaries'):\n",
    "    '''\n",
    "    Given a spacy doc object; find the span according to the pattern given.\n",
    "    ''' \n",
    "    matcher =  Matcher(vocab = nlp.vocab)\n",
    "    matcher.add(f'{pat_name}', pat_collection, greedy='LONGEST')\n",
    "    \n",
    "    \n",
    "    doc_match = matcher(doc)\n",
    "    \n",
    "    \n",
    "    list_container = []\n",
    "    for match in doc_match:\n",
    "        start = match[1]\n",
    "        end = match[2]\n",
    "        \n",
    "        result_lemma = doc[start:end]\n",
    "        result_lemma = [(i.lemma_ + i.whitespace_) for i in result_lemma] # new!\n",
    "        result_lemma = ''.join(result_lemma).strip()\n",
    "\n",
    "        result_token = doc[start:end]\n",
    "        result_token = [(i.text + i.whitespace_) for i in result_token] # new!\n",
    "        result_token = ''.join(result_token).strip()\n",
    "\n",
    "        result_pos = doc[start:end]\n",
    "        result_pos = [i.pos_ for i in result_pos] # new!\n",
    "        result_pos = ' '.join(result_pos).strip()\n",
    "        \n",
    "        if len(result_lemma.split()) > 1:\n",
    "            list_container.append((result_token, result_lemma, result_pos))\n",
    "\n",
    "    return list_container"
   ]
  },
  {
   "cell_type": "code",
   "execution_count": 38,
   "metadata": {},
   "outputs": [
    {
     "data": {
      "text/html": [
       "<div>\n",
       "<style scoped>\n",
       "    .dataframe tbody tr th:only-of-type {\n",
       "        vertical-align: middle;\n",
       "    }\n",
       "\n",
       "    .dataframe tbody tr th {\n",
       "        vertical-align: top;\n",
       "    }\n",
       "\n",
       "    .dataframe thead th {\n",
       "        text-align: right;\n",
       "    }\n",
       "</style>\n",
       "<table border=\"1\" class=\"dataframe\">\n",
       "  <thead>\n",
       "    <tr style=\"text-align: right;\">\n",
       "      <th></th>\n",
       "      <th>NLP</th>\n",
       "    </tr>\n",
       "  </thead>\n",
       "  <tbody>\n",
       "    <tr>\n",
       "      <th>0</th>\n",
       "      <td>(STATUTES, OF, THE, ASIAN, FOOTBALL, CONFEDERA...</td>\n",
       "    </tr>\n",
       "    <tr>\n",
       "      <th>1</th>\n",
       "      <td>(In, interpreting, these, Statutes, ,, Regulat...</td>\n",
       "    </tr>\n",
       "    <tr>\n",
       "      <th>2</th>\n",
       "      <td>(1, ., \", Association, \", means, \", a, Footbal...</td>\n",
       "    </tr>\n",
       "    <tr>\n",
       "      <th>3</th>\n",
       "      <td>(2, ., \", AFC, \", means, the, \", Asian, Footba...</td>\n",
       "    </tr>\n",
       "    <tr>\n",
       "      <th>4</th>\n",
       "      <td>(3, ., \", Association, Football, \", means, \", ...</td>\n",
       "    </tr>\n",
       "    <tr>\n",
       "      <th>...</th>\n",
       "      <td>...</td>\n",
       "    </tr>\n",
       "    <tr>\n",
       "      <th>1201</th>\n",
       "      <td>(Sultan, as, well, as, all, of, tonight, 's, A...</td>\n",
       "    </tr>\n",
       "    <tr>\n",
       "      <th>1202</th>\n",
       "      <td>(round, of, applause, for, all, of, tonight, '...</td>\n",
       "    </tr>\n",
       "    <tr>\n",
       "      <th>1203</th>\n",
       "      <td>(taste, of, the, renowned, Armani, hospitality...</td>\n",
       "    </tr>\n",
       "    <tr>\n",
       "      <th>1204</th>\n",
       "      <td>(now, invite, you, to, join, us, in, the, foye...</td>\n",
       "    </tr>\n",
       "    <tr>\n",
       "      <th>1205</th>\n",
       "      <td>([, Music, ], you, you)</td>\n",
       "    </tr>\n",
       "  </tbody>\n",
       "</table>\n",
       "<p>1206 rows × 1 columns</p>\n",
       "</div>"
      ],
      "text/plain": [
       "                                                    NLP\n",
       "0     (STATUTES, OF, THE, ASIAN, FOOTBALL, CONFEDERA...\n",
       "1     (In, interpreting, these, Statutes, ,, Regulat...\n",
       "2     (1, ., \", Association, \", means, \", a, Footbal...\n",
       "3     (2, ., \", AFC, \", means, the, \", Asian, Footba...\n",
       "4     (3, ., \", Association, Football, \", means, \", ...\n",
       "...                                                 ...\n",
       "1201  (Sultan, as, well, as, all, of, tonight, 's, A...\n",
       "1202  (round, of, applause, for, all, of, tonight, '...\n",
       "1203  (taste, of, the, renowned, Armani, hospitality...\n",
       "1204  (now, invite, you, to, join, us, in, the, foye...\n",
       "1205                            ([, Music, ], you, you)\n",
       "\n",
       "[1206 rows x 1 columns]"
      ]
     },
     "execution_count": 38,
     "metadata": {},
     "output_type": "execute_result"
    }
   ],
   "source": [
    "df"
   ]
  },
  {
   "cell_type": "code",
   "execution_count": null,
   "metadata": {},
   "outputs": [],
   "source": []
  },
  {
   "cell_type": "code",
   "execution_count": 39,
   "metadata": {},
   "outputs": [],
   "source": [
    "df['PAT_01'] = df['NLP'].apply(lambda x: get_pos_lemma_pattern(x, 'PAT_01', [pat_list[0]]))"
   ]
  },
  {
   "cell_type": "code",
   "execution_count": 40,
   "metadata": {},
   "outputs": [],
   "source": [
    "df['PAT_02'] = df['NLP'].apply(lambda x: get_pos_lemma_pattern(x, 'PAT_02', [pat_list[1]]))"
   ]
  },
  {
   "cell_type": "code",
   "execution_count": 41,
   "metadata": {},
   "outputs": [],
   "source": [
    "df['PAT_03'] = df['NLP'].apply(lambda x: get_pos_lemma_pattern(x, 'PAT_03', [pat_list[2]]))"
   ]
  },
  {
   "cell_type": "code",
   "execution_count": 42,
   "metadata": {},
   "outputs": [],
   "source": [
    "df['PAT_04'] = df['NLP'].apply(lambda x: get_pos_lemma_pattern(x, 'PAT_04', [pat_list[3]]))"
   ]
  },
  {
   "cell_type": "code",
   "execution_count": 44,
   "metadata": {},
   "outputs": [
    {
     "data": {
      "text/html": [
       "<div>\n",
       "<style scoped>\n",
       "    .dataframe tbody tr th:only-of-type {\n",
       "        vertical-align: middle;\n",
       "    }\n",
       "\n",
       "    .dataframe tbody tr th {\n",
       "        vertical-align: top;\n",
       "    }\n",
       "\n",
       "    .dataframe thead th {\n",
       "        text-align: right;\n",
       "    }\n",
       "</style>\n",
       "<table border=\"1\" class=\"dataframe\">\n",
       "  <thead>\n",
       "    <tr style=\"text-align: right;\">\n",
       "      <th></th>\n",
       "      <th>NLP</th>\n",
       "      <th>PAT_01</th>\n",
       "      <th>PAT_02</th>\n",
       "      <th>PAT_03</th>\n",
       "      <th>PAT_04</th>\n",
       "    </tr>\n",
       "  </thead>\n",
       "  <tbody>\n",
       "    <tr>\n",
       "      <th>0</th>\n",
       "      <td>(STATUTES, OF, THE, ASIAN, FOOTBALL, CONFEDERA...</td>\n",
       "      <td>[(ASIAN FOOTBALL CONFEDERATION, ASIAN FOOTBALL...</td>\n",
       "      <td>[(STATUTES OF THE ASIAN FOOTBALL CONFEDERATION...</td>\n",
       "      <td>[]</td>\n",
       "      <td>[]</td>\n",
       "    </tr>\n",
       "    <tr>\n",
       "      <th>1</th>\n",
       "      <td>(In, interpreting, these, Statutes, ,, Regulat...</td>\n",
       "      <td>[(Standing Orders, Standing Orders, PROPN PROPN)]</td>\n",
       "      <td>[(Standing Orders of the Congress, Standing Or...</td>\n",
       "      <td>[(Regulations Governing, Regulations govern, P...</td>\n",
       "      <td>[(interpreting these Statutes, interpret these...</td>\n",
       "    </tr>\n",
       "    <tr>\n",
       "      <th>2</th>\n",
       "      <td>(1, ., \", Association, \", means, \", a, Footbal...</td>\n",
       "      <td>[(Football Association, Football Association, ...</td>\n",
       "      <td>[(evident from the context, evident from the c...</td>\n",
       "      <td>[(Football Association recognised, Football As...</td>\n",
       "      <td>[(recognised as such, recognise as such, VERB ...</td>\n",
       "    </tr>\n",
       "    <tr>\n",
       "      <th>3</th>\n",
       "      <td>(2, ., \", AFC, \", means, the, \", Asian, Footba...</td>\n",
       "      <td>[(Asian Football Confederation, Asian Football...</td>\n",
       "      <td>[]</td>\n",
       "      <td>[]</td>\n",
       "      <td>[]</td>\n",
       "    </tr>\n",
       "    <tr>\n",
       "      <th>4</th>\n",
       "      <td>(3, ., \", Association, Football, \", means, \", ...</td>\n",
       "      <td>[(Association Football, Association Football, ...</td>\n",
       "      <td>[(Confederations and/or Member Associations, C...</td>\n",
       "      <td>[(game controlled, game control, NOUN VERB)]</td>\n",
       "      <td>[(controlled by FIFA, control by FIFA, VERB AD...</td>\n",
       "    </tr>\n",
       "    <tr>\n",
       "      <th>...</th>\n",
       "      <td>...</td>\n",
       "      <td>...</td>\n",
       "      <td>...</td>\n",
       "      <td>...</td>\n",
       "      <td>...</td>\n",
       "    </tr>\n",
       "    <tr>\n",
       "      <th>1201</th>\n",
       "      <td>(Sultan, as, well, as, all, of, tonight, 's, A...</td>\n",
       "      <td>[(Award winners, Award winner, PROPN NOUN), (g...</td>\n",
       "      <td>[(Award winners for a group photograph, Award ...</td>\n",
       "      <td>[]</td>\n",
       "      <td>[(have the winners, have the winner, VERB DET ...</td>\n",
       "    </tr>\n",
       "    <tr>\n",
       "      <th>1202</th>\n",
       "      <td>(round, of, applause, for, all, of, tonight, '...</td>\n",
       "      <td>[(AFC annual awards, AFC annual award, PROPN A...</td>\n",
       "      <td>[(guests ladies and gentlemen, guest lady and ...</td>\n",
       "      <td>[(AFC annual awards muscat, AFC annual award m...</td>\n",
       "      <td>[(concludes the AFC annual awards, conclude th...</td>\n",
       "    </tr>\n",
       "    <tr>\n",
       "      <th>1203</th>\n",
       "      <td>(taste, of, the, renowned, Armani, hospitality...</td>\n",
       "      <td>[(good night good night, good night good night...</td>\n",
       "      <td>[(general secretaries of all the AFC member as...</td>\n",
       "      <td>[(pleasure co-hosting, pleasure co-host, NOUN ...</td>\n",
       "      <td>[(recognize the true Diamonds, recognize the t...</td>\n",
       "    </tr>\n",
       "    <tr>\n",
       "      <th>1204</th>\n",
       "      <td>(now, invite, you, to, join, us, in, the, foye...</td>\n",
       "      <td>[(post event reception, post event reception, ...</td>\n",
       "      <td>[]</td>\n",
       "      <td>[]</td>\n",
       "      <td>[(have a good evening, have a good evening, VE...</td>\n",
       "    </tr>\n",
       "    <tr>\n",
       "      <th>1205</th>\n",
       "      <td>([, Music, ], you, you)</td>\n",
       "      <td>[]</td>\n",
       "      <td>[]</td>\n",
       "      <td>[]</td>\n",
       "      <td>[]</td>\n",
       "    </tr>\n",
       "  </tbody>\n",
       "</table>\n",
       "<p>1206 rows × 5 columns</p>\n",
       "</div>"
      ],
      "text/plain": [
       "                                                    NLP  \\\n",
       "0     (STATUTES, OF, THE, ASIAN, FOOTBALL, CONFEDERA...   \n",
       "1     (In, interpreting, these, Statutes, ,, Regulat...   \n",
       "2     (1, ., \", Association, \", means, \", a, Footbal...   \n",
       "3     (2, ., \", AFC, \", means, the, \", Asian, Footba...   \n",
       "4     (3, ., \", Association, Football, \", means, \", ...   \n",
       "...                                                 ...   \n",
       "1201  (Sultan, as, well, as, all, of, tonight, 's, A...   \n",
       "1202  (round, of, applause, for, all, of, tonight, '...   \n",
       "1203  (taste, of, the, renowned, Armani, hospitality...   \n",
       "1204  (now, invite, you, to, join, us, in, the, foye...   \n",
       "1205                            ([, Music, ], you, you)   \n",
       "\n",
       "                                                 PAT_01  \\\n",
       "0     [(ASIAN FOOTBALL CONFEDERATION, ASIAN FOOTBALL...   \n",
       "1     [(Standing Orders, Standing Orders, PROPN PROPN)]   \n",
       "2     [(Football Association, Football Association, ...   \n",
       "3     [(Asian Football Confederation, Asian Football...   \n",
       "4     [(Association Football, Association Football, ...   \n",
       "...                                                 ...   \n",
       "1201  [(Award winners, Award winner, PROPN NOUN), (g...   \n",
       "1202  [(AFC annual awards, AFC annual award, PROPN A...   \n",
       "1203  [(good night good night, good night good night...   \n",
       "1204  [(post event reception, post event reception, ...   \n",
       "1205                                                 []   \n",
       "\n",
       "                                                 PAT_02  \\\n",
       "0     [(STATUTES OF THE ASIAN FOOTBALL CONFEDERATION...   \n",
       "1     [(Standing Orders of the Congress, Standing Or...   \n",
       "2     [(evident from the context, evident from the c...   \n",
       "3                                                    []   \n",
       "4     [(Confederations and/or Member Associations, C...   \n",
       "...                                                 ...   \n",
       "1201  [(Award winners for a group photograph, Award ...   \n",
       "1202  [(guests ladies and gentlemen, guest lady and ...   \n",
       "1203  [(general secretaries of all the AFC member as...   \n",
       "1204                                                 []   \n",
       "1205                                                 []   \n",
       "\n",
       "                                                 PAT_03  \\\n",
       "0                                                    []   \n",
       "1     [(Regulations Governing, Regulations govern, P...   \n",
       "2     [(Football Association recognised, Football As...   \n",
       "3                                                    []   \n",
       "4          [(game controlled, game control, NOUN VERB)]   \n",
       "...                                                 ...   \n",
       "1201                                                 []   \n",
       "1202  [(AFC annual awards muscat, AFC annual award m...   \n",
       "1203  [(pleasure co-hosting, pleasure co-host, NOUN ...   \n",
       "1204                                                 []   \n",
       "1205                                                 []   \n",
       "\n",
       "                                                 PAT_04  \n",
       "0                                                    []  \n",
       "1     [(interpreting these Statutes, interpret these...  \n",
       "2     [(recognised as such, recognise as such, VERB ...  \n",
       "3                                                    []  \n",
       "4     [(controlled by FIFA, control by FIFA, VERB AD...  \n",
       "...                                                 ...  \n",
       "1201  [(have the winners, have the winner, VERB DET ...  \n",
       "1202  [(concludes the AFC annual awards, conclude th...  \n",
       "1203  [(recognize the true Diamonds, recognize the t...  \n",
       "1204  [(have a good evening, have a good evening, VE...  \n",
       "1205                                                 []  \n",
       "\n",
       "[1206 rows x 5 columns]"
      ]
     },
     "execution_count": 44,
     "metadata": {},
     "output_type": "execute_result"
    }
   ],
   "source": [
    "df"
   ]
  },
  {
   "cell_type": "code",
   "execution_count": null,
   "metadata": {},
   "outputs": [],
   "source": []
  },
  {
   "cell_type": "code",
   "execution_count": null,
   "metadata": {},
   "outputs": [],
   "source": []
  },
  {
   "cell_type": "code",
   "execution_count": 43,
   "metadata": {},
   "outputs": [],
   "source": [
    "#df.to_pickle('COMBINED_STAT_TRANS_AFC_PATTERNS_10_05_2022_STAGE_01.pkl', protocol=4)"
   ]
  },
  {
   "cell_type": "code",
   "execution_count": 45,
   "metadata": {},
   "outputs": [
    {
     "data": {
      "text/plain": [
       "('Member Associations', 'Member Associations', 'PROPN PROPN')"
      ]
     },
     "execution_count": 45,
     "metadata": {},
     "output_type": "execute_result"
    }
   ],
   "source": [
    "df['PAT_01'].iloc[4][1]"
   ]
  },
  {
   "cell_type": "code",
   "execution_count": 46,
   "metadata": {},
   "outputs": [],
   "source": [
    "dict_pat_01 = dict(Counter(list(chain(*list(df['PAT_01'].apply(lambda x: [i[1].title() for i in x]))))).most_common(200))"
   ]
  },
  {
   "cell_type": "code",
   "execution_count": 47,
   "metadata": {},
   "outputs": [],
   "source": [
    "dict_pat_02 = dict(Counter(list(chain(*list(df['PAT_02'].apply(lambda x: [i[1].title() for i in x]))))).most_common(200))"
   ]
  },
  {
   "cell_type": "code",
   "execution_count": 48,
   "metadata": {},
   "outputs": [],
   "source": [
    "dict_pat_03 = dict(Counter(list(chain(*list(df['PAT_03'].apply(lambda x: [i[1].title() for i in x]))))).most_common(200))"
   ]
  },
  {
   "cell_type": "code",
   "execution_count": 49,
   "metadata": {},
   "outputs": [],
   "source": [
    "dict_pat_04 = dict(Counter(list(chain(*list(df['PAT_04'].apply(lambda x: [i[1].title() for i in x]))))).most_common(200))"
   ]
  },
  {
   "cell_type": "code",
   "execution_count": null,
   "metadata": {},
   "outputs": [],
   "source": []
  },
  {
   "cell_type": "code",
   "execution_count": 50,
   "metadata": {},
   "outputs": [],
   "source": [
    "dict_pat_01 = {k:v for k,v in dict_pat_01.items() if v>1}"
   ]
  },
  {
   "cell_type": "code",
   "execution_count": 51,
   "metadata": {},
   "outputs": [],
   "source": [
    "dict_pat_02 = {k:v for k,v in dict_pat_02.items() if v>1}"
   ]
  },
  {
   "cell_type": "code",
   "execution_count": 52,
   "metadata": {},
   "outputs": [],
   "source": [
    "dict_pat_03 = {k:v for k,v in dict_pat_03.items() if v>1}"
   ]
  },
  {
   "cell_type": "code",
   "execution_count": 53,
   "metadata": {},
   "outputs": [],
   "source": [
    "dict_pat_04 = {k:v for k,v in dict_pat_04.items() if v>1}"
   ]
  },
  {
   "cell_type": "code",
   "execution_count": null,
   "metadata": {},
   "outputs": [],
   "source": []
  },
  {
   "cell_type": "code",
   "execution_count": null,
   "metadata": {},
   "outputs": [],
   "source": []
  },
  {
   "cell_type": "code",
   "execution_count": 54,
   "metadata": {},
   "outputs": [
    {
     "data": {
      "text/plain": [
       "[200, 200, 166, 200]"
      ]
     },
     "execution_count": 54,
     "metadata": {},
     "output_type": "execute_result"
    }
   ],
   "source": [
    "[len(eval(i)) for i in dir() if 'dict_pat_0' in i]"
   ]
  },
  {
   "cell_type": "code",
   "execution_count": null,
   "metadata": {},
   "outputs": [],
   "source": []
  },
  {
   "cell_type": "code",
   "execution_count": 87,
   "metadata": {},
   "outputs": [],
   "source": [
    "df_01 = pd.DataFrame(data = list(zip(dict_pat_01.keys(), dict_pat_01.values())), columns='TERMS FREQ'.split())\n",
    "df_02 = pd.DataFrame(data = list(zip(dict_pat_02.keys(), dict_pat_02.values())), columns='TERMS FREQ'.split())\n",
    "df_03 = pd.DataFrame(data = list(zip(dict_pat_03.keys(), dict_pat_03.values())), columns='TERMS FREQ'.split())\n",
    "df_04 = pd.DataFrame(data = list(zip(dict_pat_04.keys(), dict_pat_04.values())), columns='TERMS FREQ'.split())"
   ]
  },
  {
   "cell_type": "code",
   "execution_count": null,
   "metadata": {},
   "outputs": [],
   "source": []
  },
  {
   "cell_type": "code",
   "execution_count": 88,
   "metadata": {},
   "outputs": [],
   "source": [
    "x1 = df_01['FREQ'].mean(), df_01['FREQ'].max(), (df_01['FREQ'].mean() + df_01['FREQ'].max())/2\n",
    "x2 = df_02['FREQ'].mean(), df_02['FREQ'].max(), (df_02['FREQ'].mean() + df_02['FREQ'].max())/2\n",
    "x3 = df_03['FREQ'].mean(), df_03['FREQ'].max(), (df_03['FREQ'].mean() + df_03['FREQ'].max())/2\n",
    "x4 = df_04['FREQ'].mean(), df_04['FREQ'].max(), (df_04['FREQ'].mean() + df_04['FREQ'].max())/2"
   ]
  },
  {
   "cell_type": "code",
   "execution_count": 89,
   "metadata": {},
   "outputs": [
    {
     "data": {
      "text/plain": [
       "((11.015, 196, 103.5075),\n",
       " (3.485, 19, 11.2425),\n",
       " (3.7228915662650603, 34, 18.86144578313253),\n",
       " (4.165, 29, 16.5825))"
      ]
     },
     "execution_count": 89,
     "metadata": {},
     "output_type": "execute_result"
    }
   ],
   "source": [
    "x1, x2, x3, x4"
   ]
  },
  {
   "cell_type": "code",
   "execution_count": null,
   "metadata": {},
   "outputs": [],
   "source": []
  },
  {
   "cell_type": "code",
   "execution_count": 97,
   "metadata": {},
   "outputs": [],
   "source": [
    "def repeat(term, freq, tup):\n",
    "    if freq >= int(round(tup[2])):\n",
    "        return f\"\"\"\n",
    "{term}\\t\\t\\t\\t{term}\n",
    "\n",
    "------------------------------------------------------------------\n",
    "{term}\\t\\t\\t\\t{term}\n",
    "\n",
    "------------------------------------------------------------------\n",
    "{term}\\t\\t\\t\\t{term}\n",
    "\n",
    "------------------------------------------------------------------\n",
    "\"\"\".strip()\n",
    "    elif int(round(tup[0])) <= freq:\n",
    "        return f\"\"\"\n",
    "{term}\\t\\t\\t\\t{term}\n",
    "\n",
    "------------------------------------------------------------------\n",
    "{term}\\t\\t\\t\\t{term}\n",
    "\n",
    "------------------------------------------------------------------\n",
    "\"\"\".strip()\n",
    "    else:\n",
    "        return f\"\"\"\n",
    "{term}\\t\\t\\t\\t{term}\n",
    "\n",
    "------------------------------------------------------------------\n",
    "\"\"\".strip()"
   ]
  },
  {
   "cell_type": "code",
   "execution_count": 98,
   "metadata": {},
   "outputs": [],
   "source": [
    "df_01['WRITE'] = df_01.apply(lambda x: repeat(x['TERMS'], x['FREQ'], x1), axis=1)\n",
    "df_02['WRITE'] = df_02.apply(lambda x: repeat(x['TERMS'], x['FREQ'], x2), axis=1)\n",
    "df_03['WRITE'] = df_03.apply(lambda x: repeat(x['TERMS'], x['FREQ'], x3), axis=1)\n",
    "df_04['WRITE'] = df_04.apply(lambda x: repeat(x['TERMS'], x['FREQ'], x4), axis=1)"
   ]
  },
  {
   "cell_type": "code",
   "execution_count": 102,
   "metadata": {},
   "outputs": [],
   "source": [
    "# df_01['WRITE'.split()].to_csv('PAT_01.txt', encoding='utf-8', header=False, index=False)\n",
    "# df_02['WRITE'.split()].to_csv('PAT_02.txt', encoding='utf-8', header=False, index=False)\n",
    "# df_03['WRITE'.split()].to_csv('PAT_03.txt', encoding='utf-8', header=False, index=False)\n",
    "# df_04['WRITE'.split()].to_csv('PAT_04.txt', encoding='utf-8', header=False, index=False)"
   ]
  },
  {
   "cell_type": "code",
   "execution_count": 67,
   "metadata": {},
   "outputs": [
    {
     "data": {
      "text/html": [
       "<div>\n",
       "<style scoped>\n",
       "    .dataframe tbody tr th:only-of-type {\n",
       "        vertical-align: middle;\n",
       "    }\n",
       "\n",
       "    .dataframe tbody tr th {\n",
       "        vertical-align: top;\n",
       "    }\n",
       "\n",
       "    .dataframe thead th {\n",
       "        text-align: right;\n",
       "    }\n",
       "</style>\n",
       "<table border=\"1\" class=\"dataframe\">\n",
       "  <thead>\n",
       "    <tr style=\"text-align: right;\">\n",
       "      <th></th>\n",
       "      <th>TERMS</th>\n",
       "      <th>FREQ</th>\n",
       "    </tr>\n",
       "  </thead>\n",
       "  <tbody>\n",
       "    <tr>\n",
       "      <th>0</th>\n",
       "      <td>Guest Lady And Gentleman</td>\n",
       "      <td>19</td>\n",
       "    </tr>\n",
       "    <tr>\n",
       "      <th>1</th>\n",
       "      <td>Press The Submit Button</td>\n",
       "      <td>15</td>\n",
       "    </tr>\n",
       "    <tr>\n",
       "      <th>2</th>\n",
       "      <td>Vote The Voting Window</td>\n",
       "      <td>15</td>\n",
       "    </tr>\n",
       "    <tr>\n",
       "      <th>3</th>\n",
       "      <td>Amendment To The Statute</td>\n",
       "      <td>12</td>\n",
       "    </tr>\n",
       "    <tr>\n",
       "      <th>4</th>\n",
       "      <td>Afc Organisation Regulations And Relevant Regu...</td>\n",
       "      <td>12</td>\n",
       "    </tr>\n",
       "    <tr>\n",
       "      <th>...</th>\n",
       "      <td>...</td>\n",
       "      <td>...</td>\n",
       "    </tr>\n",
       "    <tr>\n",
       "      <th>195</th>\n",
       "      <td>Window For Voting</td>\n",
       "      <td>2</td>\n",
       "    </tr>\n",
       "    <tr>\n",
       "      <th>196</th>\n",
       "      <td>Moment Of Silence</td>\n",
       "      <td>2</td>\n",
       "    </tr>\n",
       "    <tr>\n",
       "      <th>197</th>\n",
       "      <td>Administrator And Fan</td>\n",
       "      <td>2</td>\n",
       "    </tr>\n",
       "    <tr>\n",
       "      <th>198</th>\n",
       "      <td>Article Of The Afc Statute</td>\n",
       "      <td>2</td>\n",
       "    </tr>\n",
       "    <tr>\n",
       "      <th>199</th>\n",
       "      <td>Rise To A Member Association</td>\n",
       "      <td>2</td>\n",
       "    </tr>\n",
       "  </tbody>\n",
       "</table>\n",
       "<p>200 rows × 2 columns</p>\n",
       "</div>"
      ],
      "text/plain": [
       "                                                 TERMS  FREQ\n",
       "0                             Guest Lady And Gentleman    19\n",
       "1                              Press The Submit Button    15\n",
       "2                               Vote The Voting Window    15\n",
       "3                             Amendment To The Statute    12\n",
       "4    Afc Organisation Regulations And Relevant Regu...    12\n",
       "..                                                 ...   ...\n",
       "195                                  Window For Voting     2\n",
       "196                                  Moment Of Silence     2\n",
       "197                              Administrator And Fan     2\n",
       "198                         Article Of The Afc Statute     2\n",
       "199                       Rise To A Member Association     2\n",
       "\n",
       "[200 rows x 2 columns]"
      ]
     },
     "execution_count": 67,
     "metadata": {},
     "output_type": "execute_result"
    }
   ],
   "source": []
  },
  {
   "cell_type": "code",
   "execution_count": null,
   "metadata": {},
   "outputs": [],
   "source": []
  },
  {
   "cell_type": "code",
   "execution_count": null,
   "metadata": {},
   "outputs": [],
   "source": []
  },
  {
   "cell_type": "code",
   "execution_count": null,
   "metadata": {},
   "outputs": [],
   "source": []
  },
  {
   "cell_type": "code",
   "execution_count": 57,
   "metadata": {},
   "outputs": [],
   "source": [
    "list_dict_patterns = sorted([i for i in dir() if 'dict_pat_0' in i])"
   ]
  },
  {
   "cell_type": "code",
   "execution_count": 58,
   "metadata": {},
   "outputs": [
    {
     "data": {
      "text/plain": [
       "['dict_pat_01', 'dict_pat_02', 'dict_pat_03', 'dict_pat_04']"
      ]
     },
     "execution_count": 58,
     "metadata": {},
     "output_type": "execute_result"
    }
   ],
   "source": [
    "list_dict_patterns"
   ]
  },
  {
   "cell_type": "code",
   "execution_count": 59,
   "metadata": {},
   "outputs": [],
   "source": [
    "list_expressions_dfs = [f\"\"\"\n",
    "df_AFC_STAT_{str(idx+1).zfill(2)} = pd.DataFrame(data= {{\n",
    "'LEMMA':{i}.keys(),\n",
    "'FREQ': {i}.values()\n",
    "}}).to_pickle('COMB_PAT_{str(idx+1).zfill(2)}.pkl', protocol=4)\n",
    "\"\"\".strip() for (idx,i) in enumerate(list_dict_patterns)]"
   ]
  },
  {
   "cell_type": "code",
   "execution_count": 60,
   "metadata": {},
   "outputs": [
    {
     "name": "stdout",
     "output_type": "stream",
     "text": [
      "df_AFC_STAT_01 = pd.DataFrame(data= {\n",
      "'LEMMA':dict_pat_01.keys(),\n",
      "'FREQ': dict_pat_01.values()\n",
      "}).to_pickle('COMB_PAT_01.pkl', protocol=4)\n",
      "--------------------------------------------------\n",
      "df_AFC_STAT_02 = pd.DataFrame(data= {\n",
      "'LEMMA':dict_pat_02.keys(),\n",
      "'FREQ': dict_pat_02.values()\n",
      "}).to_pickle('COMB_PAT_02.pkl', protocol=4)\n",
      "--------------------------------------------------\n",
      "df_AFC_STAT_03 = pd.DataFrame(data= {\n",
      "'LEMMA':dict_pat_03.keys(),\n",
      "'FREQ': dict_pat_03.values()\n",
      "}).to_pickle('COMB_PAT_03.pkl', protocol=4)\n",
      "--------------------------------------------------\n",
      "df_AFC_STAT_04 = pd.DataFrame(data= {\n",
      "'LEMMA':dict_pat_04.keys(),\n",
      "'FREQ': dict_pat_04.values()\n",
      "}).to_pickle('COMB_PAT_04.pkl', protocol=4)\n",
      "--------------------------------------------------\n"
     ]
    }
   ],
   "source": [
    "for i in list_expressions_dfs:\n",
    "    print(i)\n",
    "    print('-'*50)\n",
    "    exec(i)"
   ]
  },
  {
   "cell_type": "code",
   "execution_count": null,
   "metadata": {},
   "outputs": [],
   "source": []
  },
  {
   "cell_type": "code",
   "execution_count": 61,
   "metadata": {},
   "outputs": [],
   "source": []
  },
  {
   "cell_type": "code",
   "execution_count": null,
   "metadata": {},
   "outputs": [],
   "source": []
  },
  {
   "cell_type": "code",
   "execution_count": null,
   "metadata": {},
   "outputs": [],
   "source": [
    "# for i in list_expressions_dfs:\n",
    "#     exec(i)"
   ]
  },
  {
   "cell_type": "code",
   "execution_count": null,
   "metadata": {},
   "outputs": [],
   "source": []
  },
  {
   "cell_type": "code",
   "execution_count": null,
   "metadata": {},
   "outputs": [],
   "source": []
  },
  {
   "cell_type": "code",
   "execution_count": null,
   "metadata": {},
   "outputs": [],
   "source": []
  },
  {
   "cell_type": "code",
   "execution_count": null,
   "metadata": {},
   "outputs": [],
   "source": []
  },
  {
   "cell_type": "code",
   "execution_count": null,
   "metadata": {},
   "outputs": [],
   "source": []
  }
 ],
 "metadata": {
  "kernelspec": {
   "display_name": "Python 3",
   "language": "python",
   "name": "python3"
  },
  "language_info": {
   "codemirror_mode": {
    "name": "ipython",
    "version": 3
   },
   "file_extension": ".py",
   "mimetype": "text/x-python",
   "name": "python",
   "nbconvert_exporter": "python",
   "pygments_lexer": "ipython3",
   "version": "3.8.7"
  }
 },
 "nbformat": 4,
 "nbformat_minor": 4
}
