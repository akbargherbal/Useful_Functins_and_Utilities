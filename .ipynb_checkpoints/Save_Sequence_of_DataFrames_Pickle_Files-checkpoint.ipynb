{
 "cells": [
  {
   "cell_type": "code",
   "execution_count": 2,
   "metadata": {},
   "outputs": [],
   "source": [
    "import pandas as pd"
   ]
  },
  {
   "cell_type": "code",
   "execution_count": 1,
   "metadata": {},
   "outputs": [],
   "source": [
    "list_dfs = [i for i in dir() if (('df_' in i) and (len(i)==5))]\n",
    "def save_sequence_of_dfs(file_prefix='PANDAS_DF', list_dfs=list_dfs):\n",
    "    '''This function ASSUMES that there are a series of pandas Dataframes;\n",
    "    It saves them to the current directory.\n",
    "    Give a prefix name for the pickle file; a default one is given.\n",
    "    It assumes the df is of 5 char length, and it is named thus: df_xx.\n",
    "    '''\n",
    "    exp_list_df_save = [f\"{(i)}.to_pickle('{file_prefix}_{i}.pkl', protocol=4)\" for i in list_dfs]\n",
    "    for i in exp_list_df_save:\n",
    "        print(i)"
   ]
  },
  {
   "cell_type": "code",
   "execution_count": null,
   "metadata": {},
   "outputs": [],
   "source": []
  }
 ],
 "metadata": {
  "kernelspec": {
   "display_name": "Python 3",
   "language": "python",
   "name": "python3"
  },
  "language_info": {
   "codemirror_mode": {
    "name": "ipython",
    "version": 3
   },
   "file_extension": ".py",
   "mimetype": "text/x-python",
   "name": "python",
   "nbconvert_exporter": "python",
   "pygments_lexer": "ipython3",
   "version": "3.8.7"
  }
 },
 "nbformat": 4,
 "nbformat_minor": 4
}
