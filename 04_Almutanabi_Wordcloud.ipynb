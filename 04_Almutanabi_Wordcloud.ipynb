{
 "cells": [
  {
   "cell_type": "code",
   "execution_count": null,
   "metadata": {},
   "outputs": [],
   "source": [
    "import wordcloud"
   ]
  },
  {
   "cell_type": "code",
   "execution_count": null,
   "metadata": {},
   "outputs": [],
   "source": []
  },
  {
   "cell_type": "code",
   "execution_count": null,
   "metadata": {},
   "outputs": [],
   "source": [
    "from wordcloud import WordCloud, STOPWORDS, ImageColorGenerator\n",
    "import matplotlib\n",
    "import matplotlib.pyplot as plt"
   ]
  },
  {
   "cell_type": "code",
   "execution_count": null,
   "metadata": {},
   "outputs": [],
   "source": [
    "akbar_colors = ['#009933',\n",
    " '#006699',\n",
    " '#333333',\n",
    " '#669999',\n",
    " '#990066',\n",
    " '#996666',\n",
    " '#cc3333',\n",
    " '#cc6633',\n",
    " '#cc6666',\n",
    " '#ff6633',\n",
    " '#990000',\n",
    " '#003366',\n",
    " '#339966',\n",
    " '#cc3399',\n",
    " '#3333ff']"
   ]
  },
  {
   "cell_type": "code",
   "execution_count": null,
   "metadata": {},
   "outputs": [],
   "source": [
    "# Start with loading all necessary libraries\n",
    "import numpy as np\n",
    "import pandas as pd\n",
    "from os import path\n",
    "from PIL import Image\n",
    "from wordcloud import WordCloud, STOPWORDS, ImageColorGenerator\n",
    "from arabic_reshaper import arabic_reshaper\n",
    "from bidi.algorithm import get_display\n",
    "import re\n",
    "import matplotlib\n",
    "import matplotlib.pyplot as plt"
   ]
  },
  {
   "cell_type": "code",
   "execution_count": null,
   "metadata": {},
   "outputs": [],
   "source": [
    "my_cmap = matplotlib.colors.ListedColormap(akbar_colors, name='my_colormap_name', N=45)\n"
   ]
  },
  {
   "cell_type": "code",
   "execution_count": null,
   "metadata": {},
   "outputs": [],
   "source": []
  },
  {
   "cell_type": "code",
   "execution_count": null,
   "metadata": {},
   "outputs": [],
   "source": [
    "df01 = pd.read_pickle('01_ibnkhaldon_lex_minus_stopwords.pkl')"
   ]
  },
  {
   "cell_type": "code",
   "execution_count": null,
   "metadata": {},
   "outputs": [],
   "source": [
    "df01 = df01['Word\tCount'.split()]"
   ]
  },
  {
   "cell_type": "code",
   "execution_count": null,
   "metadata": {},
   "outputs": [],
   "source": [
    "df02 = pd.read_pickle('02_ibnkhaldon_lex_first_reduction.pkl')"
   ]
  },
  {
   "cell_type": "code",
   "execution_count": null,
   "metadata": {},
   "outputs": [],
   "source": [
    "df03 = pd.read_pickle('03_ibnkhaldon_lex_second_reduction.pkl')"
   ]
  },
  {
   "cell_type": "code",
   "execution_count": null,
   "metadata": {},
   "outputs": [],
   "source": []
  },
  {
   "cell_type": "code",
   "execution_count": null,
   "metadata": {},
   "outputs": [],
   "source": []
  },
  {
   "cell_type": "code",
   "execution_count": null,
   "metadata": {},
   "outputs": [],
   "source": [
    "df01_dict = dict(df01.values.tolist())"
   ]
  },
  {
   "cell_type": "code",
   "execution_count": null,
   "metadata": {},
   "outputs": [],
   "source": [
    "df02_dict = dict(df02.values.tolist())"
   ]
  },
  {
   "cell_type": "code",
   "execution_count": null,
   "metadata": {},
   "outputs": [],
   "source": [
    "df03_dict = dict(df03.values.tolist())"
   ]
  },
  {
   "cell_type": "code",
   "execution_count": null,
   "metadata": {},
   "outputs": [],
   "source": []
  },
  {
   "cell_type": "markdown",
   "metadata": {},
   "source": [
    "## <font color = brown>This step is critical for Arabic; because it's written from right to left."
   ]
  },
  {
   "cell_type": "code",
   "execution_count": null,
   "metadata": {},
   "outputs": [],
   "source": [
    "df01_dict_reshaped = {}\n",
    "for k,v in df01_dict.items():\n",
    "    k_ = arabic_reshaper.reshape(k)\n",
    "    k_ = get_display(k_)\n",
    "    df01_dict_reshaped[k_] = v"
   ]
  },
  {
   "cell_type": "code",
   "execution_count": null,
   "metadata": {},
   "outputs": [],
   "source": [
    "wordcloud_df_01 = WordCloud(font_path='./font/AMIRI-REGULAR.TTF', width=1920*4, height=1080*4, background_color=\"#F4ECF7\", colormap=my_cmap).generate_from_frequencies(df01_dict_reshaped)\n",
    "wordcloud_df_01.to_image()"
   ]
  },
  {
   "cell_type": "code",
   "execution_count": null,
   "metadata": {},
   "outputs": [],
   "source": [
    "wordcloud_df_01.to_file('01_ibnkhaldon_lex_minus_stopwords.png')"
   ]
  },
  {
   "cell_type": "markdown",
   "metadata": {},
   "source": [
    "02_ibnkhaldon_lex_first_reduction.png\n",
    "\n",
    "03_ibnkhaldon_lex_second_reduction.png\n"
   ]
  },
  {
   "cell_type": "code",
   "execution_count": null,
   "metadata": {},
   "outputs": [],
   "source": []
  },
  {
   "cell_type": "markdown",
   "metadata": {},
   "source": [
    "# <font color =brown>Quran Lexicon First Reduction"
   ]
  },
  {
   "cell_type": "code",
   "execution_count": null,
   "metadata": {},
   "outputs": [],
   "source": [
    "df02_dict_reshaped = {}\n",
    "for k,v in df02_dict.items():\n",
    "    k_ = arabic_reshaper.reshape(k)\n",
    "    k_ = get_display(k_)\n",
    "    df02_dict_reshaped[k_] = v"
   ]
  },
  {
   "cell_type": "code",
   "execution_count": null,
   "metadata": {},
   "outputs": [],
   "source": [
    "wordcloud_df_02 = WordCloud(font_path='./font/AMIRI-REGULAR.TTF', width=1920*4, height=1080*4, background_color=\"#D0ECE7\", colormap=my_cmap).generate_from_frequencies(df02_dict_reshaped)\n",
    "wordcloud_df_02.to_image()"
   ]
  },
  {
   "cell_type": "code",
   "execution_count": null,
   "metadata": {},
   "outputs": [],
   "source": [
    "wordcloud_df_02.to_file('02_ibnkhaldon_lex_first_reduction.png')"
   ]
  },
  {
   "cell_type": "code",
   "execution_count": null,
   "metadata": {},
   "outputs": [],
   "source": []
  },
  {
   "cell_type": "code",
   "execution_count": null,
   "metadata": {},
   "outputs": [],
   "source": []
  },
  {
   "cell_type": "markdown",
   "metadata": {},
   "source": [
    "# <font color =brown>Quran Lexicons Second Reduction"
   ]
  },
  {
   "cell_type": "code",
   "execution_count": null,
   "metadata": {},
   "outputs": [],
   "source": [
    "df03_dict_reshaped = {}\n",
    "for k,v in df03_dict.items():\n",
    "    k_ = arabic_reshaper.reshape(k)\n",
    "    k_ = get_display(k_)\n",
    "    df03_dict_reshaped[k_] = v"
   ]
  },
  {
   "cell_type": "code",
   "execution_count": null,
   "metadata": {
    "scrolled": true
   },
   "outputs": [],
   "source": [
    "wordcloud_df_03 = WordCloud(font_path='./font/AMIRI-REGULAR.TTF', width=1920*4, height=1080*4, background_color=\"#D6EAF8\", colormap=my_cmap).generate_from_frequencies(df03_dict_reshaped)\n",
    "wordcloud_df_03.to_image()"
   ]
  },
  {
   "cell_type": "code",
   "execution_count": null,
   "metadata": {},
   "outputs": [],
   "source": [
    "wordcloud_df_03.to_file('03_ibnkhaldon_lex_second_reduction.png')"
   ]
  },
  {
   "cell_type": "code",
   "execution_count": null,
   "metadata": {},
   "outputs": [],
   "source": []
  },
  {
   "cell_type": "code",
   "execution_count": null,
   "metadata": {},
   "outputs": [],
   "source": [
    "wordcloud_df_04 = WordCloud(font_path='./font/AMIRI-REGULAR.TTF', max_words=300, width=1920*4, height=1080*4, background_color=\"#D6EAF8\", colormap=my_cmap).generate_from_frequencies(df03_dict_reshaped)\n",
    "wordcloud_df_04.to_image()"
   ]
  },
  {
   "cell_type": "code",
   "execution_count": null,
   "metadata": {},
   "outputs": [],
   "source": [
    "wordcloud_df_04.to_file('03_ibnkhaldon_lex_second_reduction_300_words.png')"
   ]
  },
  {
   "cell_type": "code",
   "execution_count": null,
   "metadata": {},
   "outputs": [],
   "source": []
  },
  {
   "cell_type": "code",
   "execution_count": null,
   "metadata": {},
   "outputs": [],
   "source": []
  },
  {
   "cell_type": "markdown",
   "metadata": {},
   "source": [
    "الصفحة\n",
    "\n",
    "الجزء\n",
    "\n",
    "ابن\n",
    "\n",
    "الى\n",
    "\n",
    "أبو\n",
    "\n"
   ]
  },
  {
   "cell_type": "code",
   "execution_count": null,
   "metadata": {},
   "outputs": [],
   "source": [
    "'''\n",
    "الصفحة\n",
    "\n",
    "الجزء\n",
    "\n",
    "ابن\n",
    "\n",
    "الى\n",
    "\n",
    "أبو\n",
    "\n",
    "نسخة\n",
    "\n",
    "'''.split()"
   ]
  },
  {
   "cell_type": "code",
   "execution_count": null,
   "metadata": {},
   "outputs": [],
   "source": [
    "unwanted_words = set(['الصفحة', 'الجزء', 'ابن', 'الى', 'أبو', 'نسخة'])"
   ]
  },
  {
   "cell_type": "code",
   "execution_count": null,
   "metadata": {},
   "outputs": [],
   "source": []
  },
  {
   "cell_type": "code",
   "execution_count": null,
   "metadata": {},
   "outputs": [],
   "source": [
    "df03_dict = {k:v for k,v in df03_dict.items() if k not in unwanted_words}"
   ]
  },
  {
   "cell_type": "code",
   "execution_count": null,
   "metadata": {},
   "outputs": [],
   "source": []
  },
  {
   "cell_type": "code",
   "execution_count": null,
   "metadata": {},
   "outputs": [],
   "source": [
    "df03_dict_reshaped = {}\n",
    "for k,v in df03_dict.items():\n",
    "    k_ = arabic_reshaper.reshape(k)\n",
    "    k_ = get_display(k_)\n",
    "    df03_dict_reshaped[k_] = v"
   ]
  },
  {
   "cell_type": "code",
   "execution_count": null,
   "metadata": {
    "scrolled": true
   },
   "outputs": [],
   "source": [
    "wordcloud_df_03 = WordCloud(font_path='./font/AMIRI-REGULAR.TTF', width=1920*4, height=1080*4, background_color=\"#FEF9E7\", colormap=my_cmap).generate_from_frequencies(df03_dict_reshaped)\n",
    "wordcloud_df_03.to_image()"
   ]
  },
  {
   "cell_type": "code",
   "execution_count": null,
   "metadata": {},
   "outputs": [],
   "source": [
    "wordcloud_df_04.to_file('03_ibnkhaldon_lex_second_reduction_300_words_NEW.png')"
   ]
  },
  {
   "cell_type": "code",
   "execution_count": null,
   "metadata": {},
   "outputs": [],
   "source": []
  }
 ],
 "metadata": {
  "environment": {
   "name": "common-cpu.m56",
   "type": "gcloud",
   "uri": "gcr.io/deeplearning-platform-release/base-cpu:m56"
  },
  "kernelspec": {
   "display_name": "Python 3",
   "language": "python",
   "name": "python3"
  },
  "language_info": {
   "codemirror_mode": {
    "name": "ipython",
    "version": 3
   },
   "file_extension": ".py",
   "mimetype": "text/x-python",
   "name": "python",
   "nbconvert_exporter": "python",
   "pygments_lexer": "ipython3",
   "version": "3.7.8"
  }
 },
 "nbformat": 4,
 "nbformat_minor": 4
}
