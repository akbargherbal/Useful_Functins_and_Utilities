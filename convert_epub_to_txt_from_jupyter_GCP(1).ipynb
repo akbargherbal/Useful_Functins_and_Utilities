{
 "cells": [
  {
   "cell_type": "code",
   "execution_count": 10,
   "id": "4a0e5b20-90db-4331-b6b8-04daba7b49b0",
   "metadata": {},
   "outputs": [],
   "source": [
    "import regex as re"
   ]
  },
  {
   "cell_type": "code",
   "execution_count": 38,
   "id": "b4165761-3a04-498f-b96a-268d08cf40be",
   "metadata": {},
   "outputs": [],
   "source": [
    "import subprocess"
   ]
  },
  {
   "cell_type": "code",
   "execution_count": 86,
   "id": "15f6fd4f-2feb-4df5-a0bc-5600e907f652",
   "metadata": {},
   "outputs": [],
   "source": [
    "import pandas as pd"
   ]
  },
  {
   "cell_type": "code",
   "execution_count": 84,
   "id": "6699c33e-c9ba-4762-b47b-3a824fa3d7d1",
   "metadata": {},
   "outputs": [],
   "source": [
    "cmd_line = \"\"\"\n",
    "\n",
    "/home/jupyter/calibre-bin/calibre/ebook-convert\n",
    "David_Foster_Wallace_-_Infinite_Jest-Back_Bay_Books.epub\n",
    "from_jupyter.txt\n",
    "\"\"\".strip().split('\\n')"
   ]
  },
  {
   "cell_type": "code",
   "execution_count": null,
   "id": "5f65cbea-fba0-46bd-bc9c-e9e021a3fc8e",
   "metadata": {},
   "outputs": [],
   "source": []
  },
  {
   "cell_type": "code",
   "execution_count": 85,
   "id": "3105dff8-2fbb-4104-88d5-542ca1260356",
   "metadata": {},
   "outputs": [
    {
     "data": {
      "text/plain": [
       "<subprocess.Popen at 0x7f1887e40a50>"
      ]
     },
     "execution_count": 85,
     "metadata": {},
     "output_type": "execute_result"
    },
    {
     "name": "stdout",
     "output_type": "stream",
     "text": [
      "1% Converting input to HTML...\n",
      "InputFormatPlugin: EPUB Input running\n",
      "on /home/jupyter/calibre-bin/David_Foster_Wallace_-_Infinite_Jest-Back_Bay_Books.epub\n",
      "Found HTML cover titlepage.xhtml\n",
      "Parsing all content...\n",
      "34% Running transforms on e-book...\n",
      "Merging user specified metadata...\n",
      "Detecting structure...\n",
      "Flattening CSS and remapping font sizes...\n",
      "Source base font size is 12.00000pt\n",
      "Removing fake margins...\n",
      "Cleaning up manifest...\n",
      "Trimming unused files from manifest...\n",
      "Creating TXT Output...\n",
      "67% Running TXT Output plugin\n",
      "Converting XHTML to TXT...\n",
      "TXT output written to /home/jupyter/calibre-bin/from_jupyter.txt\n",
      "Output saved to   /home/jupyter/calibre-bin/from_jupyter.txt\n"
     ]
    }
   ],
   "source": [
    "subprocess.Popen(cmd_line)"
   ]
  },
  {
   "cell_type": "code",
   "execution_count": null,
   "id": "9df6a5e3-da55-48a2-b620-68dedae441e0",
   "metadata": {},
   "outputs": [],
   "source": []
  },
  {
   "cell_type": "code",
   "execution_count": null,
   "id": "fb868ed0-571c-43bb-bb90-0ca8c315f0bd",
   "metadata": {},
   "outputs": [],
   "source": []
  },
  {
   "cell_type": "code",
   "execution_count": null,
   "id": "22c7d4b7-e343-4f7d-9cc1-b0a2f4019d85",
   "metadata": {},
   "outputs": [],
   "source": []
  },
  {
   "cell_type": "code",
   "execution_count": null,
   "id": "d094f74f-3528-461d-8529-ed692344f562",
   "metadata": {},
   "outputs": [],
   "source": []
  },
  {
   "cell_type": "code",
   "execution_count": null,
   "id": "48262f1d-47d7-42f3-baf9-d85a5579d82f",
   "metadata": {},
   "outputs": [],
   "source": []
  }
 ],
 "metadata": {
  "environment": {
   "kernel": "python3",
   "name": "common-cpu.m93",
   "type": "gcloud",
   "uri": "gcr.io/deeplearning-platform-release/base-cpu:m93"
  },
  "kernelspec": {
   "display_name": "Python 3",
   "language": "python",
   "name": "python3"
  },
  "language_info": {
   "codemirror_mode": {
    "name": "ipython",
    "version": 3
   },
   "file_extension": ".py",
   "mimetype": "text/x-python",
   "name": "python",
   "nbconvert_exporter": "python",
   "pygments_lexer": "ipython3",
   "version": "3.7.12"
  }
 },
 "nbformat": 4,
 "nbformat_minor": 5
}
