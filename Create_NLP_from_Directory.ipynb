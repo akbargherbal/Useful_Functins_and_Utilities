{
 "cells": [
  {
   "cell_type": "code",
   "execution_count": 1,
   "metadata": {},
   "outputs": [
    {
     "name": "stdout",
     "output_type": "stream",
     "text": [
      "Starting...\n",
      "Current Time = 17:32:34.774772\n"
     ]
    }
   ],
   "source": [
    "from datetime import datetime\n",
    "def time_now():\n",
    "    '''Get Current Time'''\n",
    "    \n",
    "    now = datetime.now()\n",
    "    current_time = now.strftime(\"%H:%M:%S.%f\")\n",
    "    print(\"Current Time =\", current_time)\n",
    "    return now\n",
    "\n",
    "\n",
    "############\n",
    "print('Starting...')\n",
    "start = time_now()\n",
    "############\n"
   ]
  },
  {
   "cell_type": "code",
   "execution_count": 2,
   "metadata": {},
   "outputs": [],
   "source": [
    "def create_folder_name(folder_prefix = 'NLP_RESULTS', file_time='datetime object'):\n",
    "    file_name = f'{str(file_time.hour).zfill(2)}-{str(file_time.minute).zfill(2)}-{str(file_time.second).zfill(2)}_{file_time.day}-{file_time.month}-{file_time.year}'\n",
    "    file_name = f'{folder_prefix}_{file_name}'\n",
    "    return file_name"
   ]
  },
  {
   "cell_type": "code",
   "execution_count": 3,
   "metadata": {},
   "outputs": [
    {
     "data": {
      "text/plain": [
       "'NLP_17-32-34_30-1-2022'"
      ]
     },
     "execution_count": 3,
     "metadata": {},
     "output_type": "execute_result"
    }
   ],
   "source": [
    "create_folder_name('NLP', start)"
   ]
  },
  {
   "cell_type": "code",
   "execution_count": 4,
   "metadata": {},
   "outputs": [
    {
     "name": "stdout",
     "output_type": "stream",
     "text": [
      "Starting...\n",
      "Current Time = 17:32:36.553990\n"
     ]
    }
   ],
   "source": [
    "from datetime import datetime\n",
    "def time_now():\n",
    "    '''Get Current Time'''\n",
    "    \n",
    "    now = datetime.now()\n",
    "    current_time = now.strftime(\"%H:%M:%S.%f\")\n",
    "    print(\"Current Time =\", current_time)\n",
    "    return now\n",
    "\n",
    "\n",
    "############\n",
    "print('Starting...')\n",
    "start = time_now()\n",
    "############\n"
   ]
  },
  {
   "cell_type": "code",
   "execution_count": 5,
   "metadata": {},
   "outputs": [],
   "source": [
    "import pandas as pd"
   ]
  },
  {
   "cell_type": "code",
   "execution_count": null,
   "metadata": {},
   "outputs": [],
   "source": []
  },
  {
   "cell_type": "code",
   "execution_count": 6,
   "metadata": {},
   "outputs": [],
   "source": [
    "from itertools import chain\n",
    "from collections import Counter\n",
    "from math import ceil"
   ]
  },
  {
   "cell_type": "code",
   "execution_count": 9,
   "metadata": {},
   "outputs": [],
   "source": [
    "import regex as re\n",
    "import os"
   ]
  },
  {
   "cell_type": "code",
   "execution_count": 10,
   "metadata": {},
   "outputs": [],
   "source": [
    "import spacy\n",
    "nlp = spacy.load(\"en_core_web_sm\")"
   ]
  },
  {
   "cell_type": "code",
   "execution_count": null,
   "metadata": {},
   "outputs": [],
   "source": []
  },
  {
   "cell_type": "code",
   "execution_count": 11,
   "metadata": {},
   "outputs": [],
   "source": [
    "def generate_nlp(folder='Path_to_pkl_files', op_folder='NLP_RESULT'):\n",
    "    input_pickle = [i for i in os.listdir(f'{folder}') if i.endswith('pkl')]\n",
    "    input_pickle = [re.sub(r'\\.pkl', '', i) for i in input_pickle]\n",
    "\n",
    "    pkl_paths = [f'./{folder}{i}' for i in os.listdir(f'{folder}') if i.endswith('pkl')]\n",
    "    input_output = list(zip(pkl_paths, input_pickle))\n",
    "    for i in input_output:\n",
    "        print(i)\n",
    "        \n",
    "    print('-'*100)\n",
    "    for f in pkl_paths:\n",
    "        print(f)\n",
    "#     return pkl_paths\n",
    "    try:\n",
    "        os.mkdir(op_folder)\n",
    "    except:\n",
    "        finish = time_now()\n",
    "        op_folder = create_folder_name(op_folder, finish)\n",
    "        os.mkdir(op_folder)\n",
    "    counter = 0\n",
    "    for i in input_output:\n",
    "        df = pd.read_pickle(i[0])\n",
    "        df['NLP'] = df['TEXT'].apply(lambda x: nlp(x))\n",
    "        df.to_pickle(f'./{op_folder}/NLP_{i[1]}.pkl', protocol=4)\n",
    "        counter += 1\n",
    "        print(f'''\n",
    "Finished Processing: {i[0]};\n",
    "Result is in: ./{op_folder}/NLP_{i[1]}.pkl\n",
    "Finished {counter} of {len(input_output)} files\n",
    "        ''')"
   ]
  },
  {
   "cell_type": "code",
   "execution_count": 13,
   "metadata": {},
   "outputs": [
    {
     "name": "stdout",
     "output_type": "stream",
     "text": [
      "('./batch/B01.pkl', 'B01')\n",
      "('./batch/B02.pkl', 'B02')\n",
      "('./batch/B03.pkl', 'B03')\n",
      "----------------------------------------------------------------------------------------------------\n",
      "./batch/B01.pkl\n",
      "./batch/B02.pkl\n",
      "./batch/B03.pkl\n",
      "Current Time = 16:00:13.785371\n",
      "\n",
      "Finished Processing: ./batch/B01.pkl;\n",
      "Result is in: ./NLP_RESULT_16-00-13_30-1-2022/NLP_B01.pkl\n",
      "Finished 1 of 3 files\n",
      "        \n",
      "\n",
      "Finished Processing: ./batch/B02.pkl;\n",
      "Result is in: ./NLP_RESULT_16-00-13_30-1-2022/NLP_B02.pkl\n",
      "Finished 2 of 3 files\n",
      "        \n",
      "\n",
      "Finished Processing: ./batch/B03.pkl;\n",
      "Result is in: ./NLP_RESULT_16-00-13_30-1-2022/NLP_B03.pkl\n",
      "Finished 3 of 3 files\n",
      "        \n"
     ]
    }
   ],
   "source": [
    "generate_nlp('BATCH_03/')"
   ]
  },
  {
   "cell_type": "code",
   "execution_count": 13,
   "metadata": {},
   "outputs": [
    {
     "name": "stdout",
     "output_type": "stream",
     "text": [
      "Current Time = 17:33:24.668190\n"
     ]
    }
   ],
   "source": [
    "end = time_now()"
   ]
  },
  {
   "cell_type": "code",
   "execution_count": 14,
   "metadata": {},
   "outputs": [],
   "source": [
    "duration = end - start"
   ]
  },
  {
   "cell_type": "code",
   "execution_count": 16,
   "metadata": {},
   "outputs": [
    {
     "data": {
      "text/plain": [
       "48"
      ]
     },
     "execution_count": 16,
     "metadata": {},
     "output_type": "execute_result"
    }
   ],
   "source": [
    "duration.seconds"
   ]
  },
  {
   "cell_type": "code",
   "execution_count": null,
   "metadata": {},
   "outputs": [],
   "source": []
  }
 ],
 "metadata": {
  "environment": {
   "kernel": "python3",
   "name": "common-cpu.m87",
   "type": "gcloud",
   "uri": "gcr.io/deeplearning-platform-release/base-cpu:m87"
  },
  "kernelspec": {
   "display_name": "Python 3",
   "language": "python",
   "name": "python3"
  },
  "language_info": {
   "codemirror_mode": {
    "name": "ipython",
    "version": 3
   },
   "file_extension": ".py",
   "mimetype": "text/x-python",
   "name": "python",
   "nbconvert_exporter": "python",
   "pygments_lexer": "ipython3",
   "version": "3.7.12"
  }
 },
 "nbformat": 4,
 "nbformat_minor": 4
}
