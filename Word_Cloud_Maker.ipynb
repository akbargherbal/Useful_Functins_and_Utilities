{
 "cells": [
  {
   "cell_type": "code",
   "execution_count": 1,
   "metadata": {},
   "outputs": [
    {
     "data": {
      "text/plain": [
       "'C:\\\\Users\\\\gherb\\\\Jupyter_Notebooks\\\\BOC_Conference'"
      ]
     },
     "execution_count": 1,
     "metadata": {},
     "output_type": "execute_result"
    }
   ],
   "source": [
    "pwd"
   ]
  },
  {
   "cell_type": "code",
   "execution_count": 2,
   "metadata": {},
   "outputs": [],
   "source": [
    "import pandas as pd"
   ]
  },
  {
   "cell_type": "code",
   "execution_count": 3,
   "metadata": {},
   "outputs": [],
   "source": [
    "from pandas import DataFrame"
   ]
  },
  {
   "cell_type": "code",
   "execution_count": null,
   "metadata": {},
   "outputs": [],
   "source": []
  },
  {
   "cell_type": "code",
   "execution_count": 4,
   "metadata": {},
   "outputs": [],
   "source": [
    "import regex as re"
   ]
  },
  {
   "cell_type": "code",
   "execution_count": 5,
   "metadata": {},
   "outputs": [],
   "source": [
    "from itertools import chain"
   ]
  },
  {
   "cell_type": "code",
   "execution_count": 6,
   "metadata": {},
   "outputs": [],
   "source": [
    "from random import choice"
   ]
  },
  {
   "cell_type": "code",
   "execution_count": 7,
   "metadata": {},
   "outputs": [],
   "source": [
    "import os"
   ]
  },
  {
   "cell_type": "code",
   "execution_count": 8,
   "metadata": {},
   "outputs": [],
   "source": [
    "fonts = [i for i in os.listdir('../DATASETS/Selected_Fonts/') if ('bold' not in i.lower()) and (i.endswith('.ttf'))  and ('thin' not in i.lower())]\n",
    "fonts = [fr'C:\\Users\\gherb\\Jupyter_Notebooks\\DATASETS\\Selected_Fonts\\{i}' for i in fonts]\n",
    "fonts = [i.replace('\\\\', '/') for i in fonts]"
   ]
  },
  {
   "cell_type": "code",
   "execution_count": 9,
   "metadata": {},
   "outputs": [
    {
     "data": {
      "text/plain": [
       "'C:/Users/gherb/Jupyter_Notebooks/DATASETS/Selected_Fonts/ArchitectsDaughter-Regular.ttf'"
      ]
     },
     "execution_count": 9,
     "metadata": {},
     "output_type": "execute_result"
    }
   ],
   "source": [
    "fonts[0]"
   ]
  },
  {
   "cell_type": "code",
   "execution_count": 10,
   "metadata": {},
   "outputs": [
    {
     "name": "stdout",
     "output_type": "stream",
     "text": [
      "Number of fonts: 51\n"
     ]
    }
   ],
   "source": [
    "print(f\"Number of fonts: {len(fonts)}\")"
   ]
  },
  {
   "cell_type": "code",
   "execution_count": 11,
   "metadata": {},
   "outputs": [],
   "source": [
    "class DataFrameToClass:\n",
    "    def __init__(self, df):\n",
    "        if isinstance(df, DataFrame):\n",
    "            self.df = df\n",
    "        else:\n",
    "            try:\n",
    "                self.df = pd.read_pickle(df)\n",
    "            except Exception as e:\n",
    "                print(e)\n",
    "                print(f'''\n",
    "Give a valid pandas DF pickle path!\n",
    "You entered: {df}\n",
    "'''.strip())\n",
    "        print(f'''\n",
    "DataFrameToClass initialized\n",
    "The columns in the DataFrame are: {self.df.columns}\n",
    "'''.strip())\n",
    "\n",
    "    def to_dict(self, key, value):\n",
    "        return self.df.set_index(key)[value].to_dict()\n",
    "        \n",
    "    def count_values_by_column(self, column):\n",
    "        return self.df[column].value_counts().to_dict()"
   ]
  },
  {
   "cell_type": "code",
   "execution_count": null,
   "metadata": {},
   "outputs": [],
   "source": []
  },
  {
   "cell_type": "code",
   "execution_count": null,
   "metadata": {},
   "outputs": [],
   "source": []
  },
  {
   "cell_type": "markdown",
   "metadata": {},
   "source": [
    "```python\n",
    "with open('background_color.txt', encoding='utf-8') as f:\n",
    "    lines = f.readlines()\n",
    "    lines = [i for i in lines if 'background_color' in i]\n",
    "    background_color = [re.findall('#.*\\\"', i) for i in lines]\n",
    "    background_color = list(chain(*background_color))\n",
    "    background_color = [re.sub('\\\"', '', i) for i in background_color]\n",
    "```"
   ]
  },
  {
   "cell_type": "code",
   "execution_count": 12,
   "metadata": {},
   "outputs": [],
   "source": [
    "background_color = ['#F4ECF7', '#F5EEF8', '#E8F8F5', '#F9EBEA', '#EBF5FB', '#EBF5FB']"
   ]
  },
  {
   "cell_type": "code",
   "execution_count": null,
   "metadata": {},
   "outputs": [],
   "source": []
  },
  {
   "cell_type": "code",
   "execution_count": 13,
   "metadata": {},
   "outputs": [],
   "source": [
    "from wordcloud import WordCloud, STOPWORDS, ImageColorGenerator\n",
    "import matplotlib\n",
    "import matplotlib.pyplot as plt"
   ]
  },
  {
   "cell_type": "code",
   "execution_count": 14,
   "metadata": {},
   "outputs": [],
   "source": [
    "akbar_colors = ['#009933',\n",
    " '#006699',\n",
    " '#333333',\n",
    " '#669999',\n",
    " '#990066',\n",
    " '#996666',\n",
    " '#cc3333',\n",
    " '#cc6633',\n",
    " '#cc6666',\n",
    " '#ff6633',\n",
    " '#990000',\n",
    " '#003366',\n",
    " '#339966',\n",
    " '#cc3399',\n",
    " '#3333ff']"
   ]
  },
  {
   "cell_type": "code",
   "execution_count": 15,
   "metadata": {},
   "outputs": [],
   "source": [
    "my_cmap = matplotlib.colors.ListedColormap(akbar_colors, name='my_colormap_name', N=45)"
   ]
  },
  {
   "cell_type": "code",
   "execution_count": 16,
   "metadata": {},
   "outputs": [],
   "source": [
    "list_files_container_pos = []\n",
    "list_files_container_pat = []\n",
    "\n",
    "for root, folders, files in os.walk('TRANSCRIPTION_GENDER/'):\n",
    "    files_pos = [os.path.abspath(os.path.join(root, file)) for file in files if ((file.endswith('.pkl')) and  ('_PAT_' not in file))]\n",
    "    files_pat = [os.path.abspath(os.path.join(root, file)) for file in files if ((file.endswith('.pkl')) and  ('_PAT_'  in file))]\n",
    "    list_files_container_pos.append(files_pos)\n",
    "    list_files_container_pat.append(files_pat)"
   ]
  },
  {
   "cell_type": "code",
   "execution_count": 17,
   "metadata": {},
   "outputs": [],
   "source": [
    "list_files_container_pat = list(chain(*list_files_container_pat))\n",
    "list_files_container_pos = list(chain(*list_files_container_pos))"
   ]
  },
  {
   "cell_type": "code",
   "execution_count": 18,
   "metadata": {},
   "outputs": [],
   "source": [
    "list_files_container_pat = [i.replace('\\\\', '/') for i in list_files_container_pat]\n",
    "list_files_container_pos = [i.replace('\\\\', '/') for i in list_files_container_pos]"
   ]
  },
  {
   "cell_type": "code",
   "execution_count": null,
   "metadata": {},
   "outputs": [],
   "source": []
  },
  {
   "cell_type": "code",
   "execution_count": 29,
   "metadata": {},
   "outputs": [],
   "source": [
    "exp_wordcloud_pos =  [f'''\n",
    "print('{pkl}')\n",
    "file_name = '{pkl}'.split('/')[-1].split('.')[0]\n",
    "print(file_name)\n",
    "dict_01 = DataFrameToClass('{pkl}').to_dict('WORD', 'FREQ')\n",
    "wordcloud = WordCloud(width=1920, height=1080, background_color=\"{choice(background_color)}\", colormap=my_cmap, font_path='{choice(fonts)}').generate_from_frequencies(dict_01)\n",
    "wordcloud.to_image()\n",
    "wordcloud.to_file(f'./WORDCLOUDS/{{file_name}}_.png')\n",
    "'''\n",
    "for pkl in list_files_container_pos]"
   ]
  },
  {
   "cell_type": "code",
   "execution_count": null,
   "metadata": {},
   "outputs": [],
   "source": []
  },
  {
   "cell_type": "code",
   "execution_count": 30,
   "metadata": {},
   "outputs": [],
   "source": [
    "exp_wordcloud_pat =  [f'''\n",
    "print('{pkl}')\n",
    "file_name = '{pkl}'.split('/')[-1].split('.')[0]\n",
    "print(file_name)\n",
    "dict_01 = DataFrameToClass('{pkl}').count_values_by_column('LEMMA')\n",
    "wordcloud = WordCloud(width=1920, height=1080, background_color=\"{choice(background_color)}\", colormap=my_cmap, font_path='{choice(fonts)}').generate_from_frequencies(dict_01)\n",
    "wordcloud.to_image()\n",
    "wordcloud.to_file(f'./WORDCLOUDS/{{file_name}}_.png')\n",
    "'''\n",
    "for pkl in list_files_container_pat]"
   ]
  },
  {
   "cell_type": "code",
   "execution_count": null,
   "metadata": {},
   "outputs": [],
   "source": []
  },
  {
   "cell_type": "code",
   "execution_count": null,
   "metadata": {},
   "outputs": [],
   "source": []
  },
  {
   "cell_type": "markdown",
   "metadata": {},
   "source": [
    "```python\n",
    "for exp in exp_wordcloud_pos:\n",
    "    exec(exp)\n",
    "    print('------------------------------------------------')\n",
    "```"
   ]
  },
  {
   "cell_type": "code",
   "execution_count": null,
   "metadata": {},
   "outputs": [],
   "source": []
  },
  {
   "cell_type": "markdown",
   "metadata": {},
   "source": [
    "```python\n",
    "for exp in exp_wordcloud_pat:\n",
    "    exec(exp)\n",
    "    print('------------------------------------------------')\n",
    "```    "
   ]
  },
  {
   "cell_type": "code",
   "execution_count": 31,
   "metadata": {},
   "outputs": [
    {
     "name": "stdout",
     "output_type": "stream",
     "text": [
      "C:/Users/gherb/Jupyter_Notebooks/BOC_Conference/TRANSCRIPTION_GENDER/TRANSCRIPTION_GENDER/BATCH_01_PAT_NOUN.pkl\n",
      "BATCH_01_PAT_NOUN\n",
      "DataFrameToClass initialized\n",
      "The columns in the DataFrame are: Index(['TEXT', 'LEMMA', 'POS'], dtype='object')\n",
      "------------------------------------------------\n",
      "C:/Users/gherb/Jupyter_Notebooks/BOC_Conference/TRANSCRIPTION_GENDER/TRANSCRIPTION_GENDER/BATCH_01_PAT_NOUN_VERB_PHRASE.pkl\n",
      "BATCH_01_PAT_NOUN_VERB_PHRASE\n",
      "DataFrameToClass initialized\n",
      "The columns in the DataFrame are: Index(['TEXT', 'LEMMA', 'POS'], dtype='object')\n",
      "------------------------------------------------\n",
      "C:/Users/gherb/Jupyter_Notebooks/BOC_Conference/TRANSCRIPTION_GENDER/TRANSCRIPTION_GENDER/BATCH_01_PAT_N_N.pkl\n",
      "BATCH_01_PAT_N_N\n",
      "DataFrameToClass initialized\n",
      "The columns in the DataFrame are: Index(['TEXT', 'LEMMA', 'POS'], dtype='object')\n",
      "------------------------------------------------\n",
      "C:/Users/gherb/Jupyter_Notebooks/BOC_Conference/TRANSCRIPTION_GENDER/TRANSCRIPTION_GENDER/BATCH_01_PAT_N_P_V.pkl\n",
      "BATCH_01_PAT_N_P_V\n",
      "DataFrameToClass initialized\n",
      "The columns in the DataFrame are: Index(['TEXT', 'LEMMA', 'POS'], dtype='object')\n",
      "------------------------------------------------\n",
      "C:/Users/gherb/Jupyter_Notebooks/BOC_Conference/TRANSCRIPTION_GENDER/TRANSCRIPTION_GENDER/BATCH_01_PAT_VERB_NOUN_PHRASE.pkl\n",
      "BATCH_01_PAT_VERB_NOUN_PHRASE\n",
      "DataFrameToClass initialized\n",
      "The columns in the DataFrame are: Index(['TEXT', 'LEMMA', 'POS'], dtype='object')\n",
      "------------------------------------------------\n"
     ]
    }
   ],
   "source": [
    "for exp in exp_wordcloud_pat:\n",
    "    exec(exp)\n",
    "    print('------------------------------------------------')"
   ]
  },
  {
   "cell_type": "code",
   "execution_count": null,
   "metadata": {},
   "outputs": [],
   "source": []
  }
 ],
 "metadata": {
  "kernelspec": {
   "display_name": "Python 3",
   "language": "python",
   "name": "python3"
  },
  "language_info": {
   "codemirror_mode": {
    "name": "ipython",
    "version": 3
   },
   "file_extension": ".py",
   "mimetype": "text/x-python",
   "name": "python",
   "nbconvert_exporter": "python",
   "pygments_lexer": "ipython3",
   "version": "3.8.7"
  }
 },
 "nbformat": 4,
 "nbformat_minor": 4
}
