{
 "cells": [
  {
   "cell_type": "code",
   "execution_count": 1,
   "metadata": {},
   "outputs": [],
   "source": [
    "from scrapy import Selector\n",
    "import os\n",
    "from itertools import chain\n",
    "from collections import Counter\n",
    "import pandas as pd"
   ]
  },
  {
   "cell_type": "code",
   "execution_count": 5,
   "metadata": {},
   "outputs": [],
   "source": [
    "def get_xml_urls(file_path):\n",
    "    with open(file_path, encoding='utf-8') as f:\n",
    "        xml_string  = f.read()\n",
    "    \n",
    "    selector = Selector(text=xml_string)\n",
    "\n",
    "    # Extract all URLs using the xpath() method\n",
    "    urls = selector.xpath('//url/loc/text()').getall()\n",
    "    return urls\n",
    "   \n",
    "    "
   ]
  },
  {
   "cell_type": "code",
   "execution_count": 3,
   "metadata": {},
   "outputs": [],
   "source": [
    "files_list = [ f'sitemaps/{i}' for i in os.listdir('sitemaps/') ]"
   ]
  },
  {
   "cell_type": "code",
   "execution_count": 6,
   "metadata": {},
   "outputs": [],
   "source": [
    "afc_urls = [\n",
    "get_xml_urls(i) for i in files_list\n",
    "]"
   ]
  },
  {
   "cell_type": "code",
   "execution_count": 8,
   "metadata": {},
   "outputs": [],
   "source": [
    "afc_urls = list(chain(*afc_urls))"
   ]
  },
  {
   "cell_type": "code",
   "execution_count": 9,
   "metadata": {},
   "outputs": [
    {
     "data": {
      "text/plain": [
       "120623"
      ]
     },
     "execution_count": 9,
     "metadata": {},
     "output_type": "execute_result"
    }
   ],
   "source": [
    "len(afc_urls)"
   ]
  },
  {
   "cell_type": "code",
   "execution_count": 12,
   "metadata": {},
   "outputs": [],
   "source": [
    "df = pd.DataFrame(afc_urls).rename(columns={0: 'URL'})"
   ]
  },
  {
   "cell_type": "code",
   "execution_count": 15,
   "metadata": {},
   "outputs": [],
   "source": [
    "test = df.sample(10).reset_index(drop=True)"
   ]
  },
  {
   "cell_type": "code",
   "execution_count": 20,
   "metadata": {},
   "outputs": [
    {
     "name": "stdout",
     "output_type": "stream",
     "text": [
      "https://www.the-afc.com/en/more/content/who_will_advance_to_the_knockout_stage_from_group_d _3.html\n"
     ]
    }
   ],
   "source": [
    "print(test['URL'].iloc[8])"
   ]
  },
  {
   "cell_type": "code",
   "execution_count": 23,
   "metadata": {},
   "outputs": [],
   "source": [
    "df['D1'] = df['URL'].apply(lambda x: x.split('/'))"
   ]
  },
  {
   "cell_type": "code",
   "execution_count": 42,
   "metadata": {},
   "outputs": [],
   "source": [
    "section_shortlist = set(list(dict(df['D1'].apply(lambda x: x[4]).value_counts().head())))"
   ]
  },
  {
   "cell_type": "code",
   "execution_count": 45,
   "metadata": {},
   "outputs": [],
   "source": [
    "df = df[df['D1'].apply(lambda x: x[4] in section_shortlist)].reset_index(drop=True)"
   ]
  },
  {
   "cell_type": "code",
   "execution_count": 50,
   "metadata": {},
   "outputs": [],
   "source": [
    "df['LANG'] = df['D1'].apply(lambda x: x[3])"
   ]
  },
  {
   "cell_type": "code",
   "execution_count": 52,
   "metadata": {},
   "outputs": [],
   "source": [
    "def get_by_index(x, idx=3):\n",
    "    result = x.split('/')\n",
    "    try:\n",
    "        return result[idx]\n",
    "    except:\n",
    "        return 'NA'"
   ]
  },
  {
   "cell_type": "code",
   "execution_count": 62,
   "metadata": {},
   "outputs": [],
   "source": [
    "media_set = set('video media photo'.split())"
   ]
  },
  {
   "cell_type": "code",
   "execution_count": 64,
   "metadata": {},
   "outputs": [],
   "source": [
    "df['D2'] = df['URL'].apply(lambda x: get_by_index(x, 5))"
   ]
  },
  {
   "cell_type": "code",
   "execution_count": 69,
   "metadata": {},
   "outputs": [],
   "source": [
    "df = df[df['D2'].apply(lambda x: x not in media_set)]"
   ]
  },
  {
   "cell_type": "code",
   "execution_count": 72,
   "metadata": {},
   "outputs": [],
   "source": [
    "df = df.reset_index(drop=True)"
   ]
  },
  {
   "cell_type": "code",
   "execution_count": 76,
   "metadata": {},
   "outputs": [],
   "source": [
    "df_ar = df[df['LANG'] == 'ar'].reset_index(drop=True)"
   ]
  },
  {
   "cell_type": "code",
   "execution_count": 78,
   "metadata": {},
   "outputs": [],
   "source": [
    "df_en = df[df['LANG'] == 'en'].reset_index(drop=True)"
   ]
  },
  {
   "cell_type": "code",
   "execution_count": 82,
   "metadata": {},
   "outputs": [],
   "source": [
    "#df_en.to_pickle('AFC_EN_URLS.pkl', protocol=4)"
   ]
  },
  {
   "cell_type": "code",
   "execution_count": 83,
   "metadata": {},
   "outputs": [],
   "source": [
    "#df_ar.to_pickle('AFC_AR_URLS.pkl', protocol=4)"
   ]
  },
  {
   "cell_type": "code",
   "execution_count": null,
   "metadata": {},
   "outputs": [],
   "source": []
  },
  {
   "cell_type": "code",
   "execution_count": 87,
   "metadata": {},
   "outputs": [],
   "source": [
    "test = df_en.sample(10).reset_index(drop=True)"
   ]
  },
  {
   "cell_type": "code",
   "execution_count": 90,
   "metadata": {},
   "outputs": [
    {
     "name": "stdout",
     "output_type": "stream",
     "text": [
      "https://www.the-afc.com/en/about_afc/about_afc/the_president/news/afc_president_underlines_confidence_in_qatar_to_stage_greatest-ever_fifa_world_cup.html\n",
      "https://www.the-afc.com/en/more/content/2911111.html\n",
      "https://www.the-afc.com/en/more/content/2932299.html\n",
      "https://www.the-afc.com/en/more/content/2891899.html\n",
      "https://www.the-afc.com/en/more/content/2892706.html\n",
      "https://www.the-afc.com/en/more/content/2929731.html\n",
      "https://www.the-afc.com/en/more/content/2902525.html\n",
      "https://www.the-afc.com/en/club/afc_champions_league/news/group_f_ulsan_hyundai_fc_beat_bg_pathum_united_to_seal_top_spot_and_extend_afc_champions_league_win_record.html\n",
      "https://www.the-afc.com/en/more/content/2925966.html\n",
      "https://www.the-afc.com/en/more/news/afc_agrees_rights_deal_with_oman_sport_channel.html\n"
     ]
    }
   ],
   "source": [
    "for i in test['URL']:\n",
    "    print(i)"
   ]
  },
  {
   "cell_type": "code",
   "execution_count": 91,
   "metadata": {},
   "outputs": [
    {
     "data": {
      "text/html": [
       "<div>\n",
       "<style scoped>\n",
       "    .dataframe tbody tr th:only-of-type {\n",
       "        vertical-align: middle;\n",
       "    }\n",
       "\n",
       "    .dataframe tbody tr th {\n",
       "        vertical-align: top;\n",
       "    }\n",
       "\n",
       "    .dataframe thead th {\n",
       "        text-align: right;\n",
       "    }\n",
       "</style>\n",
       "<table border=\"1\" class=\"dataframe\">\n",
       "  <thead>\n",
       "    <tr style=\"text-align: right;\">\n",
       "      <th></th>\n",
       "      <th>URL</th>\n",
       "      <th>D1</th>\n",
       "      <th>LANG</th>\n",
       "      <th>D2</th>\n",
       "    </tr>\n",
       "  </thead>\n",
       "  <tbody>\n",
       "    <tr>\n",
       "      <th>0</th>\n",
       "      <td>https://www.the-afc.com/en/more/content/الناقل...</td>\n",
       "      <td>[https:, , www.the-afc.com, en, more, content,...</td>\n",
       "      <td>en</td>\n",
       "      <td>content</td>\n",
       "    </tr>\n",
       "    <tr>\n",
       "      <th>1</th>\n",
       "      <td>https://www.the-afc.com/en/more/content/acl_qu...</td>\n",
       "      <td>[https:, , www.the-afc.com, en, more, content,...</td>\n",
       "      <td>en</td>\n",
       "      <td>content</td>\n",
       "    </tr>\n",
       "    <tr>\n",
       "      <th>2</th>\n",
       "      <td>https://www.the-afc.com/en/club/afc_cup/video/...</td>\n",
       "      <td>[https:, , www.the-afc.com, en, club, afc_cup,...</td>\n",
       "      <td>en</td>\n",
       "      <td>afc_cup</td>\n",
       "    </tr>\n",
       "    <tr>\n",
       "      <th>3</th>\n",
       "      <td>https://www.the-afc.com/en/more/content/acl_la...</td>\n",
       "      <td>[https:, , www.the-afc.com, en, more, content,...</td>\n",
       "      <td>en</td>\n",
       "      <td>content</td>\n",
       "    </tr>\n",
       "    <tr>\n",
       "      <th>4</th>\n",
       "      <td>https://www.the-afc.com/en/more/content/294323...</td>\n",
       "      <td>[https:, , www.the-afc.com, en, more, content,...</td>\n",
       "      <td>en</td>\n",
       "      <td>content</td>\n",
       "    </tr>\n",
       "    <tr>\n",
       "      <th>...</th>\n",
       "      <td>...</td>\n",
       "      <td>...</td>\n",
       "      <td>...</td>\n",
       "      <td>...</td>\n",
       "    </tr>\n",
       "    <tr>\n",
       "      <th>65328</th>\n",
       "      <td>https://www.the-afc.com/en/more/domestic_leagu...</td>\n",
       "      <td>[https:, , www.the-afc.com, en, more, domestic...</td>\n",
       "      <td>en</td>\n",
       "      <td>domestic_leagues</td>\n",
       "    </tr>\n",
       "    <tr>\n",
       "      <th>65329</th>\n",
       "      <td>https://www.the-afc.com/en/more/content/294323...</td>\n",
       "      <td>[https:, , www.the-afc.com, en, more, content,...</td>\n",
       "      <td>en</td>\n",
       "      <td>content</td>\n",
       "    </tr>\n",
       "    <tr>\n",
       "      <th>65330</th>\n",
       "      <td>https://www.the-afc.com/en/more/content/294323...</td>\n",
       "      <td>[https:, , www.the-afc.com, en, more, content,...</td>\n",
       "      <td>en</td>\n",
       "      <td>content</td>\n",
       "    </tr>\n",
       "    <tr>\n",
       "      <th>65331</th>\n",
       "      <td>https://www.the-afc.com/en/more/content/294324...</td>\n",
       "      <td>[https:, , www.the-afc.com, en, more, content,...</td>\n",
       "      <td>en</td>\n",
       "      <td>content</td>\n",
       "    </tr>\n",
       "    <tr>\n",
       "      <th>65332</th>\n",
       "      <td>https://www.the-afc.com/en/more/content/294324...</td>\n",
       "      <td>[https:, , www.the-afc.com, en, more, content,...</td>\n",
       "      <td>en</td>\n",
       "      <td>content</td>\n",
       "    </tr>\n",
       "  </tbody>\n",
       "</table>\n",
       "<p>65333 rows × 4 columns</p>\n",
       "</div>"
      ],
      "text/plain": [
       "                                                     URL  \\\n",
       "0      https://www.the-afc.com/en/more/content/الناقل...   \n",
       "1      https://www.the-afc.com/en/more/content/acl_qu...   \n",
       "2      https://www.the-afc.com/en/club/afc_cup/video/...   \n",
       "3      https://www.the-afc.com/en/more/content/acl_la...   \n",
       "4      https://www.the-afc.com/en/more/content/294323...   \n",
       "...                                                  ...   \n",
       "65328  https://www.the-afc.com/en/more/domestic_leagu...   \n",
       "65329  https://www.the-afc.com/en/more/content/294323...   \n",
       "65330  https://www.the-afc.com/en/more/content/294323...   \n",
       "65331  https://www.the-afc.com/en/more/content/294324...   \n",
       "65332  https://www.the-afc.com/en/more/content/294324...   \n",
       "\n",
       "                                                      D1 LANG  \\\n",
       "0      [https:, , www.the-afc.com, en, more, content,...   en   \n",
       "1      [https:, , www.the-afc.com, en, more, content,...   en   \n",
       "2      [https:, , www.the-afc.com, en, club, afc_cup,...   en   \n",
       "3      [https:, , www.the-afc.com, en, more, content,...   en   \n",
       "4      [https:, , www.the-afc.com, en, more, content,...   en   \n",
       "...                                                  ...  ...   \n",
       "65328  [https:, , www.the-afc.com, en, more, domestic...   en   \n",
       "65329  [https:, , www.the-afc.com, en, more, content,...   en   \n",
       "65330  [https:, , www.the-afc.com, en, more, content,...   en   \n",
       "65331  [https:, , www.the-afc.com, en, more, content,...   en   \n",
       "65332  [https:, , www.the-afc.com, en, more, content,...   en   \n",
       "\n",
       "                     D2  \n",
       "0               content  \n",
       "1               content  \n",
       "2               afc_cup  \n",
       "3               content  \n",
       "4               content  \n",
       "...                 ...  \n",
       "65328  domestic_leagues  \n",
       "65329           content  \n",
       "65330           content  \n",
       "65331           content  \n",
       "65332           content  \n",
       "\n",
       "[65333 rows x 4 columns]"
      ]
     },
     "execution_count": 91,
     "metadata": {},
     "output_type": "execute_result"
    }
   ],
   "source": [
    "df_en"
   ]
  },
  {
   "cell_type": "code",
   "execution_count": 99,
   "metadata": {},
   "outputs": [],
   "source": [
    "df_en =  pd.read_json('AFC_FEB_2023_AFC_EN_01.json', encoding='utf-8')"
   ]
  },
  {
   "cell_type": "code",
   "execution_count": 103,
   "metadata": {
    "collapsed": true,
    "jupyter": {
     "outputs_hidden": true
    }
   },
   "outputs": [
    {
     "data": {
      "text/plain": [
       "'<body><div id=\"app\"></div><script src=\"/js/chunk-vendors.ad9529dd.js\"></script><script src=\"/js/app.9a921eb1.js\"></script><script src=\"/js/basic.ab8d646e.js\"></script><script src=\"/js/basicRTL.525c0f14.js\"></script><script src=\"/js/club-afc-champions-league.fbc29337.js\"></script><script src=\"/js/club-afc-cup.b9985cf3.js\"></script><script src=\"/js/club-brand.adf66e14.js\"></script><script src=\"/js/national-afc-asian-cup.539af08d.js\"></script><script src=\"/js/national-afc-fifa-world-cup.1496b2bc.js\"></script><script src=\"/js/national-afc-fifa-world-cup-final.f54d14af.js\"></script><script src=\"/js/national-afc-u17-asian-cup.789cc0e6.js\"></script><script src=\"/js/national-afc-u20-asian-cup.02bf4461.js\"></script><script src=\"/js/national-afc-beach-soccer-asian-cup.87991960.js\"></script><script src=\"/js/national-afc-asian-qualifiers.77224a6e.js\"></script><script src=\"/js/national-afc-u23-asian-cup.7550e900.js\"></script><script src=\"/js/national-afc-womens-asian-cup.0a82b154.js\"></script><script src=\"/js/neutral.05cb8705.js\"></script><img class=\"pixel\" src=\"/pixel/en/more/aff_cup/news/preview_-_semi-final_1st_leg_indonesia_v_vietnam.html.png\">\\n<h1 class=\"seo-footer\"><a href=\"www.the-afc.com/en/more/aff_cup/news/preview_-_semi-final_1st_leg_indonesia_v_vietnam.html\">Preview - Semi-final, 1st Leg: Indonesia v Vietnam</a></h1>\\n<p class=\"seo-footer\">Thu, 05 Jan, 2023</p>\\n<p class=\"seo-footer\"><img src=\"https://assets.the-afc.com/2022_AFF_Cup/Semi-finals/Indonesia_v_Vietnam/preview.jpg\"></p>\\n<h2 class=\"seo-footer\">Preview - Semi-final, 1st Leg: Indonesia v Vietnam</h2>\\n<p class=\"seo-footer\"><strong class=\"seo-footer\"><span style=\"vertical-align: inherit;\"><span style=\"vertical-align: inherit;\">Kuala Lumpur: Indonesia and Vietnam will face off in the first leg of the 2022 AFF Cup semi-finals at Gelora Bung Karno Stadium on Friday as ASEAN\\'s most prestigious tournament enters the knockout rounds.</span></span></strong></p>\\n<div class=\"seo-footer\"><div>\\n<div><span style=\"vertical-align: inherit;\"><span style=\"vertical-align: inherit;\"><span style=\"vertical-align: inherit;\"><span style=\"vertical-align: inherit;\">Six-time runners-up Indonesia have yet to win the regional competition and were beaten in last year\\'s final by Thailand as once again the Garuda came so close but yet so far.\\xa0</span></span></span></span></div>\\n<div>\\xa0</div>\\n<div><span style=\"vertical-align: inherit;\"><span style=\"vertical-align: inherit;\"><span style=\"vertical-align: inherit;\"><span style=\"vertical-align: inherit;\">Vietnam, meanwhile, won the AFF Cup for the second time in 2018 but were eliminated in last year\\'s semi-finals, with the 2022 edition also set to mark the end of Korean tactician Park Hang-seo\\'s successful five-and-a-half years at the helm.</span></span></span></span></div>\\n</div></div>\\n<script type=\"application/ld+json\">{\\n    \"@context\": \"https://schema.org/\",\\n    \"@type\": \"Article\",\\n    \"name\": \"Preview - Semi-final, 1st Leg: Indonesia v Vietnam\",\\n    \"articleBody\": \"<div>\\\\n<div><span style=\\\\\"vertical-align: inherit;\\\\\"><span style=\\\\\"vertical-align: inherit;\\\\\"><span style=\\\\\"vertical-align: inherit;\\\\\"><span style=\\\\\"vertical-align: inherit;\\\\\">Six-time runners-up Indonesia have yet to win the regional competition and were beaten in last year\\'s final by Thailand as once again the Garuda came so close but yet so far.&nbsp;</span></span></span></span></div>\\\\n<div>&nbsp;</div>\\\\n<div><span style=\\\\\"vertical-align: inherit;\\\\\"><span style=\\\\\"vertical-align: inherit;\\\\\"><span style=\\\\\"vertical-align: inherit;\\\\\"><span style=\\\\\"vertical-align: inherit;\\\\\">Vietnam, meanwhile, won the AFF Cup for the second time in 2018 but were eliminated in last year\\'s semi-finals, with the 2022 edition also set to mark the end of Korean tactician Park Hang-seo\\'s successful five-and-a-half years at the helm.</span></span></span></span></div>\\\\n</div>\",\\n    \"headline\": \"Preview - Semi-final, 1st Leg: Indonesia v Vietnam\",\\n    \"description\": \"<div><span style=\\\\\"vertical-align: inherit;\\\\\"><span style=\\\\\"vertical-align: inherit;\\\\\">Kuala Lumpur: Indonesia and Vietnam will face off in the first leg of the 2022 AFF Cup semi-finals at Gelora Bung Karno Stadium on Friday as ASEAN\\'s most prestigious tournament enters the knockout rounds.</span></span></div>\",\\n    \"author\": {\\n        \"@type\": \"Organization\",\\n        \"url\": \"https://www.the-afc.com/\",\\n        \"name\": \"the AFC\"\\n    },\\n    \"image\": \"https://assets.the-afc.com/2022_AFF_Cup/Semi-finals/Indonesia_v_Vietnam/preview.jpg\",\\n    \"isAccessibleForFree\": true,\\n    \"datePublished\": \"2023-01-05\",\\n    \"url\": \"www.the-afc.com/en/more/aff_cup/news/preview_-_semi-final_1st_leg_indonesia_v_vietnam.html\"\\n}</script>\\n<script type=\"application/ld+json\">{\\n    \"@context\": \"https://schema.org/\",\\n    \"@type\": \"Thing\",\\n    \"name\": null\\n}</script>\\n<script type=\"application/ld+json\">{\\n    \"@context\": \"https://schema.org/\",\\n    \"@type\": \"Thing\",\\n    \"name\": \"\"\\n}</script>\\n<script type=\"application/ld+json\">{\\n    \"@context\": \"https://schema.org/\",\\n    \"@type\": \"Thing\",\\n    \"name\": null\\n}</script>\\n<script type=\"application/ld+json\">{\\n    \"@context\": \"https://schema.org/\",\\n    \"@type\": \"Thing\",\\n    \"name\": \"\"\\n}</script>\\n<script type=\"application/ld+json\">{\\n    \"@context\": \"https://schema.org/\",\\n    \"@type\": \"Thing\",\\n    \"name\": null\\n}</script>\\n<script type=\"application/ld+json\">{\\n    \"@context\": \"https://schema.org/\",\\n    \"@type\": \"WebPageElement\",\\n    \"name\": null,\\n    \"description\": \"<hr/>\"\\n}</script>\\n<script type=\"application/ld+json\">{\\n    \"@context\": \"https://schema.org/\",\\n    \"@type\": \"Thing\",\\n    \"name\": null\\n}</script>\\n<script type=\"application/ld+json\">{\\n    \"@context\": \"https://schema.org/\",\\n    \"@type\": \"Thing\",\\n    \"name\": \"\"\\n}</script>\\n<script type=\"application/ld+json\">{\\n    \"@context\": \"https://schema.org/\",\\n    \"@type\": \"Thing\",\\n    \"name\": null\\n}</script>\\n<script type=\"application/ld+json\">{\\n    \"@context\": \"https://schema.org/\",\\n    \"@type\": \"Thing\",\\n    \"name\": \"\"\\n}</script>\\n<script type=\"application/ld+json\">{\\n    \"@context\": \"https://schema.org/\",\\n    \"@type\": \"Thing\",\\n    \"name\": null\\n}</script>\\n<script type=\"application/ld+json\">{\\n    \"@context\": \"https://schema.org/\",\\n    \"@type\": \"WebPageElement\",\\n    \"name\": null,\\n    \"description\": \"<hr/>\"\\n}</script>\\n<script type=\"application/ld+json\">{\\n    \"@context\": \"https://schema.org/\",\\n    \"@type\": \"Thing\",\\n    \"name\": null\\n}</script>\\n<script type=\"application/ld+json\">{\\n    \"@context\": \"https://schema.org/\",\\n    \"@type\": \"Thing\",\\n    \"name\": \"\"\\n}</script>\\n<script type=\"application/ld+json\">{\\n    \"@context\": \"https://schema.org/\",\\n    \"@type\": \"Thing\",\\n    \"name\": null\\n}</script>\\n<script type=\"application/ld+json\">{\\n    \"@context\": \"https://schema.org/\",\\n    \"@type\": \"Thing\",\\n    \"name\": null\\n}</script>\\n<h1 class=\"seo-footer\"><a href=\"www.the-afc.com/en/more/gulf_cup/news/preview_-_25th_gulf_cup.html\">Preview - 25th Gulf Cup</a></h1>\\n<p class=\"seo-footer\">Tue, 03 Jan, 2023</p>\\n<p class=\"seo-footer\"><img src=\"https://assets.the-afc.com/25th_Gulf_Cup/Preview/Bahrain-24th-Gulf-Cup-champions.jpg\"></p>\\n<h2 class=\"seo-footer\">Preview - 25th Gulf Cup</h2>\\n<p class=\"seo-footer\"><strong class=\"seo-footer\">Basra: Eight west Asian nations get their 2023 underway by competing at the 25th Gulf Cup, taking place in Iraq for the first time since 1979, with the hosts facing Oman in the opening match on Friday.</strong></p>\\n<div class=\"seo-footer\"><div>The pair are joined by Saudi Arabia and Yemen in Group A, while Group B sees reigning Gulf Cup champions Bahrain compete alongside Asian champions Qatar, record Gulf Cup winners Kuwait and the UAE, with the top two sides from each group advancing to the semi-finals.</div></div>\\n<script type=\"application/ld+json\">{\\n    \"@context\": \"https://schema.org/\",\\n    \"@type\": \"Article\",\\n    \"name\": \"Preview - 25th Gulf Cup\",\\n    \"articleBody\": \"<div>The pair are joined by Saudi Arabia and Yemen in Group A, while Group B sees reigning Gulf Cup champions Bahrain compete alongside Asian champions Qatar, record Gulf Cup winners Kuwait and the UAE, with the top two sides from each group advancing to the semi-finals.</div>\",\\n    \"headline\": \"Preview - 25th Gulf Cup\",\\n    \"description\": \"<div>Basra: Eight west Asian nations get their 2023 underway by competing at the 25th Gulf Cup, taking place in Iraq for the first time since 1979, with the hosts facing Oman in the opening match on Friday.</div>\",\\n    \"author\": {\\n        \"@type\": \"Organization\",\\n        \"url\": \"https://www.the-afc.com/\",\\n        \"name\": \"the AFC\"\\n    },\\n    \"image\": \"https://assets.the-afc.com/25th_Gulf_Cup/Preview/Bahrain-24th-Gulf-Cup-champions.jpg\",\\n    \"isAccessibleForFree\": true,\\n    \"datePublished\": \"2023-01-05\",\\n    \"url\": \"www.the-afc.com/en/more/gulf_cup/news/preview_-_25th_gulf_cup.html\"\\n}</script>\\n<h1 class=\"seo-footer\"><a href=\"www.the-afc.com/en/more/aff_cup/news/schrock_calls_time_on_azkals_career.html\">Schrock calls time on Azkals career</a></h1>\\n<p class=\"seo-footer\">Tue, 03 Jan, 2023</p>\\n<p class=\"seo-footer\"><img src=\"https://assets.the-afc.com/2022_AFF_Cup/MD5/Philippines_v_Indonesia/Stephan-Schrock-PFF.jpeg\"></p>\\n<h2 class=\"seo-footer\">Schrock calls time on Azkals career</h2>\\n<p class=\"seo-footer\"><strong class=\"seo-footer\">Manila: Stephan Schrock’s international career came to an end as the Philippines bowed out of the 2022 AFF Cup with a 2-1 defeat to Indonesia in their Group A fixture on Monday.</strong></p>\\n<div class=\"seo-footer\"><div>Goals by Dendy Sulistyawan and Marselino Ferdinan Philipus proved to be enough for Indonesia to clinch a spot in the semi-finals and spoil Schrock’s party at the Rizal Memorial Stadium.</div>\\n<div><br>The Philippines finished fourth in the standings.</div></div>\\n<script type=\"application/ld+json\">{\\n    \"@context\": \"https://schema.org/\",\\n    \"@type\": \"Article\",\\n    \"name\": \"Schrock calls time on Azkals career\",\\n    \"articleBody\": \"<div>Goals by Dendy Sulistyawan and Marselino Ferdinan Philipus proved to be enough for Indonesia to clinch a spot in the semi-finals and spoil Schrock&rsquo;s party at the Rizal Memorial Stadium.</div>\\\\n<div><br />The Philippines finished fourth in the standings.</div>\",\\n    \"headline\": \"Schrock calls time on Azkals career\",\\n    \"description\": \"<div>Manila: Stephan Schrock&rsquo;s international career came to an end as the Philippines bowed out of the 2022 AFF Cup with a 2-1 defeat to Indonesia in their Group A fixture on Monday.</div>\",\\n    \"author\": {\\n        \"@type\": \"Organization\",\\n        \"url\": \"https://www.the-afc.com/\",\\n        \"name\": \"the AFC\"\\n    },\\n    \"image\": \"https://assets.the-afc.com/2022_AFF_Cup/MD5/Philippines_v_Indonesia/Stephan-Schrock-PFF.jpeg\",\\n    \"isAccessibleForFree\": true,\\n    \"datePublished\": \"2023-01-03\",\\n    \"url\": \"www.the-afc.com/en/more/aff_cup/news/schrock_calls_time_on_azkals_career.html\"\\n}</script>\\n<h1 class=\"seo-footer\"><a href=\"www.the-afc.com/en/more/domestic_leagues/news/asean__east_asia_wrap_three_towns_secure_historic_title_in_china_pr_top_three_win_in_australia_.html\">ASEAN &amp; East Asia Wrap: Three Towns secure historic title in China PR; Top three win in Australia </a></h1>\\n<p class=\"seo-footer\">Mon, 02 Jan, 2023</p>\\n<p class=\"seo-footer\"><img src=\"https://assets.the-afc.com/Domestic_Leagues/Asean_East/Wuhan.jpeg\"></p>\\n<h2 class=\"seo-footer\">ASEAN &amp; East Asia Wrap: Three Towns secure historic title in China PR; Top three win in Australia </h2>\\n<p class=\"seo-footer\"><strong class=\"seo-footer\">Hong Kong: Wuhan Three Towns were crowned the new champions of the Chinese Super League at the end of their first season in China PR’s top division as they edged out strong competition from Shandong Taishan, whose title defence fell just short.\\xa0</strong></p>\\n<div class=\"seo-footer\"><div>\\n<div>Frontrunners Melbourne City, Western Sydney Wanderers and Central Coast Mariners all recorded wins in Australia, but it is defending Premiers City who continue to lead the pack with two matches in hand.\\xa0</div>\\n<div>\\xa0</div>\\n<div>In Hong Kong, Eastern Long Lions entered the final of the Senior Shield where they are slated to face Kitchee SC, so join <em><strong>the-AFC.com </strong></em>as we review this week’s action from across ASEAN and East Asia.</div>\\n</div></div>\\n<script type=\"application/ld+json\">{\\n    \"@context\": \"https://schema.org/\",\\n    \"@type\": \"Article\",\\n    \"name\": \"ASEAN & East Asia Wrap: Three Towns secure historic title in China PR; Top three win in Australia \",\\n    \"articleBody\": \"<div>\\\\n<div>Frontrunners Melbourne City, Western Sydney Wanderers and Central Coast Mariners all recorded wins in Australia, but it is defending Premiers City who continue to lead the pack with two matches in hand.&nbsp;</div>\\\\n<div>&nbsp;</div>\\\\n<div>In Hong Kong, Eastern Long Lions entered the final of the Senior Shield where they are slated to face Kitchee SC, so join <em><strong>the-AFC.com </strong></em>as we review this week&rsquo;s action from across ASEAN and East Asia.</div>\\\\n</div>\",\\n    \"headline\": \"ASEAN & East Asia Wrap: Three Towns secure historic title in China PR; Top three win in Australia \",\\n    \"description\": \"<div>Hong Kong: Wuhan Three Towns were crowned the new champions of the Chinese Super League at the end of their first season in China PR&rsquo;s top division as they edged out strong competition from Shandong Taishan, whose title defence fell just short.&nbsp;</div>\",\\n    \"author\": {\\n        \"@type\": \"Organization\",\\n        \"url\": \"https://www.the-afc.com/\",\\n        \"name\": \"the AFC\"\\n    },\\n    \"image\": \"https://assets.the-afc.com/Domestic_Leagues/Asean_East/Wuhan.jpeg\",\\n    \"isAccessibleForFree\": true,\\n    \"datePublished\": \"2023-01-02\",\\n    \"url\": \"www.the-afc.com/en/more/domestic_leagues/news/asean__east_asia_wrap_three_towns_secure_historic_title_in_china_pr_top_three_win_in_australia_.html\"\\n}</script>\\n<h1 class=\"seo-footer\"><a href=\"www.the-afc.com/en/more/transfers/news/when_global_stars_arrive_in_asia.html\">When Global Stars Arrive In Asia</a></h1>\\n<p class=\"seo-footer\">Tue, 03 Jan, 2023</p>\\n<p class=\"seo-footer\"><img src=\"https://assets.the-afc.com/Domestic_Leagues/Global-Icons-in-Asia.jpg\"></p>\\n<h2 class=\"seo-footer\">When Global Stars Arrive In Asia</h2>\\n<p class=\"seo-footer\"><strong class=\"seo-footer\">Kuala Lumpur: Portuguese superstar Cristiano Ronaldo’s move to Al Nassr has created waves across world football, with the former Manchester United, Real Madrid and Juventus attacker signing a contract until 2025 with the Riyadh giants as the Saudi Pro League continues to go from strength to strength.\\xa0</strong></p>\\n<div class=\"seo-footer\"><div>\\n<div>While Saudi Arabia has attracted numerous top-class talents to its shores in recent years, the arrival of Ronaldo marks another significant step forward for the ambitious league, where Brazil’s 1970 FIFA World Cup winner Rivellino with Al Hilal SFC and Bulgarian legend Hristo Stoichkov, who was briefly at Al Nassr, are among the other greats to have played in the Gulf nation.\\xa0</div>\\n<div>\\xa0</div>\\n<div>As football fans across the globe turn their focus to Saudi Arabia to see how the five-time Ballon d’Or winner fares in his new club’s colours, join <em><strong>the-AFC.com</strong></em> as we look at some of the biggest names to have graced Asian football over the years.\\xa0</div>\\n</div></div>\\n<script type=\"application/ld+json\">{\\n    \"@context\": \"https://schema.org/\",\\n    \"@type\": \"Article\",\\n    \"name\": \"When Global Stars Arrive In Asia\",\\n    \"articleBody\": \"<div>\\\\n<div>While Saudi Arabia has attracted numerous top-class talents to its shores in recent years, the arrival of Ronaldo marks another significant step forward for the ambitious league, where Brazil&rsquo;s 1970 FIFA World Cup winner Rivellino with Al Hilal SFC and Bulgarian legend Hristo Stoichkov, who was briefly at Al Nassr, are among the other greats to have played in the Gulf nation.&nbsp;</div>\\\\n<div>&nbsp;</div>\\\\n<div>As football fans across the globe turn their focus to Saudi Arabia to see how the five-time Ballon d&rsquo;Or winner fares in his new club&rsquo;s colours, join <em><strong>the-AFC.com</strong></em> as we look at some of the biggest names to have graced Asian football over the years.&nbsp;</div>\\\\n</div>\",\\n    \"headline\": \"When Global Stars Arrive In Asia\",\\n    \"description\": \"<div>Kuala Lumpur: Portuguese superstar Cristiano Ronaldo&rsquo;s move to Al Nassr has created waves across world football, with the former Manchester United, Real Madrid and Juventus attacker signing a contract until 2025 with the Riyadh giants as the Saudi Pro League continues to go from strength to strength.&nbsp;</div>\",\\n    \"author\": {\\n        \"@type\": \"Organization\",\\n        \"url\": \"https://www.the-afc.com/\",\\n        \"name\": \"the AFC\"\\n    },\\n    \"image\": \"https://assets.the-afc.com/Domestic_Leagues/Global-Icons-in-Asia.jpg\",\\n    \"isAccessibleForFree\": true,\\n    \"datePublished\": \"2023-01-04\",\\n    \"url\": \"www.the-afc.com/en/more/transfers/news/when_global_stars_arrive_in_asia.html\"\\n}</script>\\n<h1 class=\"seo-footer\"><a href=\"www.the-afc.com/en/more/domestic_leagues/news/ronaldo_promises_to_break_more_records_at_al_nassr.html\">Ronaldo promises to break more records at Al Nassr</a></h1>\\n<p class=\"seo-footer\">Wed, 04 Jan, 2023</p>\\n<p class=\"seo-footer\"><img src=\"https://assets.the-afc.com/Transfers/2023_Transfers/Cristiano_Ronaldo/Cristiano-Ronaldo-Unveiling-AFP-1.jpg\"></p>\\n<h2 class=\"seo-footer\">Ronaldo promises to break more records at Al Nassr</h2>\\n<p class=\"seo-footer\"><strong class=\"seo-footer\">Riyadh: Portuguese superstar Cristiano Ronaldo was greeted by thousands of adoring fans at his official unveiling as an Al Nassr player on Tuesday.\\xa0</strong></p>\\n<div class=\"seo-footer\"><div>The 37-year-old, who won the Ballon d\\'Or five times and whose great rivalry with Lionel Messi dominated world football for well over a decade, was paraded at his new club\\'s King Saud University Stadium after jetting in late on Monday.</div></div>\\n<script type=\"application/ld+json\">{\\n    \"@context\": \"https://schema.org/\",\\n    \"@type\": \"Article\",\\n    \"name\": \"Ronaldo promises to break more records at Al Nassr\",\\n    \"articleBody\": \"<div>The 37-year-old, who won the Ballon d\\'Or five times and whose great rivalry with Lionel Messi dominated world football for well over a decade, was paraded at his new club\\'s King Saud University Stadium after jetting in late on Monday.</div>\",\\n    \"headline\": \"Ronaldo promises to break more records at Al Nassr\",\\n    \"description\": \"<div>Riyadh: Portuguese superstar Cristiano Ronaldo was greeted by thousands of adoring fans at his official unveiling as an Al Nassr player on Tuesday.&nbsp;</div>\",\\n    \"author\": {\\n        \"@type\": \"Organization\",\\n        \"url\": \"https://www.the-afc.com/\",\\n        \"name\": \"the AFC\"\\n    },\\n    \"image\": \"https://assets.the-afc.com/Transfers/2023_Transfers/Cristiano_Ronaldo/Cristiano-Ronaldo-Unveiling-AFP-1.jpg\",\\n    \"isAccessibleForFree\": true,\\n    \"datePublished\": \"2023-01-04\",\\n    \"url\": \"www.the-afc.com/en/more/domestic_leagues/news/ronaldo_promises_to_break_more_records_at_al_nassr.html\"\\n}</script>\\n<h1 class=\"seo-footer\"><a href=\"www.the-afc.com/en/more/domestic_leagues/news/europe_wrap_japanese_duo_strike_in_scotland_taermi_trebles_up_in_portugal_1.html\">Europe Wrap: Japanese duo strike in Scotland; Taremi treble in Portugal</a></h1>\\n<p class=\"seo-footer\">Tue, 03 Jan, 2023</p>\\n<p class=\"seo-footer\"><img src=\"https://assets.the-afc.com/Domestic_Leagues/Asean_East/Celtic.jpg\"></p>\\n<h2 class=\"seo-footer\">Europe Wrap: Japanese duo strike in Scotland; Taremi treble in Portugal</h2>\\n<p class=\"seo-footer\"><strong class=\"seo-footer\">Kuala Lumpur: After the excitement of the FIFA World Cup Qatar 2022, top-flight club football returned to Europe with a number of Asian stars delivering the goods over the past week.</strong></p>\\n<div class=\"seo-footer\"><div>\\n<div>There was Japanese joy for Celtic in Scotland, while the prolific Mehdi Taremi was among the goals in Portugal and new Troyes head coach Patrick Kisnorbo delivered a strong start in France.</div>\\n<div>\\xa0</div>\\n<div>With the focus now back on domestic action, <em><strong>the-AFC.com</strong></em> looks at how some of Asia’s stars abroad performed across Europe over the past week.</div>\\n</div></div>\\n<script type=\"application/ld+json\">{\\n    \"@context\": \"https://schema.org/\",\\n    \"@type\": \"Article\",\\n    \"name\": \"Europe Wrap: Japanese duo strike in Scotland; Taremi treble in Portugal\",\\n    \"articleBody\": \"<div>\\\\n<div>There was Japanese joy for Celtic in Scotland, while the prolific Mehdi Taremi was among the goals in Portugal and new Troyes head coach Patrick Kisnorbo delivered a strong start in France.</div>\\\\n<div>&nbsp;</div>\\\\n<div>With the focus now back on domestic action, <em><strong>the-AFC.com</strong></em> looks at how some of Asia&rsquo;s stars abroad performed across Europe over the past week.</div>\\\\n</div>\",\\n    \"headline\": \"Europe Wrap: Japanese duo strike in Scotland; Taremi treble in Portugal\",\\n    \"description\": \"<div>Kuala Lumpur: After the excitement of the FIFA World Cup Qatar 2022, top-flight club football returned to Europe with a number of Asian stars delivering the goods over the past week.</div>\",\\n    \"author\": {\\n        \"@type\": \"Organization\",\\n        \"url\": \"https://www.the-afc.com/\",\\n        \"name\": \"the AFC\"\\n    },\\n    \"image\": \"https://assets.the-afc.com/Domestic_Leagues/Asean_East/Celtic.jpg\",\\n    \"isAccessibleForFree\": true,\\n    \"datePublished\": \"2023-01-03\",\\n    \"url\": \"www.the-afc.com/en/more/domestic_leagues/news/europe_wrap_japanese_duo_strike_in_scotland_taermi_trebles_up_in_portugal_1.html\"\\n}</script>\\n<script type=\"application/ld+json\">{\\n    \"@context\": \"https://schema.org/\",\\n    \"@type\": \"SiteNavigationElement\",\\n    \"name\": \"AFF Cup\",\\n    \"url\": \"/en/more/aff_cup.html\"\\n}</script>\\n<script type=\"text/javascript\">window.NREUM||(NREUM={});NREUM.info={\"beacon\":\"bam.nr-data.net\",\"licenseKey\":\"b6ce61764d\",\"applicationID\":\"1140480483\",\"transactionName\":\"MlYEMhFRV0VSBUEICwscJwUXWVZYHCVYEjgkQw86K0RNRm8lWg8QF1wKCgZCSmp1FFoPEABdAiUMXk1EXApZBBYlWwcIB1xc\",\"queueTime\":0,\"applicationTime\":61,\"atts\":\"HhEHRFlLREs=\",\"errorBeacon\":\"bam.nr-data.net\",\"agent\":\"\"}</script></body>'"
      ]
     },
     "execution_count": 103,
     "metadata": {},
     "output_type": "execute_result"
    }
   ],
   "source": [
    "df_en['CONTENT'].iloc[1000]"
   ]
  },
  {
   "cell_type": "code",
   "execution_count": 104,
   "metadata": {},
   "outputs": [],
   "source": [
    "xpath_text_not_script = '//body/*[not(self::script)]//text()'"
   ]
  },
  {
   "cell_type": "code",
   "execution_count": 117,
   "metadata": {},
   "outputs": [],
   "source": [
    "df_en['TEXT'] = df_en['CONTENT'].apply(lambda x: ' '.join(Selector(text = str(x)).xpath(xpath_text_not_script).getall()).strip())"
   ]
  },
  {
   "cell_type": "code",
   "execution_count": 118,
   "metadata": {},
   "outputs": [],
   "source": [
    "df_en =  df_en[df_en['TEXT'].apply(lambda x: len(x) >0)].reset_index(drop=True)"
   ]
  },
  {
   "cell_type": "code",
   "execution_count": 119,
   "metadata": {},
   "outputs": [],
   "source": [
    "df_en['LEN'] = df_en['TEXT'].apply(lambda x: len(x.split()))"
   ]
  },
  {
   "cell_type": "code",
   "execution_count": null,
   "metadata": {},
   "outputs": [],
   "source": []
  },
  {
   "cell_type": "code",
   "execution_count": 125,
   "metadata": {},
   "outputs": [],
   "source": [
    "df_en =  df_en[df_en.LEN> 10].reset_index(drop=True)"
   ]
  },
  {
   "cell_type": "code",
   "execution_count": 128,
   "metadata": {},
   "outputs": [],
   "source": [
    "df_en = df_en['TEXT LEN'.split()]"
   ]
  },
  {
   "cell_type": "code",
   "execution_count": 130,
   "metadata": {},
   "outputs": [],
   "source": [
    "#df_en.to_pickle('AFC_FEB_2023.pkl', protocol=4)"
   ]
  },
  {
   "cell_type": "code",
   "execution_count": null,
   "metadata": {},
   "outputs": [],
   "source": []
  }
 ],
 "metadata": {
  "kernelspec": {
   "display_name": "Python 3",
   "language": "python",
   "name": "python3"
  },
  "language_info": {
   "codemirror_mode": {
    "name": "ipython",
    "version": 3
   },
   "file_extension": ".py",
   "mimetype": "text/x-python",
   "name": "python",
   "nbconvert_exporter": "python",
   "pygments_lexer": "ipython3",
   "version": "3.8.7"
  }
 },
 "nbformat": 4,
 "nbformat_minor": 4
}
