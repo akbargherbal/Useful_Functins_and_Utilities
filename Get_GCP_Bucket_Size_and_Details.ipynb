{
 "cells": [
  {
   "cell_type": "code",
   "execution_count": 1,
   "id": "f321619f-c25f-4d8c-9030-4ae402f45267",
   "metadata": {},
   "outputs": [],
   "source": [
    "import pandas as pd"
   ]
  },
  {
   "cell_type": "code",
   "execution_count": null,
   "id": "61c31cb3-78c1-4a9c-a2f4-85e77720fee8",
   "metadata": {},
   "outputs": [],
   "source": []
  },
  {
   "cell_type": "code",
   "execution_count": 3,
   "id": "5a65cfcd-dcd9-454a-9253-bdf5b8a7009e",
   "metadata": {},
   "outputs": [],
   "source": [
    "list_blobs = []\n",
    "from google.cloud import storage\n",
    "client = storage.Client()\n",
    "bucket = client.get_bucket('namiq_october_2022')\n",
    "total_size = 0\n",
    "for blob in bucket.list_blobs():\n",
    "    blob_name = blob.name\n",
    "    blob_size = blob.size\n",
    "    list_blobs.append((blob_name, blob_size))"
   ]
  },
  {
   "cell_type": "code",
   "execution_count": 5,
   "id": "728cc93e-bf72-4c25-8b35-7cff26ba649d",
   "metadata": {},
   "outputs": [],
   "source": [
    "df = pd.DataFrame(list_blobs)"
   ]
  },
  {
   "cell_type": "code",
   "execution_count": 9,
   "id": "41489923-00ef-41bc-9c04-a26e79a1634d",
   "metadata": {},
   "outputs": [
    {
     "data": {
      "text/plain": [
       "64"
      ]
     },
     "execution_count": 9,
     "metadata": {},
     "output_type": "execute_result"
    }
   ],
   "source": [
    "df[1].sum()  // 1_000_000_000"
   ]
  },
  {
   "cell_type": "code",
   "execution_count": 11,
   "id": "20d1460d-62b1-4f56-89d0-d5784b95726f",
   "metadata": {},
   "outputs": [],
   "source": [
    "df = df.rename(columns= {0: 'BLOB_NAME', 1: 'BLOB_SIZE'})"
   ]
  },
  {
   "cell_type": "code",
   "execution_count": 12,
   "id": "8c39f5f6-563f-4bf9-b051-5a5110bd8c2c",
   "metadata": {},
   "outputs": [],
   "source": [
    "df['BLOB_SIZE'] = df['BLOB_SIZE'] / 1_000_000_000"
   ]
  },
  {
   "cell_type": "code",
   "execution_count": 15,
   "id": "84f93796-7494-45a8-a5b4-d1cba66d6cf8",
   "metadata": {},
   "outputs": [
    {
     "data": {
      "text/html": [
       "<div>\n",
       "<style scoped>\n",
       "    .dataframe tbody tr th:only-of-type {\n",
       "        vertical-align: middle;\n",
       "    }\n",
       "\n",
       "    .dataframe tbody tr th {\n",
       "        vertical-align: top;\n",
       "    }\n",
       "\n",
       "    .dataframe thead th {\n",
       "        text-align: right;\n",
       "    }\n",
       "</style>\n",
       "<table border=\"1\" class=\"dataframe\">\n",
       "  <thead>\n",
       "    <tr style=\"text-align: right;\">\n",
       "      <th></th>\n",
       "      <th>BLOB_NAME</th>\n",
       "      <th>BLOB_SIZE</th>\n",
       "    </tr>\n",
       "  </thead>\n",
       "  <tbody>\n",
       "    <tr>\n",
       "      <th>6</th>\n",
       "      <td>Arabic_Poetry_By_Falih_AlQadhaa/Arabic_Poetry_...</td>\n",
       "      <td>1.057228</td>\n",
       "    </tr>\n",
       "    <tr>\n",
       "      <th>9626</th>\n",
       "      <td>ONE_MILLION/0_100k_WEBSITES.json</td>\n",
       "      <td>1.976122</td>\n",
       "    </tr>\n",
       "    <tr>\n",
       "      <th>9627</th>\n",
       "      <td>ONE_MILLION/scraping_one_million_websites_01.csv</td>\n",
       "      <td>1.519059</td>\n",
       "    </tr>\n",
       "    <tr>\n",
       "      <th>9631</th>\n",
       "      <td>UN_CORPUS/ARABIC_UN_CORPUS_FASTTEXT_EMBEDDINGS...</td>\n",
       "      <td>4.452435</td>\n",
       "    </tr>\n",
       "    <tr>\n",
       "      <th>9637</th>\n",
       "      <td>UN_CORPUS/DATASET_ARABIC_UN_CORPUS_SEMI_CLEAN_...</td>\n",
       "      <td>3.927157</td>\n",
       "    </tr>\n",
       "    <tr>\n",
       "      <th>9691</th>\n",
       "      <td>UN_CORPUS/QUIZ_UN_CORPUS_STAGE_04/UN_AR_CORPUS...</td>\n",
       "      <td>4.981620</td>\n",
       "    </tr>\n",
       "    <tr>\n",
       "      <th>9692</th>\n",
       "      <td>UN_CORPUS/QUIZ_UN_CORPUS_STAGE_04/UN_AR_CORPUS...</td>\n",
       "      <td>6.942069</td>\n",
       "    </tr>\n",
       "    <tr>\n",
       "      <th>9693</th>\n",
       "      <td>UN_CORPUS/QUIZ_UN_CORPUS_STAGE_04/UN_AR_CORPUS...</td>\n",
       "      <td>7.380815</td>\n",
       "    </tr>\n",
       "    <tr>\n",
       "      <th>9694</th>\n",
       "      <td>UN_CORPUS/QUIZ_UN_CORPUS_STAGE_04/UN_AR_CORPUS...</td>\n",
       "      <td>8.208427</td>\n",
       "    </tr>\n",
       "    <tr>\n",
       "      <th>9721</th>\n",
       "      <td>UN_CORPUS/QUIZ_UN_CORPUS_STAGE_06/TWO_MILLION_...</td>\n",
       "      <td>1.231920</td>\n",
       "    </tr>\n",
       "  </tbody>\n",
       "</table>\n",
       "</div>"
      ],
      "text/plain": [
       "                                              BLOB_NAME  BLOB_SIZE\n",
       "6     Arabic_Poetry_By_Falih_AlQadhaa/Arabic_Poetry_...   1.057228\n",
       "9626                   ONE_MILLION/0_100k_WEBSITES.json   1.976122\n",
       "9627   ONE_MILLION/scraping_one_million_websites_01.csv   1.519059\n",
       "9631  UN_CORPUS/ARABIC_UN_CORPUS_FASTTEXT_EMBEDDINGS...   4.452435\n",
       "9637  UN_CORPUS/DATASET_ARABIC_UN_CORPUS_SEMI_CLEAN_...   3.927157\n",
       "9691  UN_CORPUS/QUIZ_UN_CORPUS_STAGE_04/UN_AR_CORPUS...   4.981620\n",
       "9692  UN_CORPUS/QUIZ_UN_CORPUS_STAGE_04/UN_AR_CORPUS...   6.942069\n",
       "9693  UN_CORPUS/QUIZ_UN_CORPUS_STAGE_04/UN_AR_CORPUS...   7.380815\n",
       "9694  UN_CORPUS/QUIZ_UN_CORPUS_STAGE_04/UN_AR_CORPUS...   8.208427\n",
       "9721  UN_CORPUS/QUIZ_UN_CORPUS_STAGE_06/TWO_MILLION_...   1.231920"
      ]
     },
     "execution_count": 15,
     "metadata": {},
     "output_type": "execute_result"
    }
   ],
   "source": [
    "df[df['BLOB_SIZE'] > 1]"
   ]
  },
  {
   "cell_type": "code",
   "execution_count": 16,
   "id": "afdff565-03cb-4b05-a87a-a8e629643269",
   "metadata": {},
   "outputs": [],
   "source": [
    "df.to_pickle('NAMIQ_BUCKET_SIZE.pkl', protocol=4)"
   ]
  },
  {
   "cell_type": "code",
   "execution_count": null,
   "id": "34ac37c3-d3c3-4d4b-8224-7566a3c5ecae",
   "metadata": {},
   "outputs": [],
   "source": []
  }
 ],
 "metadata": {
  "environment": {
   "kernel": "python3",
   "name": "common-cpu.m98",
   "type": "gcloud",
   "uri": "gcr.io/deeplearning-platform-release/base-cpu:m98"
  },
  "kernelspec": {
   "display_name": "Python 3",
   "language": "python",
   "name": "python3"
  },
  "language_info": {
   "codemirror_mode": {
    "name": "ipython",
    "version": 3
   },
   "file_extension": ".py",
   "mimetype": "text/x-python",
   "name": "python",
   "nbconvert_exporter": "python",
   "pygments_lexer": "ipython3",
   "version": "3.7.12"
  }
 },
 "nbformat": 4,
 "nbformat_minor": 5
}
