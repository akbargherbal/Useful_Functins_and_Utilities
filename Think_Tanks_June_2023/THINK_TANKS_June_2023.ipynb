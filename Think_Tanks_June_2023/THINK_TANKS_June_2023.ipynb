{
 "cells": [
  {
   "cell_type": "code",
   "execution_count": 4,
   "metadata": {},
   "outputs": [
    {
     "data": {
      "text/plain": [
       "'C:\\\\Users\\\\gherb\\\\Jupyter_Notebooks\\\\Think_Tanks_NLP_June_2023'"
      ]
     },
     "execution_count": 4,
     "metadata": {},
     "output_type": "execute_result"
    }
   ],
   "source": [
    "pwd"
   ]
  },
  {
   "cell_type": "code",
   "execution_count": null,
   "metadata": {},
   "outputs": [],
   "source": [
    "import regex as re\n",
    "\n",
    "import pandas as pd\n",
    "\n",
    "\n",
    "from itertools import chain\n",
    "from collections import Counter\n",
    "\n"
   ]
  },
  {
   "cell_type": "code",
   "execution_count": 10,
   "metadata": {},
   "outputs": [],
   "source": [
    "df = pd.read_pickle('../DATASETS/THINK_TANKS_UN_CORPUS_VERB_NOUN_PAT_INTERSECTION/THINK_TANKS_COMBINED_BATCHES_ALL_PATTERNS_STAGE_12.pkl')"
   ]
  },
  {
   "cell_type": "code",
   "execution_count": 14,
   "metadata": {},
   "outputs": [
    {
     "name": "stdout",
     "output_type": "stream",
     "text": [
      "['city of London', 'debt service', 'contributing factor', 'digital payments', 'scale war', 'positive trajectory', 'kinds of issues', 'report has', 'know the administration', 'had no idea', 'international obligations', 'nuclear program', 'humanitarian community', 'distinguished guests', 'much energy', 'defense expenditures', 'career path', 'questions from the audience', 'point in time', 'global goals']\n"
     ]
    }
   ],
   "source": [
    "print(df.TEXT_PAT.sample(20).tolist())"
   ]
  },
  {
   "cell_type": "code",
   "execution_count": 18,
   "metadata": {},
   "outputs": [],
   "source": [
    "test = df[df['FREQ']>=80]"
   ]
  },
  {
   "cell_type": "code",
   "execution_count": 19,
   "metadata": {},
   "outputs": [
    {
     "name": "stdout",
     "output_type": "stream",
     "text": [
      "['vulnerable people', 'near term', 'create jobs', 'human security', 'democratic country', 'United State', 'country is going', 'shell companies', 'greenhouse gases', 'important time', 'global perspective', 'global development', 'associate fellow', 'elected government', 'different sort', 'Chinese leadership', 'big number', 'political side', 'political landscape', 'strategic partner']\n"
     ]
    }
   ],
   "source": [
    "print(test.TEXT_PAT.sample(20).tolist())"
   ]
  },
  {
   "cell_type": "code",
   "execution_count": null,
   "metadata": {},
   "outputs": [],
   "source": []
  },
  {
   "cell_type": "code",
   "execution_count": 20,
   "metadata": {},
   "outputs": [
    {
     "data": {
      "text/plain": [
       "{'Strong interest in making', 'commercial structures', 'defense market'}"
      ]
     },
     "execution_count": 20,
     "metadata": {},
     "output_type": "execute_result"
    }
   ],
   "source": [
    "set('''\n",
    "commercial structures\n",
    "defense market\n",
    "Strong interest in making\n",
    "'''.strip().split('\\n'))"
   ]
  },
  {
   "cell_type": "code",
   "execution_count": null,
   "metadata": {},
   "outputs": [],
   "source": []
  }
 ],
 "metadata": {
  "kernelspec": {
   "display_name": "Python 3",
   "language": "python",
   "name": "python3"
  },
  "language_info": {
   "codemirror_mode": {
    "name": "ipython",
    "version": 3
   },
   "file_extension": ".py",
   "mimetype": "text/x-python",
   "name": "python",
   "nbconvert_exporter": "python",
   "pygments_lexer": "ipython3",
   "version": "3.8.7"
  }
 },
 "nbformat": 4,
 "nbformat_minor": 4
}
