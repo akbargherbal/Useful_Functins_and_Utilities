{
 "cells": [
  {
   "cell_type": "code",
   "execution_count": 1,
   "metadata": {},
   "outputs": [],
   "source": [
    "import os\n",
    "import regex as re"
   ]
  },
  {
   "cell_type": "code",
   "execution_count": 2,
   "metadata": {},
   "outputs": [],
   "source": [
    "import pandas as pd"
   ]
  },
  {
   "cell_type": "code",
   "execution_count": 43,
   "metadata": {},
   "outputs": [],
   "source": [
    "def batch_pickle_reader(dir_pickles=''):\n",
    "    '''\n",
    "    Given a directory that contains pkl pandas DataFrmes;\n",
    "    populate them in serial manner; i.e. df01, df02, df03, etc.\n",
    "    '''\n",
    "    dir_pickles = f'{dir_pickles}'\n",
    "    list_pkls = os.listdir(dir_pickles)\n",
    "    list_pkls = [i for i in list_pkls if i.endswith('pkl')]\n",
    "    list_pkls = [f'{dir_pickles}{i}' for i in list_pkls]\n",
    "    list_pkls = [f'#{i}#' for i in list_pkls]\n",
    "    exp_read_pkls = [f'df_{str(i+1).zfill(2)} = pd.read_pickle({j})' for i,j in zip(range(len(list_pkls)), list_pkls)]\n",
    "    print(f'Pickle Files are in:\\t\\t{dir_pickles}')\n",
    "    exp_read_pkls = [re.sub('#', \"\\'\", i) for i in exp_read_pkls]\n",
    "    for i in exp_read_pkls:\n",
    "        print(i)"
   ]
  },
  {
   "cell_type": "code",
   "execution_count": 44,
   "metadata": {},
   "outputs": [
    {
     "name": "stdout",
     "output_type": "stream",
     "text": [
      "Pickle Files are in:\t\tIISS_NLP/\n",
      "df_01 = pd.read_pickle('IISS_NLP/IISS_NLP_BATCH_01.pkl')\n",
      "df_02 = pd.read_pickle('IISS_NLP/IISS_NLP_BATCH_02.pkl')\n",
      "df_03 = pd.read_pickle('IISS_NLP/IISS_NLP_BATCH_03.pkl')\n",
      "df_04 = pd.read_pickle('IISS_NLP/IISS_NLP_BATCH_04.pkl')\n",
      "df_05 = pd.read_pickle('IISS_NLP/IISS_NLP_BATCH_05.pkl')\n",
      "df_06 = pd.read_pickle('IISS_NLP/IISS_NLP_BATCH_06.pkl')\n",
      "df_07 = pd.read_pickle('IISS_NLP/IISS_NLP_BATCH_07.pkl')\n"
     ]
    }
   ],
   "source": [
    "batch_pickle_reader('IISS_NLP/')"
   ]
  },
  {
   "cell_type": "code",
   "execution_count": null,
   "metadata": {},
   "outputs": [],
   "source": []
  },
  {
   "cell_type": "code",
   "execution_count": null,
   "metadata": {},
   "outputs": [],
   "source": []
  },
  {
   "cell_type": "code",
   "execution_count": null,
   "metadata": {},
   "outputs": [],
   "source": []
  }
 ],
 "metadata": {
  "kernelspec": {
   "display_name": "Python 3",
   "language": "python",
   "name": "python3"
  },
  "language_info": {
   "codemirror_mode": {
    "name": "ipython",
    "version": 3
   },
   "file_extension": ".py",
   "mimetype": "text/x-python",
   "name": "python",
   "nbconvert_exporter": "python",
   "pygments_lexer": "ipython3",
   "version": "3.8.7"
  }
 },
 "nbformat": 4,
 "nbformat_minor": 4
}
