{
  "nbformat": 4,
  "nbformat_minor": 0,
  "metadata": {
    "colab": {
      "provenance": [],
      "machine_shape": "hm",
      "gpuType": "T4"
    },
    "kernelspec": {
      "name": "python3",
      "display_name": "Python 3"
    },
    "language_info": {
      "name": "python"
    },
    "accelerator": "GPU"
  },
  "cells": [
    {
      "cell_type": "code",
      "source": [
        "import psutil\n",
        "import os\n",
        "\n",
        "# Number of CPU cores\n",
        "cpu_cores = os.cpu_count()\n",
        "\n",
        "# Memory (RAM) information\n",
        "ram_info = psutil.virtual_memory()\n",
        "total_ram = ram_info.total\n",
        "available_ram = ram_info.available\n",
        "\n",
        "# GPU information (if available)\n",
        "try:\n",
        "    from tensorflow.python.client import device_lib\n",
        "\n",
        "    devices = device_lib.list_local_devices()\n",
        "    gpu_info = [device for device in devices if device.device_type == 'GPU']\n",
        "    if gpu_info:\n",
        "        gpu_name = gpu_info[0].name\n",
        "\n",
        "        try:\n",
        "          gpu_name_human = devices[1].physical_device_desc\n",
        "        except:\n",
        "          gpu_name_human = \"No GPU available\"\n",
        "\n",
        "\n",
        "    else:\n",
        "        gpu_name = \"No GPU available\"\n",
        "\n",
        "except ImportError:\n",
        "    gpu_name = \"TensorFlow not installed\"\n",
        "\n",
        "# Print the information\n",
        "print(f\"Number of CPU cores: {cpu_cores}\")\n",
        "print(f\"Total RAM: {total_ram / (1024 ** 3):.2f} GB\")\n",
        "print(f\"Available RAM: {available_ram / (1024 ** 3):.2f} GB\")\n",
        "print(f\"GPU: {gpu_name}\")\n",
        "try:\n",
        "  print(f\"GPU: {gpu_name_human}\")\n",
        "except:\n",
        "  print(f\"No GPU\")\n"
      ],
      "metadata": {
        "colab": {
          "base_uri": "https://localhost:8080/"
        },
        "id": "MZXVz6Tr5yvt",
        "outputId": "50a6cb3e-78f2-465c-9549-94e5838d3b33"
      },
      "execution_count": 1,
      "outputs": [
        {
          "output_type": "stream",
          "name": "stdout",
          "text": [
            "Number of CPU cores: 8\n",
            "Total RAM: 50.99 GB\n",
            "Available RAM: 49.74 GB\n",
            "GPU: /device:GPU:0\n",
            "GPU: device: 0, name: Tesla T4, pci bus id: 0000:00:04.0, compute capability: 7.5\n"
          ]
        }
      ]
    },
    {
      "cell_type": "code",
      "source": [
        "benchmark = '''\n",
        "\n",
        "Number of CPU cores: 8\n",
        "Total RAM: 50.99 GB\n",
        "Available RAM: 49.85 GB\n",
        "GPU: No GPU available\n",
        "No GPU\n",
        "Usage rate: approximately 0.12 per hour\n",
        "\n",
        "\n",
        "Number of CPU cores: 8\n",
        "Total RAM: 50.99 GB\n",
        "Available RAM: 49.72 GB\n",
        "GPU: /device:GPU:0\n",
        "GPU: device: 0, name: Tesla V100-SXM2-16GB, pci bus id: 0000:00:04.0, compute capability: 7.0\n",
        "Usage rate: approximately 5.45 per hour\n",
        "\n",
        "\n",
        "Number of CPU cores: 8\n",
        "Total RAM: 50.99 GB\n",
        "Available RAM: 49.74 GB\n",
        "GPU: /device:GPU:0\n",
        "GPU: device: 0, name: Tesla T4, pci bus id: 0000:00:04.0, compute capability: 7.5\n",
        "Usage rate: approximately 2.05 per hour\n",
        "\n",
        "\n",
        "'''.strip()"
      ],
      "metadata": {
        "id": "_PrABott61Ad"
      },
      "execution_count": 2,
      "outputs": []
    },
    {
      "cell_type": "code",
      "source": [
        "print(benchmark)"
      ],
      "metadata": {
        "colab": {
          "base_uri": "https://localhost:8080/"
        },
        "id": "zhPPv8E97Qev",
        "outputId": "19f37910-4819-4af6-fef5-5dc6a5220cab"
      },
      "execution_count": 3,
      "outputs": [
        {
          "output_type": "stream",
          "name": "stdout",
          "text": [
            "Number of CPU cores: 8\n",
            "Total RAM: 50.99 GB\n",
            "Available RAM: 49.85 GB\n",
            "GPU: No GPU available\n",
            "No GPU\n",
            "Usage rate: approximately 0.12 per hour\n",
            "\n",
            "\n",
            "Number of CPU cores: 8\n",
            "Total RAM: 50.99 GB\n",
            "Available RAM: 49.72 GB\n",
            "GPU: /device:GPU:0\n",
            "GPU: device: 0, name: Tesla V100-SXM2-16GB, pci bus id: 0000:00:04.0, compute capability: 7.0\n",
            "Usage rate: approximately 5.45 per hour\n",
            "\n",
            "\n",
            "Number of CPU cores: 8\n",
            "Total RAM: 50.99 GB\n",
            "Available RAM: 49.74 GB\n",
            "GPU: /device:GPU:0\n",
            "GPU: device: 0, name: Tesla T4, pci bus id: 0000:00:04.0, compute capability: 7.5\n",
            "Usage rate: approximately 2.05 per hour\n"
          ]
        }
      ]
    },
    {
      "cell_type": "code",
      "source": [],
      "metadata": {
        "id": "zBpX2cxuBEUr"
      },
      "execution_count": null,
      "outputs": []
    }
  ]
}