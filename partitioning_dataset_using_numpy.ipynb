{
 "cells": [
  {
   "cell_type": "code",
   "execution_count": null,
   "id": "577824e3-0bf1-41e0-9c8b-1db29abb3bd0",
   "metadata": {},
   "outputs": [],
   "source": []
  },
  {
   "cell_type": "code",
   "execution_count": null,
   "id": "65efca50-5ba9-4c40-be6e-d10a36e294d1",
   "metadata": {},
   "outputs": [],
   "source": []
  },
  {
   "cell_type": "code",
   "execution_count": 1,
   "id": "26d8ea6b-23ad-40bd-836f-ece9dd4849ac",
   "metadata": {},
   "outputs": [],
   "source": [
    "import pandas as pd\n",
    "\n",
    "import numpy as np"
   ]
  },
  {
   "cell_type": "code",
   "execution_count": 2,
   "id": "3bde1f00-8248-4ed2-a28b-f124e844aacf",
   "metadata": {},
   "outputs": [],
   "source": [
    "import os"
   ]
  },
  {
   "cell_type": "code",
   "execution_count": 3,
   "id": "c29ee03e-5e9c-42f7-abc9-bedb988405ae",
   "metadata": {},
   "outputs": [],
   "source": [
    "import regex as re"
   ]
  },
  {
   "cell_type": "code",
   "execution_count": 4,
   "id": "88767008-cc85-45a4-a54e-41376cf04bbe",
   "metadata": {},
   "outputs": [],
   "source": [
    "df = pd.read_pickle('NOVELS_AUTHORS_COMPLETE_DATASET_4M_LINES.pkl')"
   ]
  },
  {
   "cell_type": "code",
   "execution_count": 5,
   "id": "5ad57e87-e191-4e60-aec9-66d4b2ee5ddc",
   "metadata": {},
   "outputs": [
    {
     "data": {
      "text/html": [
       "<div>\n",
       "<style scoped>\n",
       "    .dataframe tbody tr th:only-of-type {\n",
       "        vertical-align: middle;\n",
       "    }\n",
       "\n",
       "    .dataframe tbody tr th {\n",
       "        vertical-align: top;\n",
       "    }\n",
       "\n",
       "    .dataframe thead th {\n",
       "        text-align: right;\n",
       "    }\n",
       "</style>\n",
       "<table border=\"1\" class=\"dataframe\">\n",
       "  <thead>\n",
       "    <tr style=\"text-align: right;\">\n",
       "      <th></th>\n",
       "      <th>TEXT</th>\n",
       "      <th>AUTHOR</th>\n",
       "    </tr>\n",
       "  </thead>\n",
       "  <tbody>\n",
       "    <tr>\n",
       "      <th>0</th>\n",
       "      <td>\"One thousand suppliers spread across America,...</td>\n",
       "      <td>DAVID_BALDACCI_COLLECTION_DATASET</td>\n",
       "    </tr>\n",
       "    <tr>\n",
       "      <th>1</th>\n",
       "      <td>\"I lost it when I-\"</td>\n",
       "      <td>NORA_ROBERTS_DATASET</td>\n",
       "    </tr>\n",
       "    <tr>\n",
       "      <th>2</th>\n",
       "      <td>At a gallop, the gateway began to dwindle, bro...</td>\n",
       "      <td>BRANDON_SANDERSON_COLLECTION_EPUB_DATASET</td>\n",
       "    </tr>\n",
       "    <tr>\n",
       "      <th>3</th>\n",
       "      <td>“Walk me through the prep for the buses.”</td>\n",
       "      <td>DAVID_BALDACCI_COLLECTION_DATASET</td>\n",
       "    </tr>\n",
       "    <tr>\n",
       "      <th>4</th>\n",
       "      <td>Soon the old talker appeared.</td>\n",
       "      <td>GEORGE_R_R_MARTIN_DATASET</td>\n",
       "    </tr>\n",
       "    <tr>\n",
       "      <th>...</th>\n",
       "      <td>...</td>\n",
       "      <td>...</td>\n",
       "    </tr>\n",
       "    <tr>\n",
       "      <th>4013323</th>\n",
       "      <td>“Why didn’t Taim break them?” Logain asked. “H...</td>\n",
       "      <td>BRANDON_SANDERSON_COLLECTION_EPUB_DATASET</td>\n",
       "    </tr>\n",
       "    <tr>\n",
       "      <th>4013324</th>\n",
       "      <td>“My sweet girl.” Lilith pressed another kiss t...</td>\n",
       "      <td>NORA_ROBERTS_DATASET</td>\n",
       "    </tr>\n",
       "    <tr>\n",
       "      <th>4013325</th>\n",
       "      <td>To that, he got silence and this silence laste...</td>\n",
       "      <td>KRISTEN_ASHLEY_COLLECTION_DATASET</td>\n",
       "    </tr>\n",
       "    <tr>\n",
       "      <th>4013326</th>\n",
       "      <td>\"Because I can.\" He watched knowledge come int...</td>\n",
       "      <td>NORA_ROBERTS_DATASET</td>\n",
       "    </tr>\n",
       "    <tr>\n",
       "      <th>4013327</th>\n",
       "      <td>“I’ll show you,” Galen said, and his voice was...</td>\n",
       "      <td>LAURELL_K_HAMILTON_COMPLETE_EBOOK_COLLECTION_Z...</td>\n",
       "    </tr>\n",
       "  </tbody>\n",
       "</table>\n",
       "<p>4013328 rows × 2 columns</p>\n",
       "</div>"
      ],
      "text/plain": [
       "                                                      TEXT  \\\n",
       "0        \"One thousand suppliers spread across America,...   \n",
       "1                                      \"I lost it when I-\"   \n",
       "2        At a gallop, the gateway began to dwindle, bro...   \n",
       "3                “Walk me through the prep for the buses.”   \n",
       "4                            Soon the old talker appeared.   \n",
       "...                                                    ...   \n",
       "4013323  “Why didn’t Taim break them?” Logain asked. “H...   \n",
       "4013324  “My sweet girl.” Lilith pressed another kiss t...   \n",
       "4013325  To that, he got silence and this silence laste...   \n",
       "4013326  \"Because I can.\" He watched knowledge come int...   \n",
       "4013327  “I’ll show you,” Galen said, and his voice was...   \n",
       "\n",
       "                                                    AUTHOR  \n",
       "0                        DAVID_BALDACCI_COLLECTION_DATASET  \n",
       "1                                     NORA_ROBERTS_DATASET  \n",
       "2                BRANDON_SANDERSON_COLLECTION_EPUB_DATASET  \n",
       "3                        DAVID_BALDACCI_COLLECTION_DATASET  \n",
       "4                                GEORGE_R_R_MARTIN_DATASET  \n",
       "...                                                    ...  \n",
       "4013323          BRANDON_SANDERSON_COLLECTION_EPUB_DATASET  \n",
       "4013324                               NORA_ROBERTS_DATASET  \n",
       "4013325                  KRISTEN_ASHLEY_COLLECTION_DATASET  \n",
       "4013326                               NORA_ROBERTS_DATASET  \n",
       "4013327  LAURELL_K_HAMILTON_COMPLETE_EBOOK_COLLECTION_Z...  \n",
       "\n",
       "[4013328 rows x 2 columns]"
      ]
     },
     "execution_count": 5,
     "metadata": {},
     "output_type": "execute_result"
    }
   ],
   "source": [
    "df"
   ]
  },
  {
   "cell_type": "code",
   "execution_count": 10,
   "id": "805d24ef-cef1-4ce5-8bc8-dcf4640fe31c",
   "metadata": {},
   "outputs": [],
   "source": [
    "list_dfs = [f\"\"\"\n",
    "df_{str(i+1).zfill(2)}\n",
    "\"\"\".strip()\n",
    "for i in range(8)]"
   ]
  },
  {
   "cell_type": "code",
   "execution_count": 11,
   "id": "3a717c68-d1aa-4285-a203-35cbe2a76fdf",
   "metadata": {},
   "outputs": [
    {
     "data": {
      "text/plain": [
       "['df_01', 'df_02', 'df_03', 'df_04', 'df_05', 'df_06', 'df_07', 'df_08']"
      ]
     },
     "execution_count": 11,
     "metadata": {},
     "output_type": "execute_result"
    }
   ],
   "source": [
    "list_dfs"
   ]
  },
  {
   "cell_type": "code",
   "execution_count": 12,
   "id": "73079f94-6845-4101-874b-d8fc95527888",
   "metadata": {},
   "outputs": [
    {
     "name": "stdout",
     "output_type": "stream",
     "text": [
      "df_01, df_02, df_03, df_04, df_05, df_06, df_07, df_08\n"
     ]
    }
   ],
   "source": [
    "print(', '.join(list_dfs))"
   ]
  },
  {
   "cell_type": "code",
   "execution_count": 13,
   "id": "8f749f0d-b07e-40d2-9a4f-ec832846bc98",
   "metadata": {},
   "outputs": [],
   "source": [
    "df_01, df_02, df_03, df_04, df_05, df_06, df_07, df_08 = np.array_split(df, 8)"
   ]
  },
  {
   "cell_type": "code",
   "execution_count": 15,
   "id": "622e18f0-0295-4113-b30c-dfd93a04f367",
   "metadata": {},
   "outputs": [
    {
     "data": {
      "text/html": [
       "<div>\n",
       "<style scoped>\n",
       "    .dataframe tbody tr th:only-of-type {\n",
       "        vertical-align: middle;\n",
       "    }\n",
       "\n",
       "    .dataframe tbody tr th {\n",
       "        vertical-align: top;\n",
       "    }\n",
       "\n",
       "    .dataframe thead th {\n",
       "        text-align: right;\n",
       "    }\n",
       "</style>\n",
       "<table border=\"1\" class=\"dataframe\">\n",
       "  <thead>\n",
       "    <tr style=\"text-align: right;\">\n",
       "      <th></th>\n",
       "      <th>TEXT</th>\n",
       "      <th>AUTHOR</th>\n",
       "    </tr>\n",
       "  </thead>\n",
       "  <tbody>\n",
       "    <tr>\n",
       "      <th>501666</th>\n",
       "      <td>\"It's the right planet.\" A portion of his past...</td>\n",
       "      <td>NORA_ROBERTS_DATASET</td>\n",
       "    </tr>\n",
       "    <tr>\n",
       "      <th>501667</th>\n",
       "      <td>“The Campions?” I said.</td>\n",
       "      <td>DAVID_BALDACCI_COLLECTION_DATASET</td>\n",
       "    </tr>\n",
       "    <tr>\n",
       "      <th>501668</th>\n",
       "      <td>Rufus was already nodding. \"Everything. I know...</td>\n",
       "      <td>DAVID_BALDACCI_COLLECTION_DATASET</td>\n",
       "    </tr>\n",
       "    <tr>\n",
       "      <th>501669</th>\n",
       "      <td>made, however, he ought to add a clockwise sti...</td>\n",
       "      <td>THE_HARRY_POTTER_COMPLETE_DATASET</td>\n",
       "    </tr>\n",
       "    <tr>\n",
       "      <th>501670</th>\n",
       "      <td>Kaladin stepped into the light and found a man...</td>\n",
       "      <td>BRANDON_SANDERSON_COLLECTION_EPUB_DATASET</td>\n",
       "    </tr>\n",
       "    <tr>\n",
       "      <th>...</th>\n",
       "      <td>...</td>\n",
       "      <td>...</td>\n",
       "    </tr>\n",
       "    <tr>\n",
       "      <th>1003327</th>\n",
       "      <td>“Maybe we’ll give her a kind of double feature...</td>\n",
       "      <td>NORA_ROBERTS_DATASET</td>\n",
       "    </tr>\n",
       "    <tr>\n",
       "      <th>1003328</th>\n",
       "      <td>McGee and Mrs. Baker stared at her, and there ...</td>\n",
       "      <td>DEAN_KOONTZ_DATASET</td>\n",
       "    </tr>\n",
       "    <tr>\n",
       "      <th>1003329</th>\n",
       "      <td>“Let’s find out,” said Harry. He pushed the do...</td>\n",
       "      <td>THE_HARRY_POTTER_COMPLETE_DATASET</td>\n",
       "    </tr>\n",
       "    <tr>\n",
       "      <th>1003330</th>\n",
       "      <td>“Now, Mr. Duvall, you know that everything on ...</td>\n",
       "      <td>DAVID_BALDACCI_COLLECTION_DATASET</td>\n",
       "    </tr>\n",
       "    <tr>\n",
       "      <th>1003331</th>\n",
       "      <td>Yes, he was distracting her. Kate was already ...</td>\n",
       "      <td>NORA_ROBERTS_DATASET</td>\n",
       "    </tr>\n",
       "  </tbody>\n",
       "</table>\n",
       "<p>501666 rows × 2 columns</p>\n",
       "</div>"
      ],
      "text/plain": [
       "                                                      TEXT  \\\n",
       "501666   \"It's the right planet.\" A portion of his past...   \n",
       "501667                             “The Campions?” I said.   \n",
       "501668   Rufus was already nodding. \"Everything. I know...   \n",
       "501669   made, however, he ought to add a clockwise sti...   \n",
       "501670   Kaladin stepped into the light and found a man...   \n",
       "...                                                    ...   \n",
       "1003327  “Maybe we’ll give her a kind of double feature...   \n",
       "1003328  McGee and Mrs. Baker stared at her, and there ...   \n",
       "1003329  “Let’s find out,” said Harry. He pushed the do...   \n",
       "1003330  “Now, Mr. Duvall, you know that everything on ...   \n",
       "1003331  Yes, he was distracting her. Kate was already ...   \n",
       "\n",
       "                                            AUTHOR  \n",
       "501666                        NORA_ROBERTS_DATASET  \n",
       "501667           DAVID_BALDACCI_COLLECTION_DATASET  \n",
       "501668           DAVID_BALDACCI_COLLECTION_DATASET  \n",
       "501669           THE_HARRY_POTTER_COMPLETE_DATASET  \n",
       "501670   BRANDON_SANDERSON_COLLECTION_EPUB_DATASET  \n",
       "...                                            ...  \n",
       "1003327                       NORA_ROBERTS_DATASET  \n",
       "1003328                        DEAN_KOONTZ_DATASET  \n",
       "1003329          THE_HARRY_POTTER_COMPLETE_DATASET  \n",
       "1003330          DAVID_BALDACCI_COLLECTION_DATASET  \n",
       "1003331                       NORA_ROBERTS_DATASET  \n",
       "\n",
       "[501666 rows x 2 columns]"
      ]
     },
     "execution_count": 15,
     "metadata": {},
     "output_type": "execute_result"
    }
   ],
   "source": [
    "df_02"
   ]
  },
  {
   "cell_type": "code",
   "execution_count": null,
   "id": "18ae059b-2989-4dac-9378-92ebb88aeaa8",
   "metadata": {},
   "outputs": [],
   "source": []
  },
  {
   "cell_type": "code",
   "execution_count": null,
   "id": "266441a9-6732-45cc-a984-9ce291e1aa83",
   "metadata": {},
   "outputs": [],
   "source": []
  },
  {
   "cell_type": "code",
   "execution_count": 47,
   "id": "fb93b0cf-bd28-48ce-bbf1-d3c1cd2ec330",
   "metadata": {},
   "outputs": [],
   "source": [
    "list_csv_export = [f\"\"\"df_{str(idx+1).zfill(2)}.sample(10_000).reset_index(drop=True).to_csv('./TEST_ENVIRONMENT/BATCH_{str(idx+1).zfill(2)}/FICTION_DATASET_BATCH_{str(idx+1).zfill(2)}.csv', encoding='utf-8', index=False)\n",
    "\n",
    "\"\"\".strip() for (idx,d) in enumerate(list_dfs)]"
   ]
  },
  {
   "cell_type": "code",
   "execution_count": 49,
   "id": "63584462-f5fe-4e82-a1f6-e9c67388aa9e",
   "metadata": {},
   "outputs": [],
   "source": [
    "for command in list_csv_export:\n",
    "    print(command)"
   ]
  },
  {
   "cell_type": "code",
   "execution_count": 19,
   "id": "52f18aa2-f405-45aa-bacb-5dad042187c5",
   "metadata": {},
   "outputs": [],
   "source": []
  },
  {
   "cell_type": "code",
   "execution_count": 27,
   "id": "e93838dc-8942-42cc-9bca-f08275791c08",
   "metadata": {},
   "outputs": [],
   "source": [
    "list_pkl_export = [f\"\"\"df_{str(idx+1).zfill(2)}.reset_index(drop=True).to_pickle('FICTION_BATCHES/BATCH_{str(idx+1).zfill(2)}/FICTION_DATASET_BATCH_{str(idx+1).zfill(2)}.pkl')\n",
    "\n",
    "\"\"\".strip() for (idx,d) in enumerate(list_dfs)]"
   ]
  },
  {
   "cell_type": "code",
   "execution_count": 28,
   "id": "88f8536d-8903-494b-98d8-6fbbe663c5f6",
   "metadata": {},
   "outputs": [],
   "source": [
    "for i in list_pkl_export:\n",
    "    print(i)"
   ]
  },
  {
   "cell_type": "code",
   "execution_count": 41,
   "id": "d7dc2cc0-abb7-42a2-8fd0-9e9d4d71094c",
   "metadata": {},
   "outputs": [
    {
     "data": {
      "text/plain": [
       "'/home/jupyter'"
      ]
     },
     "execution_count": 41,
     "metadata": {},
     "output_type": "execute_result"
    }
   ],
   "source": [
    "pwd"
   ]
  },
  {
   "cell_type": "code",
   "execution_count": null,
   "id": "74a58608-badb-416c-b563-dec3515723cd",
   "metadata": {},
   "outputs": [],
   "source": []
  },
  {
   "cell_type": "code",
   "execution_count": 50,
   "id": "78c9ef8e-9f76-43c1-b912-abf04a3636cd",
   "metadata": {},
   "outputs": [],
   "source": [
    "# for (idx, i) in enumerate(list_dfs):\n",
    "#     folder_name = f\"BATCH_{str(idx+1).zfill(2)}\"\n",
    "#     os.mkdir(f'./TEST_ENVIRONMENT/{folder_name}')"
   ]
  },
  {
   "cell_type": "code",
   "execution_count": null,
   "id": "6b5acf81-4ca7-4b96-bf01-703526ee2ac0",
   "metadata": {},
   "outputs": [],
   "source": []
  }
 ],
 "metadata": {
  "environment": {
   "kernel": "python3",
   "name": "common-cpu.m93",
   "type": "gcloud",
   "uri": "gcr.io/deeplearning-platform-release/base-cpu:m93"
  },
  "kernelspec": {
   "display_name": "Python 3",
   "language": "python",
   "name": "python3"
  },
  "language_info": {
   "codemirror_mode": {
    "name": "ipython",
    "version": 3
   },
   "file_extension": ".py",
   "mimetype": "text/x-python",
   "name": "python",
   "nbconvert_exporter": "python",
   "pygments_lexer": "ipython3",
   "version": "3.7.12"
  }
 },
 "nbformat": 4,
 "nbformat_minor": 5
}
