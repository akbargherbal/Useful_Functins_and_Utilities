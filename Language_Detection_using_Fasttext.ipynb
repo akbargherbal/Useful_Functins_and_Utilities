{
 "cells": [
  {
   "cell_type": "code",
   "execution_count": 2,
   "metadata": {},
   "outputs": [],
   "source": [
    "import pandas as pd"
   ]
  },
  {
   "cell_type": "code",
   "execution_count": 3,
   "metadata": {},
   "outputs": [],
   "source": [
    "import regex as re"
   ]
  },
  {
   "cell_type": "code",
   "execution_count": 4,
   "metadata": {},
   "outputs": [],
   "source": [
    "from itertools import chain\n",
    "from collections import Counter"
   ]
  },
  {
   "cell_type": "code",
   "execution_count": 5,
   "metadata": {},
   "outputs": [],
   "source": [
    "import os\n",
    "from itertools import chain"
   ]
  },
  {
   "cell_type": "code",
   "execution_count": 6,
   "metadata": {},
   "outputs": [],
   "source": [
    "df = pd.read_json('simple_news_scraper/steel_news.json', encoding='utf-8')"
   ]
  },
  {
   "cell_type": "code",
   "execution_count": 7,
   "metadata": {},
   "outputs": [],
   "source": [
    "df = df.explode(['TEXT']).reset_index(drop=True)"
   ]
  },
  {
   "cell_type": "code",
   "execution_count": 8,
   "metadata": {},
   "outputs": [],
   "source": [
    "df.TEXT = df.TEXT.apply(lambda x: x.strip())"
   ]
  },
  {
   "cell_type": "code",
   "execution_count": 9,
   "metadata": {},
   "outputs": [],
   "source": [
    "df = df.dropna().reset_index(drop=True)"
   ]
  },
  {
   "cell_type": "code",
   "execution_count": 10,
   "metadata": {},
   "outputs": [],
   "source": [
    "dict_duplicated = dict(df.TEXT.value_counts().head(20))"
   ]
  },
  {
   "cell_type": "code",
   "execution_count": 11,
   "metadata": {},
   "outputs": [],
   "source": [
    "dict_duplicated = {k:v for k,v in dict_duplicated.items() if v>100}"
   ]
  },
  {
   "cell_type": "code",
   "execution_count": 12,
   "metadata": {},
   "outputs": [],
   "source": [
    "df = df[df.TEXT.apply(lambda x: x not in dict_duplicated)].reset_index(drop=True)"
   ]
  },
  {
   "cell_type": "code",
   "execution_count": 13,
   "metadata": {},
   "outputs": [
    {
     "data": {
      "text/plain": [
       "19"
      ]
     },
     "execution_count": 13,
     "metadata": {},
     "output_type": "execute_result"
    }
   ],
   "source": [
    "len(dict_duplicated)"
   ]
  },
  {
   "cell_type": "code",
   "execution_count": 14,
   "metadata": {},
   "outputs": [
    {
     "data": {
      "text/plain": [
       "{'[email\\xa0protected]': 4912,\n",
       " 'بريد الكتروني :': 2628,\n",
       " '': 2207,\n",
       " 'Mail:': 2145,\n",
       " 'مكتب القاهرة الاقليمي': 1317,\n",
       " 'الاتحاد هو منظمة غير حكومية ذات طبيعة خاصة ، وليس لها طابع سياسي أو تجاري.': 1316,\n",
       " 'هاتف +21323304221 فاكس +21323304254': 1316,\n",
       " 'يعمل الاتحاد في مجال إعداد الدراسات وتنظيم الدورات وعقد المؤتمرات الدورية لازدهار صناعة الحديد والصلب العربية، ويضم الاتحاد شريحة واسعة من الشركات متعددة الأنشطة متعلقة بصناعة الحديد والصلب.': 1316,\n",
       " 'هاتف +20233356219 فاكس +20233374790': 1316,\n",
       " 'الامانة العامة': 1316,\n",
       " 'تأسس الاتحاد العربي للحديد والصلب في الجزائر عام 1971 كأول اتحاد عربي للدول العربية يتم إنشاؤه تحت مظلة مجلس الوحدة الاقتصادية في جامعة الدول العربية.': 1316,\n",
       " 'Cairo Regional Office': 1076,\n",
       " 'Arab Iron and Steel Union ( AISU ) was established in Algeria in 1971 as the first Arab union of Arab countries to be established under the umbrella of the Council of Economic Unity in the League of Arab States.': 1075,\n",
       " 'AISU is a non-governmental organization of a private nature, not of a political or commercial nature.': 1075,\n",
       " 'AISU works in the field of preparing studies, organizing courses and holding periodic conferences for the prosperity of the Arab iron and steel industry. The union includes a wide range of companies with multiple activities related to the iron and steel industry.': 1075,\n",
       " 'General Secretariat': 1075,\n",
       " 'Tel +21323304221 Fax +21323304254': 1075,\n",
       " 'Tel +20233356219 Fax +20233374790': 1075,\n",
       " '🟢': 104}"
      ]
     },
     "execution_count": 14,
     "metadata": {},
     "output_type": "execute_result"
    }
   ],
   "source": [
    "dict_duplicated"
   ]
  },
  {
   "cell_type": "code",
   "execution_count": 15,
   "metadata": {},
   "outputs": [
    {
     "data": {
      "text/html": [
       "<div>\n",
       "<style scoped>\n",
       "    .dataframe tbody tr th:only-of-type {\n",
       "        vertical-align: middle;\n",
       "    }\n",
       "\n",
       "    .dataframe tbody tr th {\n",
       "        vertical-align: top;\n",
       "    }\n",
       "\n",
       "    .dataframe thead th {\n",
       "        text-align: right;\n",
       "    }\n",
       "</style>\n",
       "<table border=\"1\" class=\"dataframe\">\n",
       "  <thead>\n",
       "    <tr style=\"text-align: right;\">\n",
       "      <th></th>\n",
       "      <th>URL</th>\n",
       "      <th>TEXT</th>\n",
       "    </tr>\n",
       "  </thead>\n",
       "  <tbody>\n",
       "    <tr>\n",
       "      <th>0</th>\n",
       "      <td>https://aisusteel.org/en/12537/</td>\n",
       "      <td>The modified unaudited financial results of th...</td>\n",
       "    </tr>\n",
       "    <tr>\n",
       "      <th>1</th>\n",
       "      <td>https://aisusteel.org/en/12537/</td>\n",
       "      <td>Sales slumped to EGP 1.08 billion in the year ...</td>\n",
       "    </tr>\n",
       "    <tr>\n",
       "      <th>2</th>\n",
       "      <td>https://aisusteel.org/en/12537/</td>\n",
       "      <td>During the first nine months of FY19/20, the c...</td>\n",
       "    </tr>\n",
       "    <tr>\n",
       "      <th>3</th>\n",
       "      <td>https://aisusteel.org/en/6518/</td>\n",
       "      <td>Nucor Steel has awarded SMS group, Inc. the co...</td>\n",
       "    </tr>\n",
       "    <tr>\n",
       "      <th>4</th>\n",
       "      <td>https://aisusteel.org/en/6518/</td>\n",
       "      <td>The scope includes two 190 metric ton direct c...</td>\n",
       "    </tr>\n",
       "    <tr>\n",
       "      <th>...</th>\n",
       "      <td>...</td>\n",
       "      <td>...</td>\n",
       "    </tr>\n",
       "    <tr>\n",
       "      <th>13429</th>\n",
       "      <td>https://aisusteel.org/en/9028/</td>\n",
       "      <td>Meanwhile, in the first five months of this ye...</td>\n",
       "    </tr>\n",
       "    <tr>\n",
       "      <th>13430</th>\n",
       "      <td>https://aisusteel.org/en/9028/</td>\n",
       "      <td>In the given period, Russia ranked first among...</td>\n",
       "    </tr>\n",
       "    <tr>\n",
       "      <th>13431</th>\n",
       "      <td>https://aisusteel.org/9745/</td>\n",
       "      <td>تمكن منتجو حديد التسليح في تركيا من زيادة صادر...</td>\n",
       "    </tr>\n",
       "    <tr>\n",
       "      <th>13432</th>\n",
       "      <td>https://aisusteel.org/9745/</td>\n",
       "      <td>وخلال الفترة من يناير إلى أغسطس ازدات صادرات ت...</td>\n",
       "    </tr>\n",
       "    <tr>\n",
       "      <th>13433</th>\n",
       "      <td>https://aisusteel.org/9745/</td>\n",
       "      <td>اما الدول العربية جاءت اليمن فى المرتبة الثاني...</td>\n",
       "    </tr>\n",
       "  </tbody>\n",
       "</table>\n",
       "<p>13434 rows × 2 columns</p>\n",
       "</div>"
      ],
      "text/plain": [
       "                                   URL  \\\n",
       "0      https://aisusteel.org/en/12537/   \n",
       "1      https://aisusteel.org/en/12537/   \n",
       "2      https://aisusteel.org/en/12537/   \n",
       "3       https://aisusteel.org/en/6518/   \n",
       "4       https://aisusteel.org/en/6518/   \n",
       "...                                ...   \n",
       "13429   https://aisusteel.org/en/9028/   \n",
       "13430   https://aisusteel.org/en/9028/   \n",
       "13431      https://aisusteel.org/9745/   \n",
       "13432      https://aisusteel.org/9745/   \n",
       "13433      https://aisusteel.org/9745/   \n",
       "\n",
       "                                                    TEXT  \n",
       "0      The modified unaudited financial results of th...  \n",
       "1      Sales slumped to EGP 1.08 billion in the year ...  \n",
       "2      During the first nine months of FY19/20, the c...  \n",
       "3      Nucor Steel has awarded SMS group, Inc. the co...  \n",
       "4      The scope includes two 190 metric ton direct c...  \n",
       "...                                                  ...  \n",
       "13429  Meanwhile, in the first five months of this ye...  \n",
       "13430  In the given period, Russia ranked first among...  \n",
       "13431  تمكن منتجو حديد التسليح في تركيا من زيادة صادر...  \n",
       "13432  وخلال الفترة من يناير إلى أغسطس ازدات صادرات ت...  \n",
       "13433  اما الدول العربية جاءت اليمن فى المرتبة الثاني...  \n",
       "\n",
       "[13434 rows x 2 columns]"
      ]
     },
     "execution_count": 15,
     "metadata": {},
     "output_type": "execute_result"
    }
   ],
   "source": [
    "df"
   ]
  },
  {
   "cell_type": "code",
   "execution_count": 16,
   "metadata": {},
   "outputs": [
    {
     "name": "stderr",
     "output_type": "stream",
     "text": [
      "Warning : `load_model` does not return WordVectorModel or SupervisedModel any more, but a `FastText` object which is very similar.\n"
     ]
    }
   ],
   "source": [
    "import fasttext\n",
    "model_loc = '../DATASETS/Fasttext_Languate_Detection/lid.176.bin'\n",
    "model = fasttext.load_model(model_loc)"
   ]
  },
  {
   "cell_type": "code",
   "execution_count": 17,
   "metadata": {},
   "outputs": [],
   "source": [
    "import regex as re"
   ]
  },
  {
   "cell_type": "code",
   "execution_count": 18,
   "metadata": {},
   "outputs": [],
   "source": [
    "def detect_lang(text):\n",
    "    fasttext_object = model.predict(text)\n",
    "    lang = fasttext_object[0]\n",
    "    score = fasttext_object[1]\n",
    "    \n",
    "    return (lang[0], score[0])"
   ]
  },
  {
   "cell_type": "code",
   "execution_count": 19,
   "metadata": {},
   "outputs": [],
   "source": [
    "df.TEXT = df['TEXT'].astype(str)"
   ]
  },
  {
   "cell_type": "code",
   "execution_count": 20,
   "metadata": {},
   "outputs": [],
   "source": [
    "df.TEXT = df.TEXT.apply(lambda x: re.sub(r'\\s+', ' ', x))"
   ]
  },
  {
   "cell_type": "code",
   "execution_count": 21,
   "metadata": {},
   "outputs": [],
   "source": [
    "df = df[df.TEXT.apply(lambda x: len(x.split())>1)].reset_index(drop=True)"
   ]
  },
  {
   "cell_type": "code",
   "execution_count": 22,
   "metadata": {},
   "outputs": [],
   "source": [
    "df['LANG'] = df['TEXT'].apply(lambda x: detect_lang(x))"
   ]
  },
  {
   "cell_type": "code",
   "execution_count": 23,
   "metadata": {},
   "outputs": [],
   "source": [
    "df['LANG_DETECT'] = df['LANG'].apply(lambda x : x[0])\n",
    "df['LANG_SCORE'] = df['LANG'].apply(lambda x : x[1])"
   ]
  },
  {
   "cell_type": "code",
   "execution_count": 24,
   "metadata": {},
   "outputs": [],
   "source": [
    "df_en = df[df.LANG_DETECT == '__label__en'].reset_index(drop=True)"
   ]
  },
  {
   "cell_type": "code",
   "execution_count": 25,
   "metadata": {},
   "outputs": [
    {
     "data": {
      "text/html": [
       "<div>\n",
       "<style scoped>\n",
       "    .dataframe tbody tr th:only-of-type {\n",
       "        vertical-align: middle;\n",
       "    }\n",
       "\n",
       "    .dataframe tbody tr th {\n",
       "        vertical-align: top;\n",
       "    }\n",
       "\n",
       "    .dataframe thead th {\n",
       "        text-align: right;\n",
       "    }\n",
       "</style>\n",
       "<table border=\"1\" class=\"dataframe\">\n",
       "  <thead>\n",
       "    <tr style=\"text-align: right;\">\n",
       "      <th></th>\n",
       "      <th>URL</th>\n",
       "      <th>TEXT</th>\n",
       "      <th>LANG</th>\n",
       "      <th>LANG_DETECT</th>\n",
       "      <th>LANG_SCORE</th>\n",
       "    </tr>\n",
       "  </thead>\n",
       "  <tbody>\n",
       "    <tr>\n",
       "      <th>0</th>\n",
       "      <td>https://aisusteel.org/en/12537/</td>\n",
       "      <td>The modified unaudited financial results of th...</td>\n",
       "      <td>(__label__en, 0.943916380405426)</td>\n",
       "      <td>__label__en</td>\n",
       "      <td>0.943916</td>\n",
       "    </tr>\n",
       "    <tr>\n",
       "      <th>1</th>\n",
       "      <td>https://aisusteel.org/en/12537/</td>\n",
       "      <td>Sales slumped to EGP 1.08 billion in the year ...</td>\n",
       "      <td>(__label__en, 0.964730978012085)</td>\n",
       "      <td>__label__en</td>\n",
       "      <td>0.964731</td>\n",
       "    </tr>\n",
       "    <tr>\n",
       "      <th>2</th>\n",
       "      <td>https://aisusteel.org/en/12537/</td>\n",
       "      <td>During the first nine months of FY19/20, the c...</td>\n",
       "      <td>(__label__en, 0.9291689991950989)</td>\n",
       "      <td>__label__en</td>\n",
       "      <td>0.929169</td>\n",
       "    </tr>\n",
       "    <tr>\n",
       "      <th>3</th>\n",
       "      <td>https://aisusteel.org/en/6518/</td>\n",
       "      <td>Nucor Steel has awarded SMS group, Inc. the co...</td>\n",
       "      <td>(__label__en, 0.9582651257514954)</td>\n",
       "      <td>__label__en</td>\n",
       "      <td>0.958265</td>\n",
       "    </tr>\n",
       "    <tr>\n",
       "      <th>4</th>\n",
       "      <td>https://aisusteel.org/en/6518/</td>\n",
       "      <td>The scope includes two 190 metric ton direct c...</td>\n",
       "      <td>(__label__en, 0.8953480124473572)</td>\n",
       "      <td>__label__en</td>\n",
       "      <td>0.895348</td>\n",
       "    </tr>\n",
       "    <tr>\n",
       "      <th>...</th>\n",
       "      <td>...</td>\n",
       "      <td>...</td>\n",
       "      <td>...</td>\n",
       "      <td>...</td>\n",
       "      <td>...</td>\n",
       "    </tr>\n",
       "    <tr>\n",
       "      <th>5186</th>\n",
       "      <td>https://aisusteel.org/en/10150/</td>\n",
       "      <td>Arab countries’ production of crude steel</td>\n",
       "      <td>(__label__en, 0.6892220973968506)</td>\n",
       "      <td>__label__en</td>\n",
       "      <td>0.689222</td>\n",
       "    </tr>\n",
       "    <tr>\n",
       "      <th>5187</th>\n",
       "      <td>https://aisusteel.org/en/9028/</td>\n",
       "      <td>According to the data provided by the Turkish ...</td>\n",
       "      <td>(__label__en, 0.9031760096549988)</td>\n",
       "      <td>__label__en</td>\n",
       "      <td>0.903176</td>\n",
       "    </tr>\n",
       "    <tr>\n",
       "      <th>5188</th>\n",
       "      <td>https://aisusteel.org/en/9028/</td>\n",
       "      <td>The revenue from these imports amounted to $41...</td>\n",
       "      <td>(__label__en, 0.9179209470748901)</td>\n",
       "      <td>__label__en</td>\n",
       "      <td>0.917921</td>\n",
       "    </tr>\n",
       "    <tr>\n",
       "      <th>5189</th>\n",
       "      <td>https://aisusteel.org/en/9028/</td>\n",
       "      <td>Meanwhile, in the first five months of this ye...</td>\n",
       "      <td>(__label__en, 0.8969374895095825)</td>\n",
       "      <td>__label__en</td>\n",
       "      <td>0.896937</td>\n",
       "    </tr>\n",
       "    <tr>\n",
       "      <th>5190</th>\n",
       "      <td>https://aisusteel.org/en/9028/</td>\n",
       "      <td>In the given period, Russia ranked first among...</td>\n",
       "      <td>(__label__en, 0.9309320449829102)</td>\n",
       "      <td>__label__en</td>\n",
       "      <td>0.930932</td>\n",
       "    </tr>\n",
       "  </tbody>\n",
       "</table>\n",
       "<p>5191 rows × 5 columns</p>\n",
       "</div>"
      ],
      "text/plain": [
       "                                  URL  \\\n",
       "0     https://aisusteel.org/en/12537/   \n",
       "1     https://aisusteel.org/en/12537/   \n",
       "2     https://aisusteel.org/en/12537/   \n",
       "3      https://aisusteel.org/en/6518/   \n",
       "4      https://aisusteel.org/en/6518/   \n",
       "...                               ...   \n",
       "5186  https://aisusteel.org/en/10150/   \n",
       "5187   https://aisusteel.org/en/9028/   \n",
       "5188   https://aisusteel.org/en/9028/   \n",
       "5189   https://aisusteel.org/en/9028/   \n",
       "5190   https://aisusteel.org/en/9028/   \n",
       "\n",
       "                                                   TEXT  \\\n",
       "0     The modified unaudited financial results of th...   \n",
       "1     Sales slumped to EGP 1.08 billion in the year ...   \n",
       "2     During the first nine months of FY19/20, the c...   \n",
       "3     Nucor Steel has awarded SMS group, Inc. the co...   \n",
       "4     The scope includes two 190 metric ton direct c...   \n",
       "...                                                 ...   \n",
       "5186          Arab countries’ production of crude steel   \n",
       "5187  According to the data provided by the Turkish ...   \n",
       "5188  The revenue from these imports amounted to $41...   \n",
       "5189  Meanwhile, in the first five months of this ye...   \n",
       "5190  In the given period, Russia ranked first among...   \n",
       "\n",
       "                                   LANG  LANG_DETECT  LANG_SCORE  \n",
       "0      (__label__en, 0.943916380405426)  __label__en    0.943916  \n",
       "1      (__label__en, 0.964730978012085)  __label__en    0.964731  \n",
       "2     (__label__en, 0.9291689991950989)  __label__en    0.929169  \n",
       "3     (__label__en, 0.9582651257514954)  __label__en    0.958265  \n",
       "4     (__label__en, 0.8953480124473572)  __label__en    0.895348  \n",
       "...                                 ...          ...         ...  \n",
       "5186  (__label__en, 0.6892220973968506)  __label__en    0.689222  \n",
       "5187  (__label__en, 0.9031760096549988)  __label__en    0.903176  \n",
       "5188  (__label__en, 0.9179209470748901)  __label__en    0.917921  \n",
       "5189  (__label__en, 0.8969374895095825)  __label__en    0.896937  \n",
       "5190  (__label__en, 0.9309320449829102)  __label__en    0.930932  \n",
       "\n",
       "[5191 rows x 5 columns]"
      ]
     },
     "execution_count": 25,
     "metadata": {},
     "output_type": "execute_result"
    }
   ],
   "source": [
    "df_en"
   ]
  },
  {
   "cell_type": "code",
   "execution_count": 26,
   "metadata": {},
   "outputs": [],
   "source": [
    "df_ar = df[df.LANG_DETECT == '__label__ar'].reset_index(drop=True)"
   ]
  },
  {
   "cell_type": "code",
   "execution_count": 27,
   "metadata": {},
   "outputs": [
    {
     "data": {
      "text/html": [
       "<div>\n",
       "<style scoped>\n",
       "    .dataframe tbody tr th:only-of-type {\n",
       "        vertical-align: middle;\n",
       "    }\n",
       "\n",
       "    .dataframe tbody tr th {\n",
       "        vertical-align: top;\n",
       "    }\n",
       "\n",
       "    .dataframe thead th {\n",
       "        text-align: right;\n",
       "    }\n",
       "</style>\n",
       "<table border=\"1\" class=\"dataframe\">\n",
       "  <thead>\n",
       "    <tr style=\"text-align: right;\">\n",
       "      <th></th>\n",
       "      <th>URL</th>\n",
       "      <th>TEXT</th>\n",
       "      <th>LANG</th>\n",
       "      <th>LANG_DETECT</th>\n",
       "      <th>LANG_SCORE</th>\n",
       "    </tr>\n",
       "  </thead>\n",
       "  <tbody>\n",
       "    <tr>\n",
       "      <th>0</th>\n",
       "      <td>https://aisusteel.org/8328/</td>\n",
       "      <td>شهد قطاع الصلب في الصين توسعا في الإنتاج في ال...</td>\n",
       "      <td>(__label__ar, 0.9988604784011841)</td>\n",
       "      <td>__label__ar</td>\n",
       "      <td>0.998860</td>\n",
       "    </tr>\n",
       "    <tr>\n",
       "      <th>1</th>\n",
       "      <td>https://aisusteel.org/8328/</td>\n",
       "      <td>وفي الفترة من يناير إلى مارس، ارتفع إنتاج الصل...</td>\n",
       "      <td>(__label__ar, 0.99996018409729)</td>\n",
       "      <td>__label__ar</td>\n",
       "      <td>0.999960</td>\n",
       "    </tr>\n",
       "    <tr>\n",
       "      <th>2</th>\n",
       "      <td>https://aisusteel.org/8328/</td>\n",
       "      <td>وذكرت الجمعية، نقلا عن بيانات من الهيئة الوطني...</td>\n",
       "      <td>(__label__ar, 0.9993679523468018)</td>\n",
       "      <td>__label__ar</td>\n",
       "      <td>0.999368</td>\n",
       "    </tr>\n",
       "    <tr>\n",
       "      <th>3</th>\n",
       "      <td>https://aisusteel.org/8328/</td>\n",
       "      <td>وأظهرت البيانات أن إنتاج الحديد الخام ارتفع 8 ...</td>\n",
       "      <td>(__label__ar, 0.9998103976249695)</td>\n",
       "      <td>__label__ar</td>\n",
       "      <td>0.999810</td>\n",
       "    </tr>\n",
       "    <tr>\n",
       "      <th>4</th>\n",
       "      <td>https://aisusteel.org/8328/</td>\n",
       "      <td>وقالت الجمعية إنه مع استمرار تعافي الصناعات ال...</td>\n",
       "      <td>(__label__ar, 0.9983462691307068)</td>\n",
       "      <td>__label__ar</td>\n",
       "      <td>0.998346</td>\n",
       "    </tr>\n",
       "    <tr>\n",
       "      <th>...</th>\n",
       "      <td>...</td>\n",
       "      <td>...</td>\n",
       "      <td>...</td>\n",
       "      <td>...</td>\n",
       "      <td>...</td>\n",
       "    </tr>\n",
       "    <tr>\n",
       "      <th>6735</th>\n",
       "      <td>https://aisusteel.org/10037/</td>\n",
       "      <td>في إطار الجهود المبذولة لتعزيز التعاون بين الج...</td>\n",
       "      <td>(__label__ar, 0.9948592185974121)</td>\n",
       "      <td>__label__ar</td>\n",
       "      <td>0.994859</td>\n",
       "    </tr>\n",
       "    <tr>\n",
       "      <th>6736</th>\n",
       "      <td>https://aisusteel.org/10037/</td>\n",
       "      <td>أقيمت الاحتفالية بالمقر الرئيسي لمجمع ايميتال ...</td>\n",
       "      <td>(__label__ar, 0.9952947497367859)</td>\n",
       "      <td>__label__ar</td>\n",
       "      <td>0.995295</td>\n",
       "    </tr>\n",
       "    <tr>\n",
       "      <th>6737</th>\n",
       "      <td>https://aisusteel.org/9745/</td>\n",
       "      <td>تمكن منتجو حديد التسليح في تركيا من زيادة صادر...</td>\n",
       "      <td>(__label__ar, 0.9994086027145386)</td>\n",
       "      <td>__label__ar</td>\n",
       "      <td>0.999409</td>\n",
       "    </tr>\n",
       "    <tr>\n",
       "      <th>6738</th>\n",
       "      <td>https://aisusteel.org/9745/</td>\n",
       "      <td>وخلال الفترة من يناير إلى أغسطس ازدات صادرات ت...</td>\n",
       "      <td>(__label__ar, 0.9992495179176331)</td>\n",
       "      <td>__label__ar</td>\n",
       "      <td>0.999250</td>\n",
       "    </tr>\n",
       "    <tr>\n",
       "      <th>6739</th>\n",
       "      <td>https://aisusteel.org/9745/</td>\n",
       "      <td>اما الدول العربية جاءت اليمن فى المرتبة الثاني...</td>\n",
       "      <td>(__label__ar, 0.9600973725318909)</td>\n",
       "      <td>__label__ar</td>\n",
       "      <td>0.960097</td>\n",
       "    </tr>\n",
       "  </tbody>\n",
       "</table>\n",
       "<p>6740 rows × 5 columns</p>\n",
       "</div>"
      ],
      "text/plain": [
       "                               URL  \\\n",
       "0      https://aisusteel.org/8328/   \n",
       "1      https://aisusteel.org/8328/   \n",
       "2      https://aisusteel.org/8328/   \n",
       "3      https://aisusteel.org/8328/   \n",
       "4      https://aisusteel.org/8328/   \n",
       "...                            ...   \n",
       "6735  https://aisusteel.org/10037/   \n",
       "6736  https://aisusteel.org/10037/   \n",
       "6737   https://aisusteel.org/9745/   \n",
       "6738   https://aisusteel.org/9745/   \n",
       "6739   https://aisusteel.org/9745/   \n",
       "\n",
       "                                                   TEXT  \\\n",
       "0     شهد قطاع الصلب في الصين توسعا في الإنتاج في ال...   \n",
       "1     وفي الفترة من يناير إلى مارس، ارتفع إنتاج الصل...   \n",
       "2     وذكرت الجمعية، نقلا عن بيانات من الهيئة الوطني...   \n",
       "3     وأظهرت البيانات أن إنتاج الحديد الخام ارتفع 8 ...   \n",
       "4     وقالت الجمعية إنه مع استمرار تعافي الصناعات ال...   \n",
       "...                                                 ...   \n",
       "6735  في إطار الجهود المبذولة لتعزيز التعاون بين الج...   \n",
       "6736  أقيمت الاحتفالية بالمقر الرئيسي لمجمع ايميتال ...   \n",
       "6737  تمكن منتجو حديد التسليح في تركيا من زيادة صادر...   \n",
       "6738  وخلال الفترة من يناير إلى أغسطس ازدات صادرات ت...   \n",
       "6739  اما الدول العربية جاءت اليمن فى المرتبة الثاني...   \n",
       "\n",
       "                                   LANG  LANG_DETECT  LANG_SCORE  \n",
       "0     (__label__ar, 0.9988604784011841)  __label__ar    0.998860  \n",
       "1       (__label__ar, 0.99996018409729)  __label__ar    0.999960  \n",
       "2     (__label__ar, 0.9993679523468018)  __label__ar    0.999368  \n",
       "3     (__label__ar, 0.9998103976249695)  __label__ar    0.999810  \n",
       "4     (__label__ar, 0.9983462691307068)  __label__ar    0.998346  \n",
       "...                                 ...          ...         ...  \n",
       "6735  (__label__ar, 0.9948592185974121)  __label__ar    0.994859  \n",
       "6736  (__label__ar, 0.9952947497367859)  __label__ar    0.995295  \n",
       "6737  (__label__ar, 0.9994086027145386)  __label__ar    0.999409  \n",
       "6738  (__label__ar, 0.9992495179176331)  __label__ar    0.999250  \n",
       "6739  (__label__ar, 0.9600973725318909)  __label__ar    0.960097  \n",
       "\n",
       "[6740 rows x 5 columns]"
      ]
     },
     "execution_count": 27,
     "metadata": {},
     "output_type": "execute_result"
    }
   ],
   "source": [
    "df_ar"
   ]
  },
  {
   "cell_type": "code",
   "execution_count": null,
   "metadata": {},
   "outputs": [],
   "source": []
  },
  {
   "cell_type": "code",
   "execution_count": null,
   "metadata": {},
   "outputs": [],
   "source": []
  },
  {
   "cell_type": "code",
   "execution_count": null,
   "metadata": {},
   "outputs": [],
   "source": []
  },
  {
   "cell_type": "code",
   "execution_count": null,
   "metadata": {},
   "outputs": [],
   "source": []
  }
 ],
 "metadata": {
  "kernelspec": {
   "display_name": "Python 3",
   "language": "python",
   "name": "python3"
  },
  "language_info": {
   "codemirror_mode": {
    "name": "ipython",
    "version": 3
   },
   "file_extension": ".py",
   "mimetype": "text/x-python",
   "name": "python",
   "nbconvert_exporter": "python",
   "pygments_lexer": "ipython3",
   "version": "3.8.7"
  }
 },
 "nbformat": 4,
 "nbformat_minor": 4
}
